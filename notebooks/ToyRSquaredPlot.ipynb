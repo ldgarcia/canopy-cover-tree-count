{
  "nbformat": 4,
  "nbformat_minor": 0,
  "metadata": {
    "colab": {
      "name": "RSquaredPlot.ipynb",
      "provenance": [],
      "authorship_tag": "ABX9TyN8liph1L1Yugf51UNT5p+I"
    },
    "kernelspec": {
      "name": "python3",
      "display_name": "Python 3"
    },
    "language_info": {
      "name": "python"
    }
  },
  "cells": [
    {
      "cell_type": "markdown",
      "metadata": {
        "id": "NMvK52k0-h-7"
      },
      "source": [
        "# References\n",
        "[1] Chicco, D., Warrens, M. J., & Jurman, G. (2021). The coefficient of determination R-squared is more informative than SMAPE, MAE, MAPE, MSE and RMSE in regression analysis evaluation. PeerJ Computer Science, 7, e623."
      ]
    },
    {
      "cell_type": "markdown",
      "metadata": {
        "id": "4XGuczqkx1O8"
      },
      "source": [
        "In this notebook we aim to replicate the table in the \"UC3 use case\" example from [1]. Additionally, we generate a plot to illustrate the interpretation of the $R^2$ metric in our report."
      ]
    },
    {
      "cell_type": "code",
      "metadata": {
        "id": "0p-4JUUnxf_q"
      },
      "source": [
        "import numpy as np\n",
        "import matplotlib.pyplot as plt"
      ],
      "execution_count": 73,
      "outputs": []
    },
    {
      "cell_type": "code",
      "metadata": {
        "id": "c1iLwi1LxiSF"
      },
      "source": [
        "ts = np.asarray([[i, i] for i in range(1, 21)])"
      ],
      "execution_count": 2,
      "outputs": []
    },
    {
      "cell_type": "code",
      "metadata": {
        "id": "OntTuykVyWpZ"
      },
      "source": [
        "rng = np.random.default_rng()\n",
        "noise = rng.normal(size=(20,))\n",
        "real = np.asarray([[i, i + n] for i, n in zip(range(1, 21), noise)])"
      ],
      "execution_count": 5,
      "outputs": []
    },
    {
      "cell_type": "code",
      "metadata": {
        "id": "8GaptAac0_K3"
      },
      "source": [
        "correct_model  = ts.copy()"
      ],
      "execution_count": 37,
      "outputs": []
    },
    {
      "cell_type": "code",
      "metadata": {
        "colab": {
          "base_uri": "https://localhost:8080/"
        },
        "id": "AgZwlHoVyv5g",
        "outputId": "e625f1c0-0f50-4041-a557-ac5ef3612f09"
      },
      "source": [
        "wrong_model = np.polynomial.polynomial.Polynomial.fit(real[0:10, 0], real[0:10, 1], 10)"
      ],
      "execution_count": 38,
      "outputs": [
        {
          "output_type": "stream",
          "text": [
            "/usr/local/lib/python3.7/dist-packages/numpy/polynomial/polynomial.py:1350: RankWarning: The fit may be poorly conditioned\n",
            "  return pu._fit(polyvander, x, y, deg, rcond, full, w)\n"
          ],
          "name": "stderr"
        }
      ]
    },
    {
      "cell_type": "code",
      "metadata": {
        "id": "-ZY1grwM6k6S"
      },
      "source": [
        "ybar = np.mean(real[:, 1])\n",
        "mst = np.mean((real[:, 1] - ybar) ** 2)\n",
        "constant_model = np.repeat(mst, real.shape[0])"
      ],
      "execution_count": 63,
      "outputs": []
    },
    {
      "cell_type": "code",
      "metadata": {
        "id": "Ew7UoDzl00_A"
      },
      "source": [
        "def r_squared(ytrue, ypred):\n",
        "  ybar = np.mean(ytrue)\n",
        "  mst = np.mean((ytrue - ybar) ** 2)\n",
        "  mse = np.mean((ypred - ytrue) ** 2)\n",
        "  return 1.0 - mse / mst"
      ],
      "execution_count": 61,
      "outputs": []
    },
    {
      "cell_type": "code",
      "metadata": {
        "id": "BLuD01IXBvub"
      },
      "source": [
        "def mse(ytrue, ypred):\n",
        "  return np.mean((ypred - ytrue) ** 2)"
      ],
      "execution_count": 101,
      "outputs": []
    },
    {
      "cell_type": "code",
      "metadata": {
        "id": "04IgYSNtDlw9"
      },
      "source": [
        "def mst(ytrue):\n",
        "  ybar = np.mean(ytrue)\n",
        "  return np.mean((ytrue - ybar) ** 2)"
      ],
      "execution_count": 113,
      "outputs": []
    },
    {
      "cell_type": "code",
      "metadata": {
        "id": "Arz7L7Ty196L"
      },
      "source": [
        "gt = real[:, 1]\n",
        "correct_preds = ts[:, 1]\n",
        "wrong_preds = wrong_model(real[:, 0])"
      ],
      "execution_count": 59,
      "outputs": []
    },
    {
      "cell_type": "code",
      "metadata": {
        "colab": {
          "base_uri": "https://localhost:8080/"
        },
        "id": "ajh8RBEF2MT1",
        "outputId": "4839b01c-a3aa-4b58-8cf5-30ac24c6f9fe"
      },
      "source": [
        "# Attempt to replicate table 2, page 12.\n",
        "for i in range(2, ts.shape[0] + 1):\n",
        "  r1 = r2_score(gt[0:i], correct_preds[0:i])\n",
        "  r2 = r2_score(gt[0:i], wrong_preds[0:i])\n",
        "  r3 = r2_score(gt[0:i], constant_model[0:i])\n",
        "  if i > 10:\n",
        "    print(i, f\"{r1:.6f}\", f\"{r2:.6E}\", f\"{r3:.6E}\")\n",
        "  else:\n",
        "    print(i, f\"{r1:.6f}\", f\"{r2:.6f}\", f\"{r3:.6f}\")"
      ],
      "execution_count": 65,
      "outputs": [
        {
          "output_type": "stream",
          "text": [
            "2 0.447837 1.000000 -729.913514\n",
            "3 0.498301 1.000000 -949.891910\n",
            "4 0.568251 1.000000 -915.366436\n",
            "5 0.774266 1.000000 -301.755974\n",
            "6 0.844247 1.000000 -218.481843\n",
            "7 0.867315 1.000000 -142.598298\n",
            "8 0.853528 1.000000 -91.615949\n",
            "9 0.878126 1.000000 -82.755425\n",
            "10 0.899598 1.000000 -68.857003\n",
            "11 0.912389 -9.817003E+01 -5.507524E+01\n",
            "12 0.920741 -8.070130E+03 -4.435916E+01\n",
            "13 0.930712 -1.897260E+05 -3.739605E+01\n",
            "14 0.939911 -2.336832E+06 -3.211259E+01\n",
            "15 0.941416 -2.035590E+07 -3.016380E+01\n",
            "16 0.932044 -1.329187E+08 -2.888020E+01\n",
            "17 0.939331 -6.461589E+08 -2.572715E+01\n",
            "18 0.947462 -2.396045E+09 -2.078834E+01\n",
            "19 0.949228 -7.537029E+09 -1.651845E+01\n",
            "20 0.954617 -2.319723E+10 -1.480752E+01\n"
          ],
          "name": "stdout"
        }
      ]
    },
    {
      "cell_type": "code",
      "metadata": {
        "id": "i5GVV5-t_XKT"
      },
      "source": [
        "r1s = []\n",
        "r2s = []\n",
        "r3s = []\n",
        "for i in range(2, ts.shape[0] + 1):\n",
        "  r1s.append(r2_score(gt[0:i], correct_preds[0:i]))\n",
        "  r2s.append(r2_score(gt[0:i], wrong_preds[0:i]))\n",
        "  r3s.append(r2_score(gt[0:i], constant_model[0:i]))"
      ],
      "execution_count": 104,
      "outputs": []
    },
    {
      "cell_type": "code",
      "metadata": {
        "id": "DH6K2e2ZBrVK"
      },
      "source": [
        "mse1 = []\n",
        "mse2 = []\n",
        "mse3 = []\n",
        "msts = []\n",
        "for i in range(2, ts.shape[0] + 1):\n",
        "  mse1.append(mse(gt[0:i], correct_preds[0:i]))\n",
        "  mse2.append(mse(gt[0:i], wrong_preds[0:i]))\n",
        "  mse3.append(mse(gt[0:i], constant_model[0:i]))\n",
        "  msts.append(mst(gt[0:i]))"
      ],
      "execution_count": 115,
      "outputs": []
    },
    {
      "cell_type": "code",
      "metadata": {
        "id": "IplNP7ps7Smy"
      },
      "source": [
        "def make_plot(n = 20):\n",
        "  n += 1\n",
        "  fig, axs = plt.subplots(1, 3, figsize=(12, 4))\n",
        "  axs[0].plot(ts[0:n, 0], correct_preds[0:n], label=\"Correct model\", color=\"purple\")\n",
        "  axs[0].plot(ts[0:n, 0], wrong_preds[0:n], label=\"Wrong model\", color=\"red\")\n",
        "  axs[0].plot(ts[0:n, 0], constant_model[0:n], label=\"Constant model\", color=\"gold\")\n",
        "  axs[0].plot(ts[0:n, 0], gt[0:n], label=\"Ground truth\", linestyle=\"dashed\")\n",
        "  axs[0].set_xlabel(\"Feature ($x$)\")\n",
        "  axs[0].set_ylabel(\"Prediction / Ground truth ($y$)\")\n",
        "  axs[0].legend()\n",
        "  axs[0].set_yscale(\"log\")\n",
        "  axs[0].set_title(\"Predictions\")\n",
        "\n",
        "  axs[1].set_xlabel(\"Number of samples (N)\")\n",
        "  axs[1].set_ylabel(\"R-squared metric\")\n",
        "  axs[1].plot(range(2, n), mse1[0:n-2], label=\"Correct model\", color=\"purple\")\n",
        "  axs[1].plot(range(2, n), mse2[0:n-2], label=\"Wrong model\", color=\"red\")\n",
        "  axs[1].plot(range(2, n), mse3[0:n-2], label=\"Constant model\", color=\"gold\")\n",
        "  axs[1].plot(range(2, n), msts[0:n-2], label=\"MST\", linestyle=\"dashed\", color=\"green\")\n",
        "  axs[1].set_yscale(\"log\")\n",
        "  axs[1].set_title(\"Mean Squared Error\")\n",
        "  axs[1].legend()\n",
        "\n",
        "  axs[2].set_xlabel(\"Number of samples (N)\")\n",
        "  axs[2].set_ylabel(\"MSE metric\")\n",
        "  axs[2].plot(range(2, n), r1s[0:n-2], label=\"Correct model\", color=\"purple\")\n",
        "  axs[2].plot(range(2, n), r2s[0:n-2], label=\"Wrong model\", color=\"red\")\n",
        "  axs[2].plot(range(2, n), r3s[0:n-2], label=\"Constant model\", color=\"gold\")\n",
        "  axs[2].set_yscale(\"symlog\")\n",
        "  axs[2].set_title(\"R-squared\")\n",
        "  axs[2].legend()\n",
        "  fig.tight_layout()\n",
        "\n",
        "  return fig"
      ],
      "execution_count": 132,
      "outputs": []
    },
    {
      "cell_type": "code",
      "metadata": {
        "colab": {
          "base_uri": "https://localhost:8080/",
          "height": 297
        },
        "id": "29hUIG-9EInA",
        "outputId": "04b46930-5d20-4501-cf9e-b25911b621d2"
      },
      "source": [
        "fig = make_plot(20)"
      ],
      "execution_count": 141,
      "outputs": [
        {
          "output_type": "display_data",
          "data": {
            "image/png": "[encoded data removed]",
            "text/plain": [
              "<Figure size 864x288 with 3 Axes>"
            ]
          },
          "metadata": {
            "tags": [],
            "needs_background": "light"
          }
        }
      ]
    },
    {
      "cell_type": "code",
      "metadata": {
        "id": "fzFVyGDvFhEX"
      },
      "source": [
        "fig.savefig(\"r_squared_example_20.pdf\", bbox_inches=\"tight\")"
      ],
      "execution_count": 142,
      "outputs": []
    },
    {
      "cell_type": "code",
      "metadata": {
        "colab": {
          "base_uri": "https://localhost:8080/",
          "height": 17
        },
        "id": "obZebFE3Fpy7",
        "outputId": "210f0a67-f002-460c-a65d-840b4682ec7f"
      },
      "source": [
        "from google.colab import files\n",
        "files.download(\"r_squared_example_20.pdf\")"
      ],
      "execution_count": 143,
      "outputs": [
        {
          "output_type": "display_data",
          "data": {
            "application/javascript": [
              "\n",
              "    async function download(id, filename, size) {\n",
              "      if (!google.colab.kernel.accessAllowed) {\n",
              "        return;\n",
              "      }\n",
              "      const div = document.createElement('div');\n",
              "      const label = document.createElement('label');\n",
              "      label.textContent = `Downloading \"${filename}\": `;\n",
              "      div.appendChild(label);\n",
              "      const progress = document.createElement('progress');\n",
              "      progress.max = size;\n",
              "      div.appendChild(progress);\n",
              "      document.body.appendChild(div);\n",
              "\n",
              "      const buffers = [];\n",
              "      let downloaded = 0;\n",
              "\n",
              "      const channel = await google.colab.kernel.comms.open(id);\n",
              "      // Send a message to notify the kernel that we're ready.\n",
              "      channel.send({})\n",
              "\n",
              "      for await (const message of channel.messages) {\n",
              "        // Send a message to notify the kernel that we're ready.\n",
              "        channel.send({})\n",
              "        if (message.buffers) {\n",
              "          for (const buffer of message.buffers) {\n",
              "            buffers.push(buffer);\n",
              "            downloaded += buffer.byteLength;\n",
              "            progress.value = downloaded;\n",
              "          }\n",
              "        }\n",
              "      }\n",
              "      const blob = new Blob(buffers, {type: 'application/binary'});\n",
              "      const a = document.createElement('a');\n",
              "      a.href = window.URL.createObjectURL(blob);\n",
              "      a.download = filename;\n",
              "      div.appendChild(a);\n",
              "      a.click();\n",
              "      div.remove();\n",
              "    }\n",
              "  "
            ],
            "text/plain": [
              "<IPython.core.display.Javascript object>"
            ]
          },
          "metadata": {
            "tags": []
          }
        },
        {
          "output_type": "display_data",
          "data": {
            "application/javascript": [
              "download(\"download_ffc5aa0c-0a09-486a-85b5-d8208666c6bd\", \"r_squared_example_20.pdf\", 22908)"
            ],
            "text/plain": [
              "<IPython.core.display.Javascript object>"
            ]
          },
          "metadata": {
            "tags": []
          }
        }
      ]
    }
  ]
}
