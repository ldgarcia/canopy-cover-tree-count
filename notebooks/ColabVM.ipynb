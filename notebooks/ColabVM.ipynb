{
  "nbformat": 4,
  "nbformat_minor": 0,
  "metadata": {
    "colab": {
      "name": "ColabVM.ipynb",
      "provenance": [],
      "collapsed_sections": [
        "P9EzIUiGx71q",
        "ND7dLRHqx54V",
        "Ba3bINXzAXed",
        "MDYXXa_1AfYp",
        "IoC-7C1gAb1a",
        "MP2PXmEfAdl8",
        "Qcpe8aMffhHK",
        "mu8K1IjTbdXA",
        "_pYSaTGh64id",
        "qN9kXJl4x7bT",
        "U6kX9-pwx5xX",
        "c7g3w8nrflKy",
        "HjxI-Wtbt0Ue",
        "aAr1O3qA-t62",
        "mBBQTZwDqkGS",
        "zYezQ-qGv1XT",
        "Nq9E79Rf8hNq",
        "BDalCeae9ODg",
        "SCJ_xIhu6fVs",
        "iAbZ437g24cF",
        "U23Efp4w4H01",
        "AI_OyLWxNH36",
        "XRQ5s-UFM_9z",
        "Ta-BK8NpOGVv",
        "YuJityG0NVHw",
        "D2rKypLBU-LG",
        "32nsQnGEnUxG",
        "Jr_8Gw7S6FeD",
        "IfltUHyB8tfY",
        "yh4Z4D34_sZt",
        "NbsbGRp3QASj",
        "OcCqYEQGsCpn",
        "Rin7n1KW655I",
        "CVHCyHddQGul",
        "0j5Fba2CrSVD",
        "DIjcIhA5tdyi",
        "ZZVHIxgMkyBX",
        "fnesAqotGFGp",
        "aJcyKAMd4iJ6"
      ],
      "toc_visible": true,
      "machine_shape": "hm"
    },
    "kernelspec": {
      "display_name": "Python 3",
      "name": "python3"
    },
    "language_info": {
      "name": "python"
    }
  },
  "cells": [
    {
      "cell_type": "markdown",
      "metadata": {
        "id": "AwlFQMc3WMt4"
      },
      "source": [
        "# Google Colab VM\n",
        "\n",
        "Notebook to set up an SSH-enabled Google Colab VM.\n",
        "\n",
        "Remember to select the required runtime type (e.g. GPU) before running the cells below."
      ]
    },
    {
      "cell_type": "code",
      "metadata": {
        "id": "KMvGQIcaSgXc"
      },
      "source": [
        "!nvidia-smi"
      ],
      "execution_count": null,
      "outputs": []
    },
    {
      "cell_type": "markdown",
      "metadata": {
        "id": "D1Vg3v5uWGzw"
      },
      "source": [
        "## Set up the environment"
      ]
    },
    {
      "cell_type": "markdown",
      "metadata": {
        "id": "P9EzIUiGx71q"
      },
      "source": [
        "### Using pip\n",
        "\n",
        "Use this alternative when running the training script."
      ]
    },
    {
      "cell_type": "code",
      "metadata": {
        "id": "Tj2N7PELxxRR"
      },
      "source": [
        "def write_requirements_txt():\n",
        "  import sys\n",
        "  import tensorflow\n",
        "  import numpy\n",
        "  import pandas\n",
        "  import sklearn\n",
        "  import skimage\n",
        "  import cv2\n",
        "  import six\n",
        "  import requests\n",
        "  import folium\n",
        "  import scipy\n",
        "\n",
        "  lines0 = [f\"tensorflow~={tensorflow.__version__}\",\n",
        "            f\"numpy~={numpy.__version__}\",\n",
        "            f\"pandas~={pandas.__version__}\",\n",
        "            f\"scikit-learn~={sklearn.__version__}\",\n",
        "            f\"scikit-image~={skimage.__version__}\",\n",
        "            f\"opencv-python~={cv2.__version__}\",\n",
        "            f\"six~={six.__version__}\",\n",
        "            f\"requests~={requests.__version__}\",\n",
        "            f\"folium~={folium.__version__}\",\n",
        "            f\"scipy~={scipy.__version__}\"]\n",
        "\n",
        "  lines1 = [\"pygeos\",\n",
        "            \"rtree\",\n",
        "            \"geopandas\",\n",
        "            \"rasterio\",\n",
        "            \"descartes\",\n",
        "            \"tqdm\",\n",
        "            \"pydantic\",\n",
        "            \"black\",\n",
        "            \"pycodestyle\",\n",
        "            \"pydocstyle\",\n",
        "            \"mypy\",\n",
        "            \"gitpython\",\n",
        "            \"jinja2\",\n",
        "            \"pyyaml==5.4.1\",\n",
        "            \"dill\",\n",
        "            \"mpld3\",\n",
        "            \"typing_extensions\",\n",
        "            \"colorama\",\n",
        "            \"tabulate\",\n",
        "            ]\n",
        "\n",
        "\n",
        "  lines2 = [\"git+https://github.com/aleju/imgaug.git@0.4.0\",\n",
        "            \"git+https://github.com/albumentations-team/albumentations@1.0.0\",\n",
        "            \"tensorflow_addons==0.13.0\",\n",
        "            #\"albumentations[imgaug]==1.0.0\",\n",
        "            \"colab_ssh\",\n",
        "            \"kaggle\"\n",
        "            ]\n",
        "\n",
        "  lines = lines0 + lines1 + lines2\n",
        "  # Backports\n",
        "  if sys.version[0:3] == \"3.7\":\n",
        "    lines.append(\"shared-memory38\")\n",
        "\n",
        "  with open(\"requirements.txt\",\"w\") as file:\n",
        "    file.writelines(\"\\n\".join(lines))\n",
        "\n",
        "write_requirements_txt()"
      ],
      "execution_count": null,
      "outputs": []
    },
    {
      "cell_type": "code",
      "metadata": {
        "id": "WbLbbPv7zdHF"
      },
      "source": [
        "!cat requirements.txt"
      ],
      "execution_count": null,
      "outputs": []
    },
    {
      "cell_type": "code",
      "metadata": {
        "id": "Dm7cEnGCx1nE"
      },
      "source": [
        "%%time\n",
        "!pip install -r requirements.txt"
      ],
      "execution_count": null,
      "outputs": []
    },
    {
      "cell_type": "code",
      "metadata": {
        "id": "dOlXyMDfyqMi"
      },
      "source": [
        "!curl https://rclone.org/install.sh | bash"
      ],
      "execution_count": null,
      "outputs": []
    },
    {
      "cell_type": "markdown",
      "metadata": {
        "id": "ND7dLRHqx54V"
      },
      "source": [
        "### Using Conda\n",
        "\n",
        "The difference is that it also installs `gdal`.\n"
      ]
    },
    {
      "cell_type": "code",
      "metadata": {
        "id": "0niTDOSDXhNz"
      },
      "source": [
        "%%time\n",
        "#!pip install -q condacolab\n",
        "!pip install condacolab@git+https://github.com/adolfogc/condacolab@temporary-fixes\n",
        "import os\n",
        "import condacolab\n",
        "condacolab.install()"
      ],
      "execution_count": null,
      "outputs": []
    },
    {
      "cell_type": "code",
      "metadata": {
        "id": "So1UvNo3xK6f"
      },
      "source": [
        "%%writefile environment.yml\n",
        "name: base\n",
        "channels:\n",
        "  - conda-forge\n",
        "dependencies:\n",
        "  - geopandas\n",
        "  - gdal\n",
        "  - rasterio\n",
        "  - descartes\n",
        "  - tqdm\n",
        "  - pydantic\n",
        "  - black\n",
        "  - pycodestyle\n",
        "  - pydocstyle\n",
        "  - mypy\n",
        "  - rclone\n",
        "  - imgaug\n",
        "  - ipython\n",
        "  - gitpython\n",
        "  - descartes\n",
        "  - jinja2\n",
        "  - pyyaml\n",
        "  - dill\n",
        "  - pip\n",
        "  - pip:\n",
        "    - tensorflow_addons==0.13.0\n",
        "    - albumentations[imgaug]\n",
        "    - colab_ssh\n",
        "    - kaggle\n",
        "    - mpld3"
      ],
      "execution_count": null,
      "outputs": []
    },
    {
      "cell_type": "markdown",
      "metadata": {
        "id": "nBzBvVnYx_I8"
      },
      "source": [
        "Install the dependencies using `mamba` which is faster than `conda`."
      ]
    },
    {
      "cell_type": "code",
      "metadata": {
        "id": "j-63CxU7wpr7"
      },
      "source": [
        "%%time\n",
        "!mamba env update -n base -f environment.yml"
      ],
      "execution_count": null,
      "outputs": []
    },
    {
      "cell_type": "markdown",
      "metadata": {
        "id": "Ba3bINXzAXed"
      },
      "source": [
        "## Check GPU, TPU, CPU"
      ]
    },
    {
      "cell_type": "markdown",
      "metadata": {
        "id": "MDYXXa_1AfYp"
      },
      "source": [
        "### CPU"
      ]
    },
    {
      "cell_type": "code",
      "metadata": {
        "id": "HVum2VpvAgS2"
      },
      "source": [
        "# New in TF 2.5: support for oneDNN\n",
        "# See: https://github.com/tensorflow/tensorflow/blob/master/RELEASE.md#release-250\n",
        "# Also see: https://github.com/oneapi-src/oneDNN\n",
        "%env TF_ENABLE_ONEDNN_OPTS=1"
      ],
      "execution_count": null,
      "outputs": []
    },
    {
      "cell_type": "markdown",
      "metadata": {
        "id": "IoC-7C1gAb1a"
      },
      "source": [
        "### GPU"
      ]
    },
    {
      "cell_type": "code",
      "metadata": {
        "id": "T0Uqe9fDK0Ip"
      },
      "source": [
        "# Make sure our Tensorflow installation recognizes the GPU device\n",
        "%tensorflow_version 2.x\n",
        "import tensorflow as tf\n",
        "device_name = tf.test.gpu_device_name()\n",
        "if device_name != '/device:GPU:0':\n",
        "  raise SystemError('GPU device not found')\n",
        "print('Found GPU at: {}'.format(device_name))"
      ],
      "execution_count": null,
      "outputs": []
    },
    {
      "cell_type": "markdown",
      "metadata": {
        "id": "MP2PXmEfAdl8"
      },
      "source": [
        "### TPU"
      ]
    },
    {
      "cell_type": "code",
      "metadata": {
        "id": "VOPlU9d7BllT"
      },
      "source": [
        "# Alternatively, set up environment to use TPU devices from Colab\n",
        "# See: https://www.tensorflow.org/guide/tpu\n",
        "%tensorflow_version 2.x\n",
        "import tensorflow as tf\n",
        "COLAB_TPU_RESOLVER = tf.distribute.cluster_resolver.TPUClusterResolver(tpu='')  # '' is the special name used in Colab\n",
        "tf.config.experimental_connect_to_cluster(COLAB_TPU_RESOLVER)\n",
        "tf.tpu.experimental.initialize_tpu_system(COLAB_TPU_RESOLVER)\n",
        "print(\"All devices: \", tf.config.list_logical_devices('TPU'))\n",
        "\n",
        "# Note: currently we can't use TPUs due to the DS being using a Python generator.\n",
        "# see: https://github.com/tensorflow/tensorflow/issues/39099\n",
        "# For doing so, we need first to implement that described in issue #6, but it is not a priority."
      ],
      "execution_count": null,
      "outputs": []
    },
    {
      "cell_type": "markdown",
      "metadata": {
        "id": "uRajbgxvWQ0V"
      },
      "source": [
        "## Mount Google Drive\n"
      ]
    },
    {
      "cell_type": "code",
      "metadata": {
        "id": "bSRig-fyX_AN"
      },
      "source": [
        "from google.colab import drive, files\n",
        "drive.mount(\"/content/gdrive\")"
      ],
      "execution_count": null,
      "outputs": []
    },
    {
      "cell_type": "code",
      "metadata": {
        "id": "BjwbZejYHQfa"
      },
      "source": [
        "BASE_PATH = \"/content/gdrive/MyDrive/Thesis\""
      ],
      "execution_count": null,
      "outputs": []
    },
    {
      "cell_type": "markdown",
      "metadata": {
        "id": "4gfEodimZmb5"
      },
      "source": [
        "Create a Symlink to have a shorter path."
      ]
    },
    {
      "cell_type": "code",
      "metadata": {
        "id": "pDUo_XPZYtY3"
      },
      "source": [
        "!ln -s $BASE_PATH/datasets /content/datasets"
      ],
      "execution_count": null,
      "outputs": []
    },
    {
      "cell_type": "code",
      "metadata": {
        "id": "aDWAT-f1tRKy"
      },
      "source": [
        "!ln -s $BASE_PATH/output /content/output"
      ],
      "execution_count": null,
      "outputs": []
    },
    {
      "cell_type": "code",
      "metadata": {
        "id": "Zf8sXSp8F09v"
      },
      "source": [
        "!ln -s $BASE_PATH/models /content/models"
      ],
      "execution_count": null,
      "outputs": []
    },
    {
      "cell_type": "code",
      "metadata": {
        "id": "sjIeGmgZM8Jr"
      },
      "source": [
        "!ln -s $BASE_PATH/other /content/other"
      ],
      "execution_count": null,
      "outputs": []
    },
    {
      "cell_type": "markdown",
      "metadata": {
        "id": "Qcpe8aMffhHK"
      },
      "source": [
        "## Transfer dataset(s) from ERDA into Google Drive"
      ]
    },
    {
      "cell_type": "markdown",
      "metadata": {
        "id": "CQUN7LyJqqzu"
      },
      "source": [
        "We keep a mirror of the dataset(s) in Google Drive to access from within the Colab VM.\n",
        "\n",
        "First, we need to transfer from ERDA into Google Drive (when we did it, it took around ~11 mins for 20 GB). For this, you will need to configure the SFTP credentials in your ERDA account. Also, you will need to create an access token in Google Cloud (the `rclone` client will guide you through the required steps).\n",
        "\n",
        "Open up the terminal in Google Colab and set up the two `rclone` remotes using\n",
        "\n",
        "```bash\n",
        "rclone config\n",
        "```\n",
        "\n",
        "After that, copy files between remotes.\n",
        "\n",
        "```bash\n",
        "rclone copy -P erda:datasets/sahel gdrive:datasets/sahel\n",
        "```\n",
        "\n",
        "We can verify everything was copied.\n",
        "\n",
        "```bash\n",
        "rclone size erda:datasets/sahel\n",
        "rclone size gdrive:datasets/sahel\n",
        "```\n",
        "\n",
        "Then, we can backup the `rclone` config to Google Drive.\n",
        "\n",
        "```bash\n",
        "# Verify config file path\n",
        "rclone config file\n",
        "# Copy to Google Drive\n",
        "rclone copy /root/.config/rclone/rclone.conf gdrive:rclone.conf\n",
        "```"
      ]
    },
    {
      "cell_type": "code",
      "metadata": {
        "id": "Be5x0YfVm6_1"
      },
      "source": [
        "# Copy back rclone config\n",
        "!mkdir -p /root/.config/rclone/ && cp $BASE_PATH/rclone.conf /root/.config/rclone/rclone.conf"
      ],
      "execution_count": null,
      "outputs": []
    },
    {
      "cell_type": "markdown",
      "metadata": {
        "id": "XOQfat3r9cuj"
      },
      "source": [
        "It's best to keep the frames in the local disk for training."
      ]
    },
    {
      "cell_type": "code",
      "metadata": {
        "id": "BKDq4d2XYOQr"
      },
      "source": [
        "!rclone ls erda:datasets"
      ],
      "execution_count": null,
      "outputs": []
    },
    {
      "cell_type": "code",
      "metadata": {
        "id": "td431n2mFbHb"
      },
      "source": [
        "!rclone config file"
      ],
      "execution_count": null,
      "outputs": []
    },
    {
      "cell_type": "code",
      "metadata": {
        "id": "O1yLWQl-4em-"
      },
      "source": [
        "!cat /root/.config/rclone/rclone.conf"
      ],
      "execution_count": null,
      "outputs": []
    },
    {
      "cell_type": "code",
      "metadata": {
        "id": "UyGjZ55TF7S6"
      },
      "source": [
        "!ls /content/datasets/frames_zips"
      ],
      "execution_count": null,
      "outputs": []
    },
    {
      "cell_type": "markdown",
      "metadata": {
        "id": "GGSGrEaIWUAd"
      },
      "source": [
        "## Set up the VM\n",
        "\n",
        "The `colab_ssh` utility allows to create an SSH tunnel to connect directly into the ColabVM.\n",
        "\n",
        "Note: this also requires installing and setting up Cloudflared in your local machine.\n",
        "\n",
        "See: [PyPI page](https://pypi.org/project/colab-ssh/) | [Cloudflare One](https://developers.cloudflare.com/cloudflare-one/connections/connect-apps/install-and-setup/installation)"
      ]
    },
    {
      "cell_type": "code",
      "metadata": {
        "id": "N58TruMF_3uD"
      },
      "source": [
        "import os\n",
        "import string\n",
        "import secrets\n",
        "\n",
        "from colab_ssh import launch_ssh_cloudflared, init_git_cloudflared, init_git\n",
        "from IPython.core.display import display, HTML\n",
        "\n",
        "def launch_ssl():\n",
        "  # References:\n",
        "  # https://docs.python.org/3/library/secrets.html\n",
        "  alphabet = string.ascii_letters + string.digits\n",
        "  password = ''.join(secrets.choice(alphabet) for i in range(64))\n",
        "\n",
        "  launch_ssh_cloudflared(password=password)\n",
        "  display(HTML('''<div style=\"padding:10px;\">\n",
        "                    SSH Password: <input type=\"password\" value=\"{0}\" />\n",
        "                    <input type=\"button\" value=\"Copy\" onClick=\"(function () {{ navigator.clipboard.writeText(\\'{0}\\'); }})();\" />\n",
        "                  </div>'''.format(password)))\n",
        "  \n",
        "def clone_repo(cloudflared=True):\n",
        "  repo_url = os.environ.get(\"GITHUB_REPO_URL\")\n",
        "  repo_name = repo_url.split(\"/\")[-1]\n",
        "  if cloudflared:\n",
        "    init_git_cloudflared(repo_url,\n",
        "                        personal_token=os.environ[\"GITHUB_PERSONAL_TOKEN\"],\n",
        "                        branch=os.environ[\"GITHUB_REPO_BRANCH\"],\n",
        "                        email=os.environ[\"GIT_USER_EMAIL\"],\n",
        "                        username=os.environ[\"GIT_USER_NAME\"],\n",
        "                        )\n",
        "  else:\n",
        "    init_git(repo_url,\n",
        "             personal_token=os.environ[\"GITHUB_PERSONAL_TOKEN\"],\n",
        "             branch=os.environ[\"GITHUB_REPO_BRANCH\"],\n",
        "             email=os.environ[\"GIT_USER_EMAIL\"],\n",
        "             username=os.environ[\"GIT_USER_NAME\"],\n",
        "             )\n",
        "\n",
        "  return repo_name"
      ],
      "execution_count": null,
      "outputs": []
    },
    {
      "cell_type": "markdown",
      "metadata": {
        "id": "zswxtYs1Ibfa"
      },
      "source": [
        "The `colab_ssh` tool also has an option to clone a Github repo. Then, using a VS Code SSH session you can edit and add files and run them in the ColabVM and then commit into the repo."
      ]
    },
    {
      "cell_type": "markdown",
      "metadata": {
        "id": "nk9zx7grIiso"
      },
      "source": [
        "If you just want to clone the Git repository."
      ]
    },
    {
      "cell_type": "code",
      "metadata": {
        "id": "xnmwgp56IlZn"
      },
      "source": [
        "GITHUB_REPO_NAME = clone_repo(cloudflared=False)"
      ],
      "execution_count": null,
      "outputs": []
    },
    {
      "cell_type": "markdown",
      "metadata": {
        "id": "7d6SFoMbIc8Y"
      },
      "source": [
        "If you want to run VS Code."
      ]
    },
    {
      "cell_type": "code",
      "metadata": {
        "id": "D684cA0XRtMV"
      },
      "source": [
        "launch_ssl()"
      ],
      "execution_count": null,
      "outputs": []
    },
    {
      "cell_type": "code",
      "metadata": {
        "id": "3LVMBX4pIhAi"
      },
      "source": [
        "GITHUB_REPO_NAME = clone_repo()"
      ],
      "execution_count": null,
      "outputs": []
    },
    {
      "cell_type": "markdown",
      "metadata": {
        "id": "XyF5x25pYRzt"
      },
      "source": [
        "Some additonal configuration options for Git."
      ]
    },
    {
      "cell_type": "code",
      "metadata": {
        "id": "eEENdoXjYRIZ"
      },
      "source": [
        "!git config --global core.editor \"code --wait\"\n",
        "!git config --global merge.tool vscode\n",
        "!git config --global mergetool.vscode.cmd \"code --wait $MERGED\"\n",
        "!git config --global pull.rebase true\n",
        "!cd $GITHUB_REPO_NAME && git branch"
      ],
      "execution_count": null,
      "outputs": []
    },
    {
      "cell_type": "markdown",
      "metadata": {
        "id": "mu8K1IjTbdXA"
      },
      "source": [
        "## Imports"
      ]
    },
    {
      "cell_type": "markdown",
      "metadata": {
        "id": "A1u1HD1rbjEX"
      },
      "source": [
        "Some frequently used libraries when prototyping stuff in notebook cells."
      ]
    },
    {
      "cell_type": "code",
      "metadata": {
        "id": "v3q9Xi-ebgra"
      },
      "source": [
        "import importlib\n",
        "import pathlib\n",
        "import subprocess\n",
        "import random\n",
        "\n",
        "from pprint import pprint\n",
        "from datetime import datetime\n",
        "\n",
        "import numpy as np\n",
        "import matplotlib.pyplot as plt\n",
        "import matplotlib as mpl\n",
        "import geopandas as gpd\n",
        "import skimage\n",
        "import albumentations\n",
        "import cv2\n",
        "import rasterio\n",
        "import rasterio.plot\n",
        "import tensorflow as tf\n",
        "import tensorflow_addons as tfa\n",
        "import tensorflow.keras.layers.experimental.preprocessing as tf_preprocessing\n",
        "import shapely.geometry\n",
        "import skimage.io\n",
        "\n",
        "from IPython.display import clear_output, display\n",
        "import mpld3"
      ],
      "execution_count": null,
      "outputs": []
    },
    {
      "cell_type": "markdown",
      "metadata": {
        "id": "aXa_uiFfbqkI"
      },
      "source": [
        "Import and reload modules from our codebase."
      ]
    },
    {
      "cell_type": "code",
      "metadata": {
        "id": "3g2IPejBbaYU"
      },
      "source": [
        "import dlc.tools.db\n",
        "import dlc.tools.images\n",
        "import dlc.tools.plots\n",
        "import dlc.tools.mpld3\n",
        "import dlc.tools.splits\n",
        "import dlc.tools.images\n",
        "import dlc.tools.datasets\n",
        "import dlc.tools.scalers\n",
        "import dlc.tools.evaluation\n",
        "import dlc.models\n",
        "import dlc.frames.raster\n",
        "import dlc.frames.creators.base\n",
        "import dlc.frames.creators.data\n",
        "import dlc.frames.creators.segmentation\n",
        "import dlc.frames.creators.density\n",
        "import dlc.frames.creators.image\n",
        "import dlc.frames.creators.scalar\n",
        "import dlc.frames.factory\n",
        "\n",
        "importlib.reload(dlc.tools.db)\n",
        "importlib.reload(dlc.tools.images)\n",
        "importlib.reload(dlc.tools.plots)\n",
        "importlib.reload(dlc.tools.mpld3)\n",
        "importlib.reload(dlc.tools.splits)\n",
        "importlib.reload(dlc.tools.images)\n",
        "importlib.reload(dlc.tools.datasets)\n",
        "importlib.reload(dlc.tools.scalers)\n",
        "importlib.reload(dlc.tools.evaluation)\n",
        "importlib.reload(dlc.models)\n",
        "importlib.reload(dlc.frames.raster)\n",
        "importlib.reload(dlc.frames.creators.base)\n",
        "importlib.reload(dlc.frames.creators.data)\n",
        "importlib.reload(dlc.frames.creators.segmentation)\n",
        "importlib.reload(dlc.frames.creators.density)\n",
        "importlib.reload(dlc.frames.creators.image)\n",
        "importlib.reload(dlc.frames.creators.scalar)\n",
        "importlib.reload(dlc.frames.factory)"
      ],
      "execution_count": null,
      "outputs": []
    },
    {
      "cell_type": "markdown",
      "metadata": {
        "id": "lDo2Lmv9GZxc"
      },
      "source": [
        "If we update remotely, we can reload the code."
      ]
    },
    {
      "cell_type": "code",
      "metadata": {
        "id": "_ZOf8I8gGUnO"
      },
      "source": [
        "!cd $GITHUB_REPO_NAME && git stash && git pull origin develop && git stash pop"
      ],
      "execution_count": null,
      "outputs": []
    },
    {
      "cell_type": "markdown",
      "metadata": {
        "id": "_pYSaTGh64id"
      },
      "source": [
        "## Random generator seeds"
      ]
    },
    {
      "cell_type": "code",
      "metadata": {
        "id": "luE4_cUD69gD"
      },
      "source": [
        "RNG_SEEDS = [\n",
        "  207146141,\n",
        "  175229620,\n",
        "  244591021,\n",
        "  944519419,\n",
        "  219512321,\n",
        "  310416901,\n",
        "  951601665,\n",
        "  481291421,\n",
        "  351411481,\n",
        "  362181641,\n",
        "]\n",
        "\n",
        "DS_SPLIT_SEED = 591477907"
      ],
      "execution_count": null,
      "outputs": []
    },
    {
      "cell_type": "code",
      "metadata": {
        "id": "WalX6dbEOEqA"
      },
      "source": [
        "%env TF_DETERMINISTIC_OPS=\"1\"\n",
        "%env PYTHONHASHSEED=\"0\""
      ],
      "execution_count": null,
      "outputs": []
    },
    {
      "cell_type": "code",
      "metadata": {
        "id": "TAk7jqKwOL5V"
      },
      "source": [
        "%env TF_CUDNN_DETERMINISTIC=\"1\""
      ],
      "execution_count": null,
      "outputs": []
    },
    {
      "cell_type": "markdown",
      "metadata": {
        "id": "7L39xbcCOmGT"
      },
      "source": [
        "## Preprocessing"
      ]
    },
    {
      "cell_type": "markdown",
      "metadata": {
        "id": "BwhdX_C-205o"
      },
      "source": [
        "### Database"
      ]
    },
    {
      "cell_type": "markdown",
      "metadata": {
        "id": "qN9kXJl4x7bT"
      },
      "source": [
        "#### Creating a database\n",
        "\n",
        "```batch\n",
        "!export PYTHONPATH=\"${GITHUB_REPO_NAME}:${PYTHONPATH}\" && \\\n",
        "   python3 ${GITHUB_REPO_NAME}/scripts/create_db.py \\\n",
        "   --img_path=\"/content/datasets/sahara-sahel/StackedImages\" \\\n",
        "   --pattern=\"*.tif\" \\\n",
        "   --areas_path=\"/content/datasets/sahara-sahel/areas.geojson\" \\\n",
        "   --polygons_path=\"/content/datasets/sahara-sahel/polygons.geojson\" \\\n",
        "   --output_path=\".\"\n",
        "```"
      ]
    },
    {
      "cell_type": "markdown",
      "metadata": {
        "id": "p7fNc5kBx-Al"
      },
      "source": [
        "We consider a database to be composed by a set of three `GeoDataframes`:\n",
        "* `tiles`: contains information about the raw image tiles.\n",
        "* `areas`: contains information about the training rectangles.\n",
        "* `polygons`: contains information about the polygon annotations.\n",
        "\n",
        "We assume the last two to be given and the first one we can compute from the images contained in a folder tree."
      ]
    },
    {
      "cell_type": "code",
      "metadata": {
        "id": "gcbthQ6Yyeob"
      },
      "source": [
        "%%time\n",
        "sahara_sahel_tiles = dlc.tools.db.get_objects_from_images(\"/content/datasets/sahara-sahel/StackedImages\", \"*.tif\")"
      ],
      "execution_count": null,
      "outputs": []
    },
    {
      "cell_type": "markdown",
      "metadata": {
        "id": "U6kX9-pwx5xX"
      },
      "source": [
        "#### Loading the database files"
      ]
    },
    {
      "cell_type": "markdown",
      "metadata": {
        "id": "rSI632FZTWV3"
      },
      "source": [
        "We use the dataset source files to load the database:"
      ]
    },
    {
      "cell_type": "code",
      "metadata": {
        "id": "R6kg52i1v_pN"
      },
      "source": [
        "rwanda = dlc.tools.db.load_database_rwanda(\n",
        "    tiles=\"/content/datasets/rwanda/tiles.geojson\",\n",
        "    areas=\"/content/datasets/rwanda/v1/labeled_rectangles.shp\",\n",
        "    polygons=\"/content/datasets/rwanda/v1/tree_labels.shp\",\n",
        "    outliers = True,\n",
        ")"
      ],
      "execution_count": null,
      "outputs": []
    },
    {
      "cell_type": "code",
      "metadata": {
        "id": "qZ4FsEMGTeTX"
      },
      "source": [
        "rwanda.to_files(\"/content/datasets/rwanda\")"
      ],
      "execution_count": null,
      "outputs": []
    },
    {
      "cell_type": "code",
      "metadata": {
        "id": "ozXX8EnOomVc"
      },
      "source": [
        "(len(rwanda.tiles), len(rwanda.tiles.query(\"n_areas > 0\")))"
      ],
      "execution_count": null,
      "outputs": []
    },
    {
      "cell_type": "code",
      "metadata": {
        "id": "Ot6B1pzVo8W-"
      },
      "source": [
        "(rwanda.tiles[\"file_size\"].sum(), rwanda.tiles.query(\"n_areas > 0\")[\"file_size\"].sum())"
      ],
      "execution_count": null,
      "outputs": []
    },
    {
      "cell_type": "code",
      "metadata": {
        "id": "8rRce7X6ClZC"
      },
      "source": [
        "(len(rwanda.areas), len(rwanda.areas.query(\"n_tiles > 0\")), len(rwanda.areas.query(\"n_polygons == 0\")))"
      ],
      "execution_count": null,
      "outputs": []
    },
    {
      "cell_type": "code",
      "metadata": {
        "id": "4XBBcreDDgpN"
      },
      "source": [
        "(len(rwanda.polygons), len(rwanda.polygons.query(\"is_orphan == False\")))"
      ],
      "execution_count": null,
      "outputs": []
    },
    {
      "cell_type": "code",
      "metadata": {
        "id": "7cddBqBDTenq"
      },
      "source": [
        "(len(rwanda.areas),\n",
        "len(rwanda.areas.query(\"split == 'training'\")),\n",
        "len(rwanda.areas.query(\"split == 'test'\")))"
      ],
      "execution_count": null,
      "outputs": []
    },
    {
      "cell_type": "code",
      "metadata": {
        "id": "s8iNTtiBUHOo"
      },
      "source": [
        "(len(rwanda.areas.query(\"n_tiles > 0\")), \n",
        "len(rwanda.areas.query(\"split == 'training' and n_tiles > 0\")),\n",
        "len(rwanda.areas.query(\"split == 'test' and n_tiles > 0\")))"
      ],
      "execution_count": null,
      "outputs": []
    },
    {
      "cell_type": "code",
      "metadata": {
        "id": "Rlwqb5XMUsP7"
      },
      "source": [
        "(len(rwanda.areas.query(\"n_polygons == 0\")), \n",
        "len(rwanda.areas.query(\"split == 'training' and n_polygons == 0\")),\n",
        "len(rwanda.areas.query(\"split == 'test' and n_polygons == 0\")))"
      ],
      "execution_count": null,
      "outputs": []
    },
    {
      "cell_type": "code",
      "metadata": {
        "id": "f-LW9N0xU-lb"
      },
      "source": [
        "(len(rwanda.polygons), \n",
        "len(rwanda.polygons.query(\"split == 'training'\")),\n",
        "len(rwanda.polygons.query(\"split == 'test'\")))"
      ],
      "execution_count": null,
      "outputs": []
    },
    {
      "cell_type": "code",
      "metadata": {
        "id": "qhlXofeHaG0g"
      },
      "source": [
        "(len(rwanda.polygons.query(\"is_orphan == False\")), \n",
        "len(rwanda.polygons.query(\"split == 'training' and is_orphan == False\")),\n",
        "len(rwanda.polygons.query(\"split == 'test' and is_orphan == False\")))"
      ],
      "execution_count": null,
      "outputs": []
    },
    {
      "cell_type": "markdown",
      "metadata": {
        "id": "XUjK2vKRTbEH"
      },
      "source": [
        "We can load a saved databased:"
      ]
    },
    {
      "cell_type": "code",
      "metadata": {
        "id": "n62-WsngXbS7"
      },
      "source": [
        "rwanda = dlc.tools.db.load_database(\n",
        "    tiles=\"/content/datasets/rwanda/tiles.geojson\",\n",
        "    areas=\"/content/datasets/rwanda/areas.geojson\",\n",
        "    polygons=\"/content/datasets/rwanda/polygons.geojson\",\n",
        ")"
      ],
      "execution_count": null,
      "outputs": []
    },
    {
      "cell_type": "code",
      "metadata": {
        "id": "Zy5ccnS8DDjo"
      },
      "source": [
        "rwanda.polygons.iloc[0:1].area"
      ],
      "execution_count": null,
      "outputs": []
    },
    {
      "cell_type": "code",
      "metadata": {
        "id": "CfSMxQfIDcnH"
      },
      "source": [
        "rwanda.polygons.crs"
      ],
      "execution_count": null,
      "outputs": []
    },
    {
      "cell_type": "code",
      "metadata": {
        "id": "zeNNw25WDJ0s"
      },
      "source": [
        "rwanda.polygons.iloc[0:1].to_crs(\"EPSG:6933\").area"
      ],
      "execution_count": null,
      "outputs": []
    },
    {
      "cell_type": "code",
      "metadata": {
        "id": "cxUONLI588JF"
      },
      "source": [
        "rwanda.polygons.crs"
      ],
      "execution_count": null,
      "outputs": []
    },
    {
      "cell_type": "code",
      "metadata": {
        "id": "Rlt62Rqe9OaC"
      },
      "source": [
        "x = gpd.read_file(\"/content/datasets/rwanda/fixed-polygons-0_9.geojson\")"
      ],
      "execution_count": null,
      "outputs": []
    },
    {
      "cell_type": "code",
      "metadata": {
        "id": "HIZneVA29ah0"
      },
      "source": [
        "x.head()"
      ],
      "execution_count": null,
      "outputs": []
    },
    {
      "cell_type": "code",
      "metadata": {
        "id": "Gs5Im5AtXrC4"
      },
      "source": [
        "(len(rwanda.polygons), len(rwanda.polygons.query(\"is_orphan == False\")))"
      ],
      "execution_count": null,
      "outputs": []
    },
    {
      "cell_type": "markdown",
      "metadata": {
        "id": "gHBj5tfiSLYx"
      },
      "source": [
        "For the Sahara/Sahel-Sudan dataset we consolidate the files for the train/test splits into a single one, for convenience. We add a column to the database indicating the corresponding split."
      ]
    },
    {
      "cell_type": "code",
      "metadata": {
        "id": "zCbJQPn8waSb"
      },
      "source": [
        "sahara_sahel = dlc.tools.db.load_database_sahara_sahel(\n",
        "    tiles=\"/content/datasets/sahara-sahel/tiles.geojson\",\n",
        "    train_areas=\"/content/datasets/sahara-sahel/trainingData/training4_rectangles_all_lat.shp\",\n",
        "    test_areas=\"/content/datasets/sahara-sahel/evaluationData/evaluation_area.shp\",\n",
        "    train_polygons=\"/content/datasets/sahara-sahel/trainingData/training4_28and_29_lat.shp\",\n",
        "    test_polygons=\"/content/datasets/sahara-sahel/evaluationData/evaluation_polygons.shp\",\n",
        "    test_predicted_polygons=\"/content/datasets/sahara-sahel/evaluationData/predicted_polygon.shp\",\n",
        "    outliers=True,\n",
        ")"
      ],
      "execution_count": null,
      "outputs": []
    },
    {
      "cell_type": "code",
      "metadata": {
        "id": "IJW_z2tFFX-j"
      },
      "source": [
        "sahara_sahel.polygons.query(\"is_outlier == True\")"
      ],
      "execution_count": null,
      "outputs": []
    },
    {
      "cell_type": "code",
      "metadata": {
        "id": "qPFbCdA74EtD"
      },
      "source": [
        "sahara_sahel.to_files(\"/content/datasets/sahara-sahel\")"
      ],
      "execution_count": null,
      "outputs": []
    },
    {
      "cell_type": "code",
      "metadata": {
        "id": "EeMpNUIJp3k8"
      },
      "source": [
        "(len(sahara_sahel.tiles), len(sahara_sahel.tiles.query(\"n_areas > 0\")))"
      ],
      "execution_count": null,
      "outputs": []
    },
    {
      "cell_type": "code",
      "metadata": {
        "id": "Xi3aq645pi3s"
      },
      "source": [
        "(sahara_sahel.tiles[\"file_size\"].sum(), sahara_sahel.tiles.query(\"n_areas > 0\")[\"file_size\"].sum())"
      ],
      "execution_count": null,
      "outputs": []
    },
    {
      "cell_type": "code",
      "metadata": {
        "id": "lgIV0ucvsnJ_"
      },
      "source": [
        "(len(sahara_sahel.tiles.query(\"region == 'sahara'\")), len(sahara_sahel.tiles.query(\"region == 'sahara' and n_areas > 0\")))"
      ],
      "execution_count": null,
      "outputs": []
    },
    {
      "cell_type": "code",
      "metadata": {
        "id": "VdxBxu11saCH"
      },
      "source": [
        "(sahara_sahel.tiles.query(\"region == 'sahara'\")[\"file_size\"].sum(), sahara_sahel.tiles.query(\"region == 'sahara' and n_areas > 0\")[\"file_size\"].sum())"
      ],
      "execution_count": null,
      "outputs": []
    },
    {
      "cell_type": "code",
      "metadata": {
        "id": "v1hg6Pnbs0O_"
      },
      "source": [
        "(len(sahara_sahel.tiles.query(\"region == 'sahel'\")), len(sahara_sahel.tiles.query(\"region == 'sahel' and n_areas > 0\")))"
      ],
      "execution_count": null,
      "outputs": []
    },
    {
      "cell_type": "code",
      "metadata": {
        "id": "4_OxT_8Is6FY"
      },
      "source": [
        "(sahara_sahel.tiles.query(\"region == 'sahel'\")[\"file_size\"].sum(), sahara_sahel.tiles.query(\"region == 'sahel' and n_areas > 0\")[\"file_size\"].sum())"
      ],
      "execution_count": null,
      "outputs": []
    },
    {
      "cell_type": "code",
      "metadata": {
        "id": "N31Q37spn6p_"
      },
      "source": [
        "len(sahara_sahel.polygons), len(sahara_sahel.polygons.query(\"is_orphan == False\"))"
      ],
      "execution_count": null,
      "outputs": []
    },
    {
      "cell_type": "markdown",
      "metadata": {
        "id": "f-T2rG6v8bub"
      },
      "source": [
        "We can open the consolidated database:"
      ]
    },
    {
      "cell_type": "code",
      "metadata": {
        "id": "kDZu6olY8for"
      },
      "source": [
        "sahara_sahel = dlc.tools.db.load_database(\n",
        "    tiles=\"/content/datasets/sahara-sahel/tiles.geojson\",\n",
        "    areas=\"/content/datasets/sahara-sahel/areas.geojson\",\n",
        "    polygons=\"/content/datasets/sahara-sahel/polygons.geojson\",\n",
        "    predicted_polygons=\"/content/datasets/sahara-sahel/predicted_polygons.geojson\",\n",
        ")"
      ],
      "execution_count": null,
      "outputs": []
    },
    {
      "cell_type": "code",
      "metadata": {
        "id": "ml1G13CbdBx1"
      },
      "source": [
        "len(sahara_sahel.polygons), len(sahara_sahel.polygons.query(\"is_orphan == False\"))"
      ],
      "execution_count": null,
      "outputs": []
    },
    {
      "cell_type": "code",
      "metadata": {
        "id": "PL6TAKQs3uT7"
      },
      "source": [
        "sahara_sahel.areas.head()"
      ],
      "execution_count": null,
      "outputs": []
    },
    {
      "cell_type": "code",
      "metadata": {
        "id": "MLeebAURqON1"
      },
      "source": [
        "(len(sahara_sahel.areas),\n",
        "len(sahara_sahel.areas.query(\"split == 'train'\")),\n",
        "len(sahara_sahel.areas.query(\"split == 'test'\")))"
      ],
      "execution_count": null,
      "outputs": []
    },
    {
      "cell_type": "code",
      "metadata": {
        "id": "UmnmiYYGqZwD"
      },
      "source": [
        "(len(sahara_sahel.areas.query(\"region == 'sahara'\")), \n",
        "len(sahara_sahel.areas.query(\"region == 'sahara' and split == 'train'\")),\n",
        "len(sahara_sahel.areas.query(\"region == 'sahara' and split == 'test'\")))"
      ],
      "execution_count": null,
      "outputs": []
    },
    {
      "cell_type": "code",
      "metadata": {
        "id": "F47FuHGFBgX0"
      },
      "source": [
        "(len(sahara_sahel.areas.query(\"region == 'sahel'\")), \n",
        "len(sahara_sahel.areas.query(\"region == 'sahel' and split == 'train'\")),\n",
        "len(sahara_sahel.areas.query(\"region == 'sahel' and split == 'test'\")))"
      ],
      "execution_count": null,
      "outputs": []
    },
    {
      "cell_type": "code",
      "metadata": {
        "id": "ty3CKT_Yql5g"
      },
      "source": [
        "(len(sahara_sahel.areas.query(\"n_tiles > 0\")), \n",
        "len(sahara_sahel.areas.query(\"split == 'train' and n_tiles > 0\")),\n",
        "len(sahara_sahel.areas.query(\"split == 'test' and n_tiles > 0\")))"
      ],
      "execution_count": null,
      "outputs": []
    },
    {
      "cell_type": "code",
      "metadata": {
        "id": "4AvMXdtjqtmI"
      },
      "source": [
        "(len(sahara_sahel.areas.query(\"region == 'sahara' and n_tiles > 0\")), \n",
        "len(sahara_sahel.areas.query(\"region == 'sahara' and split == 'train' and n_tiles > 0\")),\n",
        "len(sahara_sahel.areas.query(\"region == 'sahara' and split == 'test' and n_tiles > 0\")))"
      ],
      "execution_count": null,
      "outputs": []
    },
    {
      "cell_type": "code",
      "metadata": {
        "id": "yl2N_ij5AtNp"
      },
      "source": [
        "(len(sahara_sahel.areas.query(\"region == 'sahel' and n_tiles > 0\")), \n",
        "len(sahara_sahel.areas.query(\"region == 'sahel' and split == 'train' and n_tiles > 0\")),\n",
        "len(sahara_sahel.areas.query(\"region == 'sahel' and split == 'test' and n_tiles > 0\")))"
      ],
      "execution_count": null,
      "outputs": []
    },
    {
      "cell_type": "code",
      "metadata": {
        "id": "e6IGQuReq8at"
      },
      "source": [
        "(len(sahara_sahel.areas.query(\"n_polygons == 0\")), \n",
        "len(sahara_sahel.areas.query(\"split == 'train' and n_polygons == 0\")),\n",
        "len(sahara_sahel.areas.query(\"split == 'test' and n_polygons == 0\")))"
      ],
      "execution_count": null,
      "outputs": []
    },
    {
      "cell_type": "code",
      "metadata": {
        "id": "zds_MYqdrE_r"
      },
      "source": [
        "(len(sahara_sahel.areas.query(\"region == 'sahara' and n_polygons == 0\")), \n",
        "len(sahara_sahel.areas.query(\"region == 'sahara' and split == 'train' and n_polygons == 0\")),\n",
        "len(sahara_sahel.areas.query(\"region == 'sahara' and split == 'test' and n_polygons == 0\")))"
      ],
      "execution_count": null,
      "outputs": []
    },
    {
      "cell_type": "code",
      "metadata": {
        "id": "YiBXBWMxBQ4k"
      },
      "source": [
        "(len(sahara_sahel.areas.query(\"region == 'sahel' and n_polygons == 0\")), \n",
        "len(sahara_sahel.areas.query(\"region == 'sahel' and split == 'train' and n_polygons == 0\")),\n",
        "len(sahara_sahel.areas.query(\"region == 'sahel' and split == 'test' and n_polygons == 0\")))"
      ],
      "execution_count": null,
      "outputs": []
    },
    {
      "cell_type": "code",
      "metadata": {
        "id": "-3xCJ4ak41kK"
      },
      "source": [
        "sahara_sahel.polygons.head()"
      ],
      "execution_count": null,
      "outputs": []
    },
    {
      "cell_type": "code",
      "metadata": {
        "id": "WoAnLNclFYKf"
      },
      "source": [
        "(len(sahara_sahel.polygons), \n",
        "len(sahara_sahel.polygons.query(\"split == 'train'\")),\n",
        "len(sahara_sahel.polygons.query(\"split == 'test'\")))"
      ],
      "execution_count": null,
      "outputs": []
    },
    {
      "cell_type": "code",
      "metadata": {
        "id": "r4XEZVufFdgu"
      },
      "source": [
        "(len(sahara_sahel.polygons.query(\"is_orphan == False\")), \n",
        "len(sahara_sahel.polygons.query(\"split == 'train' and is_orphan == False\")),\n",
        "len(sahara_sahel.polygons.query(\"split == 'test' and is_orphan == False\")))"
      ],
      "execution_count": null,
      "outputs": []
    },
    {
      "cell_type": "code",
      "metadata": {
        "id": "JoqZxbF5Foki"
      },
      "source": [
        "(len(sahara_sahel.polygons.query(\"region == 'sahara'\")), \n",
        "len(sahara_sahel.polygons.query(\"region == 'sahara' and split == 'train'\")),\n",
        "len(sahara_sahel.polygons.query(\"region == 'sahara' and split == 'test'\")))"
      ],
      "execution_count": null,
      "outputs": []
    },
    {
      "cell_type": "code",
      "metadata": {
        "id": "k2HvHVdQEapk"
      },
      "source": [
        "(len(sahara_sahel.polygons.query(\"region == 'sahel'\")), \n",
        "len(sahara_sahel.polygons.query(\"region == 'sahel' and split == 'train'\")),\n",
        "len(sahara_sahel.polygons.query(\"region == 'sahel' and split == 'test'\")))"
      ],
      "execution_count": null,
      "outputs": []
    },
    {
      "cell_type": "code",
      "metadata": {
        "id": "HdnJjh48FNBO"
      },
      "source": [
        "(len(sahara_sahel.polygons.query(\"region == 'sahara' and is_orphan == False\")), \n",
        "len(sahara_sahel.polygons.query(\"region == 'sahara' and split == 'train' and is_orphan == False\")),\n",
        "len(sahara_sahel.polygons.query(\"region == 'sahara' and split == 'test' and is_orphan == False\")))"
      ],
      "execution_count": null,
      "outputs": []
    },
    {
      "cell_type": "code",
      "metadata": {
        "id": "m8Xd8xK1E2Ap"
      },
      "source": [
        "(len(sahara_sahel.polygons.query(\"region == 'sahel' and is_orphan == False\")), \n",
        "len(sahara_sahel.polygons.query(\"region == 'sahel' and split == 'train' and is_orphan == False\")),\n",
        "len(sahara_sahel.polygons.query(\"region == 'sahel' and split == 'test' and is_orphan == False\")))"
      ],
      "execution_count": null,
      "outputs": []
    },
    {
      "cell_type": "markdown",
      "metadata": {
        "id": "c7g3w8nrflKy"
      },
      "source": [
        "#### Analyzing the area and convexity of polygons"
      ]
    },
    {
      "cell_type": "code",
      "metadata": {
        "id": "P-PzhCp9f5G8"
      },
      "source": [
        "labeled_areas = dict(\n",
        "    sahara=sahara_sahel.areas.query(\"region == 'sahara'\"),\n",
        "    sahel=sahara_sahel.areas.query(\"region == 'sahel'\"),\n",
        "    rwanda=rwanda.areas,\n",
        ")"
      ],
      "execution_count": null,
      "outputs": []
    },
    {
      "cell_type": "code",
      "metadata": {
        "id": "BW91fgM7fup_"
      },
      "source": [
        "labeled_polygons = dict(\n",
        "    sahara=sahara_sahel.polygons.query(\"region == 'sahara'\"),\n",
        "    sahel=sahara_sahel.polygons.query(\"region == 'sahel'\"),\n",
        "    rwanda=rwanda.polygons,\n",
        ")"
      ],
      "execution_count": null,
      "outputs": []
    },
    {
      "cell_type": "code",
      "metadata": {
        "id": "plWxQO8X6D_U"
      },
      "source": [
        "!mkdir figures"
      ],
      "execution_count": null,
      "outputs": []
    },
    {
      "cell_type": "code",
      "metadata": {
        "id": "vqpDxtCfFSo9"
      },
      "source": [
        "!zip -r -j figures.zip figures"
      ],
      "execution_count": null,
      "outputs": []
    },
    {
      "cell_type": "code",
      "metadata": {
        "id": "Ut5sOOBpFWrh"
      },
      "source": [
        "from google.colab import files\n",
        "files.download(\"figures.zip\")"
      ],
      "execution_count": null,
      "outputs": []
    },
    {
      "cell_type": "code",
      "metadata": {
        "id": "X-EhuSTpX4ug"
      },
      "source": [
        "labeled_polygons = dict(\n",
        "    sahara_sahel=sahara_sahel.polygons.query(\"is_orphan == False\"),\n",
        "    sahel=sahara_sahel.polygons.query(\"region == 'sahel' and is_orphan == False\"),\n",
        "    sahara=sahara_sahel.polygons.query(\"region == 'sahara' and is_orphan == False\"),\n",
        "    rwanda=rwanda.polygons.query(\"is_orphan == False\"),\n",
        ")"
      ],
      "execution_count": null,
      "outputs": []
    },
    {
      "cell_type": "code",
      "metadata": {
        "id": "TRLu_B9ehbo4"
      },
      "source": [
        "for label, polygons in labeled_polygons.items():\n",
        "  fig = dlc.tools.plots.plot_1d_histogram(polygons, key=\"size\", label=\"Area\", log = True, fontsize=18)\n",
        "  fig.savefig(f\"figures/area-histogram-{label}.pdf\", bbox_inches=\"tight\")\n",
        "  plt.close(fig)"
      ],
      "execution_count": null,
      "outputs": []
    },
    {
      "cell_type": "code",
      "metadata": {
        "id": "BDRAixogidJD"
      },
      "source": [
        "for label, polygons in labeled_polygons.items():\n",
        "  print(label, dlc.tools.db.get_nonoutlier_range(polygons, key=\"size\", range_min=0.0))\n",
        "  fig = dlc.tools.plots.plot_box(polygons, key=\"size\", label=f\"Area\", fontsize=18)\n",
        "  fig.savefig(f\"figures/area-non-outliers-{label}.pdf\", bbox_inches=\"tight\")\n",
        "  plt.close(fig)"
      ],
      "execution_count": null,
      "outputs": []
    },
    {
      "cell_type": "code",
      "metadata": {
        "id": "s_XcV-HwiT45"
      },
      "source": [
        "for label, polygons in labeled_polygons.items():\n",
        "  print(label, dlc.tools.db.get_nonoutlier_range(polygons, key=\"convexity_measure\", range_max=1.0))\n",
        "  fig = dlc.tools.plots.plot_1d_histogram(polygons, key=\"convexity_measure\", label=\"Convexity measure\", log = True, fontsize=18)\n",
        "  fig.savefig(f\"figures/convexity-histogram-{label}.pdf\", bbox_inches=\"tight\")\n",
        "  plt.close(fig)"
      ],
      "execution_count": null,
      "outputs": []
    },
    {
      "cell_type": "code",
      "metadata": {
        "id": "9QTcXKgcbMkY"
      },
      "source": [
        "labeled_polygons[\"sahara_sahel\"][\"size\"].describe()"
      ],
      "execution_count": null,
      "outputs": []
    },
    {
      "cell_type": "code",
      "metadata": {
        "id": "fLBfpsvyjQXs"
      },
      "source": [
        "labeled_polygons[\"sahara_sahel\"][\"convexity_measure\"].describe()"
      ],
      "execution_count": null,
      "outputs": []
    },
    {
      "cell_type": "code",
      "metadata": {
        "id": "FuTaHpuZksN3"
      },
      "source": [
        "labeled_polygons[\"sahara\"][\"size\"].describe()"
      ],
      "execution_count": null,
      "outputs": []
    },
    {
      "cell_type": "code",
      "metadata": {
        "id": "pnEaGKBTk94G"
      },
      "source": [
        "labeled_polygons[\"sahara\"][\"convexity_measure\"].describe()"
      ],
      "execution_count": null,
      "outputs": []
    },
    {
      "cell_type": "code",
      "metadata": {
        "id": "Ma8wwRw1cjM2"
      },
      "source": [
        "labeled_polygons[\"sahel\"][\"size\"].describe()"
      ],
      "execution_count": null,
      "outputs": []
    },
    {
      "cell_type": "code",
      "metadata": {
        "id": "MzQpCPc-c9-f"
      },
      "source": [
        "labeled_polygons[\"sahel\"][\"convexity_measure\"].describe()"
      ],
      "execution_count": null,
      "outputs": []
    },
    {
      "cell_type": "code",
      "metadata": {
        "id": "lEYl7f-MdkBg"
      },
      "source": [
        "labeled_polygons[\"rwanda\"][\"size\"].describe()"
      ],
      "execution_count": null,
      "outputs": []
    },
    {
      "cell_type": "code",
      "metadata": {
        "id": "6pk6EeoRdyYr"
      },
      "source": [
        "labeled_polygons[\"rwanda\"][\"convexity_measure\"].describe()"
      ],
      "execution_count": null,
      "outputs": []
    },
    {
      "cell_type": "code",
      "metadata": {
        "id": "3rFeHxBjioT7"
      },
      "source": [
        "for label, polygons in labeled_polygons.items():\n",
        "  fig = dlc.tools.plots.plot_box(polygons, key=\"convexity_measure\", label=f\"Convexity measure\", fontsize=18)\n",
        "  fig.savefig(f\"figures/convexity-non-outliers-{label}.pdf\", bbox_inches=\"tight\")\n",
        "  plt.close(fig)"
      ],
      "execution_count": null,
      "outputs": []
    },
    {
      "cell_type": "code",
      "metadata": {
        "id": "8PUlVv_tbkgj"
      },
      "source": [
        "polygon_examples = dict(\n",
        "    sahara=[47640, 89541, 47677, 44904, 50036, 89557, 50238, 50208],\n",
        "    sahel=[33170, 24286, 30010, 24151, 60232, 80417, 89837, 89935],\n",
        "    rwanda=[6437, 8862, 44228, 69142, 69346, 69545, 69608, 69739],\n",
        ")"
      ],
      "execution_count": null,
      "outputs": []
    },
    {
      "cell_type": "code",
      "metadata": {
        "id": "Iow_qS0JZQH3"
      },
      "source": [
        "for label, ids in polygon_examples.items():\n",
        "  fig, axs = plt.subplots(2, 4, figsize=(6, 4))\n",
        "  for id, ax in zip(ids, axs.flat):\n",
        "    polygon = labeled_polygons[label].query(f\"id == {id}\")\n",
        "    ax.axis(\"off\")\n",
        "    ax.set_title(f\"{polygon.iloc[0]['convexity_measure']:.3f}\")\n",
        "    polygon.boundary.plot(ax=ax, color=\"black\")\n",
        "    polygon.to_crs(\"EPSG:6933\").centroid.to_crs(labeled_polygons[label].crs).plot(ax=ax, color=\"purple\")\n",
        "  fig.savefig(f\"figures/{label}_polygons.pdf\", bbox_inches=\"tight\")\n",
        "  plt.close(fig)"
      ],
      "execution_count": null,
      "outputs": []
    },
    {
      "cell_type": "code",
      "metadata": {
        "id": "BD1EqBZe-upS"
      },
      "source": [
        "hlines = dict(sahara=(37.96,), sahel=(62.44,), rwanda=(51.92,))\n",
        "vlines = dict(sahara=(0.97,), sahel=(0.97,), rwanda=(0.82,))\n",
        "\n",
        "for label, polygons in labeled_polygons.items():\n",
        "  if label in hlines and label in vlines:\n",
        "    fig, meta = dlc.tools.plots.plot_2d_histogram(polygons.query(\"is_orphan == False\"), x_key=\"convexity_measure\", x_label=\"Convexity measure\",\n",
        "                                            y_key=\"size\", y_label=\"Area\", fontsize=18, figsize=(6, 4),\n",
        "                                            vlines=vlines[label], hlines=hlines[label],)\n",
        "  fig.tight_layout()\n",
        "  fig.savefig(f\"figures/{label}-2d-histogram.pdf\", bbox_inches=\"tight\")\n",
        "  plt.close(fig)"
      ],
      "execution_count": null,
      "outputs": []
    },
    {
      "cell_type": "code",
      "metadata": {
        "id": "xM5qszDjoZky"
      },
      "source": [
        "labeled_areas = dict(\n",
        "    sahara_sahel=sahara_sahel.areas.query(\"n_tiles > 0\"),\n",
        "    sahel=sahara_sahel.areas.query(\"n_tiles > 0 and region == 'sahel'\"),\n",
        "    sahara=sahara_sahel.areas.query(\"n_tiles > 0 and region == 'sahara'\"),\n",
        "    rwanda=rwanda.areas.query(\"n_tiles > 0\"),\n",
        ")"
      ],
      "execution_count": null,
      "outputs": []
    },
    {
      "cell_type": "code",
      "metadata": {
        "id": "rvFWvlxR7f1Z"
      },
      "source": [
        "labeled_areas[\"sahara_sahel\"][\"n_polygons\"].describe()"
      ],
      "execution_count": null,
      "outputs": []
    },
    {
      "cell_type": "code",
      "metadata": {
        "id": "6wsKXhXXoH7t"
      },
      "source": [
        "labeled_areas[\"sahara\"][\"n_polygons\"].describe()"
      ],
      "execution_count": null,
      "outputs": []
    },
    {
      "cell_type": "code",
      "metadata": {
        "id": "Umz8edxSpV9f"
      },
      "source": [
        "labeled_areas[\"sahel\"][\"n_polygons\"].describe()"
      ],
      "execution_count": null,
      "outputs": []
    },
    {
      "cell_type": "code",
      "metadata": {
        "id": "rktT3Day7tA8"
      },
      "source": [
        "labeled_areas[\"rwanda\"][\"n_polygons\"].describe()"
      ],
      "execution_count": null,
      "outputs": []
    },
    {
      "cell_type": "code",
      "metadata": {
        "id": "B69KXPS0Le5R"
      },
      "source": [
        "outlier_spec = [\n",
        "                dict(name=\"size\", range_min=0.0),\n",
        "                dict(name=\"convexity_measure\", range_min=0.0, range_max=1.0,)]\n",
        "labeled_polygons[\"sahel\"] = dlc.tools.db.mark_outliers(labeled_polygons[\"sahel\"], keys=outlier_spec)\n",
        "cmap = mpl.colors.ListedColormap([\"gray\", \"purple\"], N=2)\n",
        "fig, ax = plt.subplots(1, 1, figsize=(12, 6))\n",
        "labeled_polygons[\"sahel\"].query(\"area_id == 195\").plot(column=\"outlier\", ax=ax, cmap=cmap, alpha=0.8)\n",
        "fig.savefig(\"figures/outliers_350.pdf\", bbox_inches=\"tight\")"
      ],
      "execution_count": null,
      "outputs": []
    },
    {
      "cell_type": "code",
      "metadata": {
        "id": "WK_B1OnkNzqO"
      },
      "source": [
        "labeled_polygons[\"sahel\"] = dlc.tools.db.mark_query(\n",
        "    labeled_polygons[\"sahel\"],\n",
        "    \"desired\",\n",
        "    \"size <= 200.0 and convexity_measure >= 0.80\")\n",
        "cmap = mpl.colors.ListedColormap([\"purple\", \"gray\"], N=2)\n",
        "fig, ax = plt.subplots(1, 1, figsize=(12, 6))\n",
        "labeled_polygons[\"sahel\"].query(\"area_id == 195\").plot(column=\"desired\", ax=ax, cmap=cmap, alpha=0.8)\n",
        "fig.savefig(\"figures/desired_350.pdf\", bbox_inches=\"tight\")"
      ],
      "execution_count": null,
      "outputs": []
    },
    {
      "cell_type": "code",
      "metadata": {
        "id": "sCwNAD7WPd02"
      },
      "source": [
        "labeled_polygons[\"rwanda\"] = dlc.tools.db.mark_outliers(labeled_polygons[\"rwanda\"], keys=outlier_spec)\n",
        "cmap = mpl.colors.ListedColormap([\"gray\", \"purple\"], N=2)\n",
        "fig, ax = plt.subplots(1, 1, figsize=(12, 6))\n",
        "labeled_polygons[\"rwanda\"].query(\"area_id == 1\").plot(column=\"outlier\", ax=ax, cmap=cmap, alpha=0.8)\n",
        "fig.savefig(\"figures/outliers_1.pdf\", bbox_inches=\"tight\")\n",
        "#mpld3.plugins.connect(fig, dlc.tools.mpld3.ZoomSizePlugin())\n",
        "#mpld3.display()"
      ],
      "execution_count": null,
      "outputs": []
    },
    {
      "cell_type": "code",
      "metadata": {
        "id": "k0HQqk_vN_mR"
      },
      "source": [
        "labeled_polygons[\"rwanda\"] = dlc.tools.db.mark_query(\n",
        "    labeled_polygons[\"rwanda\"],\n",
        "    \"desired\",\n",
        "    \"size <= 200.0 and convexity_measure >= 0.80\")\n",
        "cmap = mpl.colors.ListedColormap([\"purple\", \"gray\",], N=2)\n",
        "fig, ax = plt.subplots(1, 1, figsize=(12, 6))\n",
        "labeled_polygons[\"rwanda\"].query(\"area_id == 1\").plot(column=\"desired\", ax=ax, cmap=cmap, alpha=0.8)\n",
        "fig.savefig(\"figures/desired_1.pdf\", bbox_inches=\"tight\")\n",
        "#mpld3.plugins.connect(fig, dlc.tools.mpld3.ZoomSizePlugin())\n",
        "#mpld3.display()"
      ],
      "execution_count": null,
      "outputs": []
    },
    {
      "cell_type": "markdown",
      "metadata": {
        "id": "HjxI-Wtbt0Ue"
      },
      "source": [
        "#### Fix overlapping polygons"
      ]
    },
    {
      "cell_type": "code",
      "metadata": {
        "id": "Ve9I0ThQ1oXX"
      },
      "source": [
        "fixed_polygons = dict()"
      ],
      "execution_count": null,
      "outputs": []
    },
    {
      "cell_type": "markdown",
      "metadata": {
        "id": "WAcYj3h6xqlq"
      },
      "source": [
        "Fix the polygons:"
      ]
    },
    {
      "cell_type": "code",
      "metadata": {
        "id": "-_3lXad21b7x"
      },
      "source": [
        "fixed_polygons[(\"rwanda\", 1.0)] = dlc.tools.db.fix_overlapped_polygons(\n",
        "    rwanda.polygons.query(\"is_orphan == False\"),\n",
        "    initial_scale=1.0)"
      ],
      "execution_count": null,
      "outputs": []
    },
    {
      "cell_type": "code",
      "metadata": {
        "id": "ehUBH4x3DH9H"
      },
      "source": [
        "fixed_polygons[(\"rwanda\", 0.9)] = dlc.tools.db.fix_overlapped_polygons(\n",
        "    rwanda.polygons.query(\"is_orphan == False\"),\n",
        "    initial_scale=0.9)"
      ],
      "execution_count": null,
      "outputs": []
    },
    {
      "cell_type": "code",
      "metadata": {
        "id": "XRrlnmRhCb8E"
      },
      "source": [
        "fixed_polygons[(\"sahara-sahel\", 1.0)] = dlc.tools.db.fix_overlapped_polygons(\n",
        "    sahara_sahel.polygons.query(\"is_orphan == False\"),\n",
        "    initial_scale=1.0)"
      ],
      "execution_count": null,
      "outputs": []
    },
    {
      "cell_type": "code",
      "metadata": {
        "id": "dXgEG6wpDP0x"
      },
      "source": [
        "fixed_polygons[(\"sahara-sahel\", 0.9)] = dlc.tools.db.fix_overlapped_polygons(\n",
        "    sahara_sahel.polygons.query(\"is_orphan == False\"),\n",
        "    initial_scale=0.9)"
      ],
      "execution_count": null,
      "outputs": []
    },
    {
      "cell_type": "code",
      "metadata": {
        "id": "x39DjU9QEemu"
      },
      "source": [
        "for (label, initial_scale), polygons in fixed_polygons.items():\n",
        "  initial_scale = f\"{initial_scale:.1f}\".replace(\".\", \"_\")\n",
        "  polygons.to_file(f\"/content/datasets/{label}/fixed-polygons-{initial_scale}.geojson\", driver=\"GeoJSON\")"
      ],
      "execution_count": null,
      "outputs": []
    },
    {
      "cell_type": "markdown",
      "metadata": {
        "id": "_yHijOgTxtP5"
      },
      "source": [
        "Or, load already fixed polygons:"
      ]
    },
    {
      "cell_type": "code",
      "metadata": {
        "id": "4Wy4Apqtx3WO"
      },
      "source": [
        "fixed_polygons = dict()\n",
        "fixed_polygons[(\"sahara-sahel\", 0.9)] = None\n",
        "fixed_polygons[(\"rwanda\", 0.9)] = None\n",
        "for (label, initial_scale), _ in fixed_polygons.items():\n",
        "  initial_scale_s = f\"{initial_scale:.1f}\".replace(\".\", \"_\")\n",
        "  filename = f\"/content/datasets/{label}/fixed-polygons-{initial_scale_s}.geojson\"\n",
        "  fixed_polygons[(label, initial_scale)] = gpd.read_file(filename)"
      ],
      "execution_count": null,
      "outputs": []
    },
    {
      "cell_type": "markdown",
      "metadata": {
        "id": "aAr1O3qA-t62"
      },
      "source": [
        "#### Manual inspection of fixed polygons\n",
        "Inspect interactively (to find a proper extent):"
      ]
    },
    {
      "cell_type": "code",
      "metadata": {
        "id": "p1lAwIOhI50o"
      },
      "source": [
        "# Find some interesting cases:\n",
        "area_ids = set()\n",
        "max = fixed_polygons[\"fixed\"].max()\n",
        "for _, polygon in fixed_polygons.query(f\"fixed == {max}\").iterrows():\n",
        "  area_ids.add(polygon[\"area_id\"])\n",
        "print(area_ids)"
      ],
      "execution_count": null,
      "outputs": []
    },
    {
      "cell_type": "code",
      "metadata": {
        "id": "iDIcprA2PTPL"
      },
      "source": [
        "fixed_polygons[(\"sahara-sahel\", 0.9)].query(\"fixed > 0\")"
      ],
      "execution_count": null,
      "outputs": []
    },
    {
      "cell_type": "code",
      "metadata": {
        "id": "C86wKyu4swTA"
      },
      "source": [
        "def inspect_area(polygons, area_id, *, max_passes=1, figsize=(12, 8),\n",
        "                 highlight=None, highlight_color=\"black\",\n",
        "                 color=True, colorbar=True, zoom_to=None,\n",
        "                 scale=0.90, save=False, fontsize=12):\n",
        "  x = dlc.tools.db.fix_overlapped_polygons(polygons,\n",
        "                                            area_id=area_id,\n",
        "                                            initial_scale=scale,)\n",
        "\n",
        "  fig = plt.figure(figsize=figsize)\n",
        "  #fig.suptitle(f\"Area {area_id}, Dataset: {DATASET}\")\n",
        "  ax1 = fig.add_subplot(1, 2, 1)\n",
        "  ax1.set_title(\"With overlap correction\", fontsize=fontsize)\n",
        "  ax2 = fig.add_subplot(1, 2, 2)\n",
        "  ax2.set_title(\"Without overlap correction\", fontsize=fontsize)\n",
        "  areas.iloc[area_id:area_id+1].boundary.plot(color=\"black\", ax=ax1, linestyle=\"dashed\")\n",
        "  areas.iloc[area_id:area_id+1].boundary.plot(color=\"black\", ax=ax2, linestyle=\"dashed\")\n",
        "  polygons.boundary.plot(edgecolor=\"gray\", linestyle=\"dashed\", ax=ax1)\n",
        "  if len(x) > 0:\n",
        "    x.boundary.plot(edgecolor=\"black\", ax=ax1)\n",
        "    print(x.columns)\n",
        "    fixed_x = x.query(\"fixed > 0\")\n",
        "    if len(fixed_x) > 0:\n",
        "      fixed_x.plot(color=\"green\", alpha=0.5, ax=ax1)\n",
        "    overlapped_x = x.query(\"overlapped == True\")\n",
        "    if len(overlapped_x) > 0:\n",
        "      overlapped_x.plot(color=\"red\", alpha=0.5, ax=ax1)\n",
        "    overlapped_x = x.query(\"overlapped == True or fixed > 0\")\n",
        "    if len(overlapped_x) > 0:\n",
        "      overlapped_x.plot(color=\"red\", alpha=0.5, ax=ax2)\n",
        "  polygons.query(f\"area_id == {area_id}\").boundary.plot(edgecolor=\"black\", ax=ax2)\n",
        "  ax1.axis(\"off\")\n",
        "  ax2.axis(\"off\")\n",
        "  if highlight is not None:\n",
        "    highlight_polygons = polygons.query(f\"id in {highlight}\")\n",
        "    highlight_polygons.plot(color=highlight_color, ax=ax2)\n",
        "  #polygons.boundary.plot(edgecolor=\"gray\", linestyle=\"dashed\", ax=ax2)\n",
        "  if zoom_to is not None:\n",
        "    ax1.set_xlim(zoom_to[:2])\n",
        "    ax2.set_xlim(zoom_to[:2])\n",
        "    ax1.set_ylim(zoom_to[2:])\n",
        "    ax2.set_ylim(zoom_to[2:])\n",
        "  fig.tight_layout()\n",
        "  if save:\n",
        "    fig.savefig(f\"/content/output/fixed_area_{area_id}-{DATASET}.png\")\n",
        "    fig.savefig(f\"/content/output/fixed_area_{area_id}-{DATASET}.pdf\")\n",
        "  return fig"
      ],
      "execution_count": null,
      "outputs": []
    },
    {
      "cell_type": "code",
      "metadata": {
        "id": "cvDzGX2YNpjA"
      },
      "source": [
        "f_area_id = 181\n",
        "f_scale = 0.90\n",
        "zoom_to = None\n",
        "polygons = sahara_sahel.polygons\n",
        "#zoom_to = (-14.051819097589249, -14.050454978133669, 15.309446991508144, 15.310388615191732)\n",
        "zoom_to = (-13.942109216236247, -13.941586232120281, 15.408869070220973, 15.409089388357195)\n",
        "fig = inspect_area(polygons, f_area_id, max_passes=None, highlight=None,\n",
        "                   colorbar=False, zoom_to=zoom_to, scale=f_scale)\n",
        "#fig.savefig(\"figures/overlapped_polygons_350.pdf\", bbox_inches=\"tight\")\n",
        "#mpld3.plugins.connect(fig, dlc.tools.mpld3.ZoomSizePlugin())\n",
        "#mpld3.display()"
      ],
      "execution_count": null,
      "outputs": []
    },
    {
      "cell_type": "code",
      "metadata": {
        "id": "9fF8n1yUTHV2"
      },
      "source": [
        "from google.colab import files\n",
        "filename = \"fixed_polygons.pdf\"\n",
        "fig.savefig(filename, bbox_inches=\"tight\")\n",
        "files.download(filename)"
      ],
      "execution_count": null,
      "outputs": []
    },
    {
      "cell_type": "code",
      "metadata": {
        "id": "WUD3lP3e7Db6"
      },
      "source": [
        "def inspect_area(polygons, area_id, *, max_passes=1, figsize=(6,6),\n",
        "                 highlight=None, highlight_color=\"black\",\n",
        "                 color=True, colorbar=True, zoom_to=None,\n",
        "                 scale=0.90, save=False, fontsize=12,):\n",
        "  x = dlc.tools.db.fix_overlapped_polygons(polygons,\n",
        "                                            area_id=area_id,\n",
        "                                            initial_scale=scale,)\n",
        "\n",
        "  fig, ax = plt.subplots(1, 1, figsize=figsize)\n",
        "  areas.iloc[area_id:area_id+1].boundary.plot(color=\"gray\", linestyle=\"dashed\", ax=ax)\n",
        "  if len(x) > 0:\n",
        "    x.boundary.plot(edgecolor=\"black\", ax=ax)\n",
        "    polygons.query(f\"area_id == {area_id}\").boundary.plot(edgecolor=\"black\", linestyle=\"dotted\", ax=ax)\n",
        "    overlapped_x = x.query(\"overlapped == True or fixed > 0\")\n",
        "    if len(overlapped_x) > 0:\n",
        "      overlapped_x.plot(color=\"purple\", alpha=0.8, ax=ax)\n",
        "  ax.axis(\"off\")\n",
        "  if zoom_to is not None:\n",
        "    ax.set_xlim(zoom_to[:2])\n",
        "    ax.set_ylim(zoom_to[2:])\n",
        "  fig.tight_layout()\n",
        "  return fig"
      ],
      "execution_count": null,
      "outputs": []
    },
    {
      "cell_type": "code",
      "metadata": {
        "id": "b6yjZ3dgJs2q"
      },
      "source": [
        "f_area_id = 350\n",
        "f_scale = 0.90\n",
        "zoom_to = None\n",
        "polygons = sahara_sahel.polygons\n",
        "#zoom_to = (-14.051819097589249, -14.050454978133669, 15.309446991508144, 15.310388615191732)\n",
        "fig = inspect_area(polygons, f_area_id, max_passes=None, highlight=None,\n",
        "                   colorbar=False, zoom_to=zoom_to, scale=f_scale)\n",
        "#fig.savefig(\"figures/overlapped_polygons_350.pdf\", bbox_inches=\"tight\")\n",
        "# mpld3.plugins.connect(fig, dlc.tools.mpld3.ZoomSizePlugin())\n",
        "# mpld3.display()"
      ],
      "execution_count": null,
      "outputs": []
    },
    {
      "cell_type": "code",
      "metadata": {
        "id": "2ywY4M0SKMV4"
      },
      "source": [
        "f_area_id = 170\n",
        "f_scale = 1.0\n",
        "zoom_to = (-14.05088262754295, -14.050575983537563, 15.309966409582259, 15.31017807965024)\n",
        "fig = inspect_area(polygons, f_area_id, max_passes=None, highlight=None,\n",
        "                   colorbar=False, zoom_to=zoom_to, scale=f_scale)\n",
        "fig.savefig(\"figures/overlapped_polygons_170.pdf\", bbox_inches=\"tight\")\n",
        "# mpld3.plugins.connect(fig, dlc.tools.mpld3.ZoomSizePlugin())\n",
        "# mpld3.display()"
      ],
      "execution_count": null,
      "outputs": []
    },
    {
      "cell_type": "code",
      "metadata": {
        "id": "7Q4o6tsH71gV"
      },
      "source": [
        "f_area_id = 462\n",
        "f_scale = 1.0\n",
        "zoom_to = (-12.275696933849984, -12.275648172260922, 23.379950931018126, 23.379986533827907)\n",
        "fig = inspect_area(polygons, f_area_id, max_passes=None, highlight=None,\n",
        "                   colorbar=False, zoom_to=zoom_to, scale=f_scale)\n",
        "fig.savefig(\"figures/heavily_overlapped_polygons_462.pdf\", bbox_inches=\"tight\")\n",
        "#mpld3.plugins.connect(fig, dlc.tools.mpld3.ZoomSizePlugin())\n",
        "#mpld3.display()"
      ],
      "execution_count": null,
      "outputs": []
    },
    {
      "cell_type": "code",
      "metadata": {
        "id": "pr-JONkw4zhc"
      },
      "source": [
        "f_area_id = 81\n",
        "f_scale = 0.90\n",
        "fig = inspect_area(polygons, f_area_id, max_passes=None, highlight=None,\n",
        "                   colorbar=False, zoom_to=None, scale=f_scale)\n",
        "#fig.savefig(\"figures/overlapped_polygons.pdf\", bbox_inches=\"tight\")\n",
        "mpld3.plugins.connect(fig, dlc.tools.mpld3.ZoomSizePlugin())\n",
        "mpld3.display()"
      ],
      "execution_count": null,
      "outputs": []
    },
    {
      "cell_type": "code",
      "metadata": {
        "id": "hcRBvpBYEbZv"
      },
      "source": [
        "Warning: Found 20 overlapped pairs at finish.\n",
        "                Areas: {258, 272, 145, 146, 281, 285, 289, 297, 170, 181, 186, 67, 195, 76, 213, 86, 87, 94, 97, 251}"
      ],
      "execution_count": null,
      "outputs": []
    },
    {
      "cell_type": "markdown",
      "metadata": {
        "id": "tQyBJ3uc-yQ6"
      },
      "source": [
        "Save the figure:"
      ]
    },
    {
      "cell_type": "code",
      "metadata": {
        "id": "gmyVdCnOsUc5"
      },
      "source": [
        "zoom_to = None\n",
        "fig = inspect_area(f_area_id, max_passes=None, highlight=None,\n",
        "                   color=False, zoom_to=zoom_to,\n",
        "                   scale=f_scale, save=True)"
      ],
      "execution_count": null,
      "outputs": []
    },
    {
      "cell_type": "markdown",
      "metadata": {
        "id": "0EFMbXDrEoLX"
      },
      "source": [
        "#### Loading the frames to local disk\n",
        "Please see the sections below for the creation of the frame files and database."
      ]
    },
    {
      "cell_type": "code",
      "metadata": {
        "id": "4FZxLS747Jal"
      },
      "source": [
        "import shutil\n",
        "\n",
        "def download_frames_zip(dataset, namespace=\"frames\", suffix=\"base\", local_base_path=\"./data/datasets\"):\n",
        "  archive_path = pathlib.Path(f\"/content/datasets/frames_zips/{namespace}-{dataset}-{suffix}.zip\")\n",
        "  if not archive_path.exists():\n",
        "    msg = f\"Archive does not exist: {archive_path}\"\n",
        "    raise ValueError(msg)\n",
        "  local_path = pathlib.Path(local_base_path).joinpath(f\"{namespace}/{dataset}\")\n",
        "  if not local_path.exists():\n",
        "    local_path.mkdir(parents=True)\n",
        "  else:\n",
        "    print(f\"Removing previous files at {local_path}\")\n",
        "    shutil.rmtree(local_path)\n",
        "    local_path.mkdir(parents=True)\n",
        "  print(f\"Downloading {archive_path}\")\n",
        "  subprocess.call([\"cp\", str(archive_path), \"./tmp.zip\"])\n",
        "  print(f\"Saving files to {local_path}\")\n",
        "  subprocess.call([\"unzip\", \"-j\", \"./tmp.zip\", \"-d\", str(local_path)])\n",
        "  pathlib.Path(\"./tmp.zip\").unlink()\n",
        "  frames = gpd.read_file(local_path.joinpath(\"frames.geojson\"))\n",
        "  return frames"
      ],
      "execution_count": null,
      "outputs": []
    },
    {
      "cell_type": "markdown",
      "metadata": {
        "id": "mBBQTZwDqkGS"
      },
      "source": [
        "#### Visualizing the tiles in the Sahara, Sahel and Sudan areas\n"
      ]
    },
    {
      "cell_type": "code",
      "metadata": {
        "id": "_UdbVzmcuKjg"
      },
      "source": [
        "africa = gpd.read_file(\"/content/other/shapefiles/africa.geojson\")"
      ],
      "execution_count": null,
      "outputs": []
    },
    {
      "cell_type": "code",
      "metadata": {
        "id": "Dw-xiQUjuRbK"
      },
      "source": [
        "def territories(objects):\n",
        "   return gpd.sjoin(africa, gpd.GeoDataFrame(geometry=[objects.unary_union], crs=objects.crs), how=\"inner\", op=\"intersects\")"
      ],
      "execution_count": null,
      "outputs": []
    },
    {
      "cell_type": "code",
      "metadata": {
        "id": "pkIeGtMIOubQ"
      },
      "source": [
        "def zoom(ax, bbox):\n",
        "  ax.set_xlim(bbox[:2])\n",
        "  ax.set_xlim(bbox[:2])\n",
        "  ax.set_ylim(bbox[2:])\n",
        "  ax.set_ylim(bbox[2:])"
      ],
      "execution_count": null,
      "outputs": []
    },
    {
      "cell_type": "code",
      "metadata": {
        "id": "gB60cu03bODC"
      },
      "source": [
        "def plot_rwanda(zoom_to=None, path=None, polygons=None, polygons_as_boundaries=False, figsize=(9, 9)):\n",
        "  fig = plt.figure(figsize=figsize)\n",
        "  ax = fig.add_subplot(1, 1, 1)\n",
        "  africa.query(\"ISO3 in ['RWA']\").boundary.plot(ax=ax, color=\"black\")\n",
        "  #rwanda.tiles.query(\"n_areas == 0\").boundary.plot(ax=ax, color=\"skyblue\", label=\"Tiles with no areas\")\n",
        "  rwanda.tiles.query(\"n_areas > 0\").boundary.plot(ax=ax, color=\"purple\", label=\"Tiles with areas\")\n",
        "  rwanda.areas.boundary.plot(ax=ax, color=\"gray\", linestyle=\"dashed\", label=\"Areas\")\n",
        "  bbox = None\n",
        "  if zoom_to is not None:\n",
        "    bbox = shapely.geometry.box(zoom_to[0], zoom_to[2], zoom_to[1], zoom_to[3])\n",
        "    zoom(ax, zoom_to)\n",
        "  if polygons is not None:\n",
        "    if bbox is not None:\n",
        "      polygons = gpd.sjoin(polygons, gpd.GeoDataFrame(geometry=[bbox], crs=polygons.crs), how=\"inner\", op=\"intersects\")\n",
        "    if polygons_as_boundaries:\n",
        "      polygons.boundary.plot(\n",
        "          ax=ax, color=\"forestgreen\", label=\"Tree annotations\"\n",
        "      )\n",
        "    else:\n",
        "      polygons.plot(ax=ax, color=\"forestgreen\", label=\"Tree annotations\")\n",
        "  ax.set_ylabel(\"Latitude\", fontsize=18)\n",
        "  ax.set_xlabel(\"Longitude\", fontsize=18)\n",
        "  #handles, labels = ax.get_legend_handles_labels()\n",
        "  #fig.legend(handles, labels, loc=\"lower center\", fancybox=True, shadow=True, ncol=3)\n",
        "  if path is not None:\n",
        "    fig.savefig(path, bbox_inches=\"tight\")\n",
        "  return fig"
      ],
      "execution_count": null,
      "outputs": []
    },
    {
      "cell_type": "code",
      "metadata": {
        "id": "V3EJuJReef6F"
      },
      "source": [
        "fig = plot_rwanda()\n",
        "mpld3.plugins.connect(fig, dlc.tools.mpld3.ZoomSizePlugin())\n",
        "mpld3.display()"
      ],
      "execution_count": null,
      "outputs": []
    },
    {
      "cell_type": "code",
      "metadata": {
        "id": "3THNJS96JmaV"
      },
      "source": [
        "!mkdir figures"
      ],
      "execution_count": null,
      "outputs": []
    },
    {
      "cell_type": "code",
      "metadata": {
        "id": "WKHoi2UAJ5fS"
      },
      "source": [
        "from google.colab import files\n",
        "files.download(\"./figures/rwanda-areas.png\")"
      ],
      "execution_count": null,
      "outputs": []
    },
    {
      "cell_type": "code",
      "metadata": {
        "id": "v7xkLdg0aThu"
      },
      "source": [
        "fig = plot_rwanda(path=\"./figures/rwanda-tiles.pdf\")"
      ],
      "execution_count": null,
      "outputs": []
    },
    {
      "cell_type": "code",
      "metadata": {
        "id": "wSZbPlhIaeim"
      },
      "source": [
        "zoom_to = (29.998086308683405, 30.13197761201941, -2.0059204534785198, -1.8936863709496667)\n",
        "fig = plot_rwanda(zoom_to=zoom_to, polygons=rwanda.polygons,\n",
        "                  path=\"./figures/rwanda-areas.png\")"
      ],
      "execution_count": null,
      "outputs": []
    },
    {
      "cell_type": "code",
      "metadata": {
        "id": "tea9MgN-exQo"
      },
      "source": [
        "zoom_to = (30.200470901174018, 30.20192267090786, -1.7068311353141248, -1.7056141926146275)\n",
        "fig = plot_rwanda(zoom_to=zoom_to, polygons=rwanda_polygons,\n",
        "                  polygons_as_boundaries=True,\n",
        "                  path=\"./figures/rwanda-trees.png\")"
      ],
      "execution_count": null,
      "outputs": []
    },
    {
      "cell_type": "code",
      "metadata": {
        "id": "9y9oLB5Gq3ph"
      },
      "source": [
        "def plot_sahara_sahel(zoom_to=None, path=None, polygons=None, polygons_as_boundaries=False, figsize=(9, 9),\n",
        "                      interactive=False):\n",
        "  fig = plt.figure(figsize=figsize)\n",
        "  ax = fig.add_subplot(1, 1, 1)\n",
        "  if not interactive:\n",
        "    territories(sahara_sahel.tiles).boundary.plot(ax=ax, color=\"black\")\n",
        "  #sahara_sahel.tiles.query(\"n_areas == 0\").boundary.plot(ax=ax, color=\"skyblue\", label=\"Tiles with no areas\")\n",
        "  sahara_sahel.tiles.query(\"region == 'sahel' and n_areas > 0\").boundary.plot(ax=ax, color=\"purple\", label=\"Sahel-Sudan tiles\")\n",
        "  sahara_sahel.tiles.query(\"region == 'sahara' and n_areas > 0\").boundary.plot(ax=ax, color=\"gold\", label=\"Sahara tiles\")\n",
        "  sahara_sahel.areas.boundary.plot(ax=ax, color=\"gray\", linestyle=\"dashed\", label=\"Areas\")\n",
        "  bbox = None\n",
        "  if zoom_to is not None:\n",
        "    bbox = shapely.geometry.box(zoom_to[0], zoom_to[2], zoom_to[1], zoom_to[3])\n",
        "    zoom(ax, zoom_to)\n",
        "  if polygons is not None:\n",
        "    if bbox is not None:\n",
        "      polygons = gpd.sjoin(polygons, gpd.GeoDataFrame(geometry=[bbox], crs=polygons.crs), how=\"inner\", op=\"intersects\")\n",
        "    if polygons_as_boundaries:\n",
        "      polygons.boundary.plot(\n",
        "          ax=ax, color=\"forestgreen\", label=\"Tree annotations\"\n",
        "      )\n",
        "    else:\n",
        "      polygons.plot(ax=ax, color=\"forestgreen\", label=\"Tree annotations\")\n",
        "  #handles, labels = ax.get_legend_handles_labels()\n",
        "  #fig.legend(handles, labels, loc=\"lower center\", fancybox=True, shadow=True, ncol=3)\n",
        "  ax.set_ylabel(\"Latitude\", fontsize=18)\n",
        "  ax.set_xlabel(\"Longitude\", fontsize=18)\n",
        "  if path is not None:\n",
        "    fig.savefig(path, bbox_inches=\"tight\")\n",
        "  return fig"
      ],
      "execution_count": null,
      "outputs": []
    },
    {
      "cell_type": "code",
      "metadata": {
        "id": "xB1RSH1Hj_wy"
      },
      "source": [
        "fig = plot_sahara_sahel(interactive=True, figsize=(12, 6))\n",
        "mpld3.plugins.connect(fig, dlc.tools.mpld3.ZoomSizePlugin())\n",
        "mpld3.display()"
      ],
      "execution_count": null,
      "outputs": []
    },
    {
      "cell_type": "code",
      "metadata": {
        "id": "Tey2g5qbkPQg"
      },
      "source": [
        "fig = plot_sahara_sahel(path=\"./figures/sahara-sahel-tiles.pdf\")"
      ],
      "execution_count": null,
      "outputs": []
    },
    {
      "cell_type": "code",
      "metadata": {
        "id": "3CLj1OwRld3v"
      },
      "source": [
        "zoom_to = (-15.106290532941847, -14.567430706045057, 15.642839549101144, 16.238970734236812)\n",
        "\n",
        "fig = plot_sahara_sahel(path=\"./figures/sahara-sahel-areas.png\", zoom_to=zoom_to,\n",
        "                        polygons=sahara_sahel.polygons)"
      ],
      "execution_count": null,
      "outputs": []
    },
    {
      "cell_type": "code",
      "metadata": {
        "id": "W5lv-URooB62"
      },
      "source": [
        "zoom_to = (-10.832529509520917, -10.829493690373182, 13.282456625293477, 13.285673112691013)\n",
        "\n",
        "fig = plot_sahara_sahel(path=\"./figures/sahara-sahel-trees.png\", zoom_to=zoom_to,\n",
        "                        polygons=sahara_sahel_polygons,\n",
        "                        polygons_as_boundaries=True)"
      ],
      "execution_count": null,
      "outputs": []
    },
    {
      "cell_type": "markdown",
      "metadata": {
        "id": "zYezQ-qGv1XT"
      },
      "source": [
        "### Frame data creators"
      ]
    },
    {
      "cell_type": "code",
      "metadata": {
        "id": "gvuPKS7Hv0UT"
      },
      "source": [
        "import dlc.tools.cache\n",
        "import dlc.frames.centroids\n",
        "import dlc.frames.raster\n",
        "import dlc.frames.creators.base\n",
        "import dlc.frames.creators.data\n",
        "import dlc.frames.creators.density\n",
        "import dlc.frames.creators.image\n",
        "import dlc.frames.creators.scalar\n",
        "import dlc.frames.creators.segmentation\n",
        "import dlc.frames.factory\n",
        "\n",
        "importlib.reload(dlc.tools.cache)\n",
        "importlib.reload(dlc.frames.centroids)\n",
        "importlib.reload(dlc.frames.raster)\n",
        "importlib.reload(dlc.frames.creators.base)\n",
        "importlib.reload(dlc.frames.creators.data)\n",
        "importlib.reload(dlc.frames.creators.density)\n",
        "importlib.reload(dlc.frames.creators.image)\n",
        "importlib.reload(dlc.frames.creators.scalar)\n",
        "importlib.reload(dlc.frames.creators.segmentation)\n",
        "importlib.reload(dlc.frames.factory)"
      ],
      "execution_count": null,
      "outputs": []
    },
    {
      "cell_type": "markdown",
      "metadata": {
        "id": "E9jX-sYl71EV"
      },
      "source": [
        "#### Selecting area and tile"
      ]
    },
    {
      "cell_type": "markdown",
      "metadata": {
        "id": "ayuULG8_8hNo"
      },
      "source": [
        "##### Sahara-Sahel"
      ]
    },
    {
      "cell_type": "code",
      "metadata": {
        "id": "iBldGbmlbCvc"
      },
      "source": [
        "dataset = \"sahara-sahel\"\n",
        "tiles = sahara_sahel.tiles\n",
        "areas = sahara_sahel.areas\n",
        "polygons = fixed_polygons[(dataset, 0.9)]\n",
        "output_path = f\"./new_frames/{dataset}\"\n",
        "tiles_path = f\"/content/datasets/{dataset}/StackedImages\""
      ],
      "execution_count": null,
      "outputs": []
    },
    {
      "cell_type": "code",
      "metadata": {
        "id": "Zi4ku7dc8hNo"
      },
      "source": [
        "# Big trees\n",
        "area_id, tile_id = sahara_sahel.get_area_and_tile(211)\n",
        "zoom_to = (-14.871731243347035, -14.869030669749963, 16.05790845472101, 16.058391813736648)"
      ],
      "execution_count": null,
      "outputs": []
    },
    {
      "cell_type": "code",
      "metadata": {
        "id": "2NNIfcye8hNp"
      },
      "source": [
        "# Big trees\n",
        "area_id, tile_id = sahara_sahel.get_area_and_tile(350)\n",
        "zoom_to = None"
      ],
      "execution_count": null,
      "outputs": []
    },
    {
      "cell_type": "code",
      "metadata": {
        "id": "pRD1tcdK8hNp"
      },
      "source": [
        "# No polygons\n",
        "area_id, tile_id = sahara_sahel.get_area_and_tile(1)\n",
        "zoom_to = None"
      ],
      "execution_count": null,
      "outputs": []
    },
    {
      "cell_type": "code",
      "metadata": {
        "id": "kb2XuF3Q8hNq"
      },
      "source": [
        "# Dense area\n",
        "area_id, tile_id = sahara_sahel.get_area_and_tile(153)\n",
        "zoom_to = (-9.434685015373589, -9.433487773486778, 13.74502450648988, 13.745933990550967)"
      ],
      "execution_count": null,
      "outputs": []
    },
    {
      "cell_type": "code",
      "metadata": {
        "id": "vY7A4-bGjoGp"
      },
      "source": [
        "# Random\n",
        "area_id, tile_id = sahara_sahel.get_area_and_tile()\n",
        "zoom_to = None"
      ],
      "execution_count": null,
      "outputs": []
    },
    {
      "cell_type": "markdown",
      "metadata": {
        "id": "Nq9E79Rf8hNq"
      },
      "source": [
        "##### Rwanda"
      ]
    },
    {
      "cell_type": "code",
      "metadata": {
        "id": "laSfoxGxbAbn"
      },
      "source": [
        "dataset = \"rwanda\"\n",
        "tiles = rwanda.tiles\n",
        "areas = rwanda.areas\n",
        "polygons = fixed_polygons[(dataset, 0.9)]\n",
        "output_path = f\"./new_frames/{dataset}\"\n",
        "tiles_path = f\"/content/datasets/{dataset}/Images\""
      ],
      "execution_count": null,
      "outputs": []
    },
    {
      "cell_type": "code",
      "metadata": {
        "id": "QVbI69lQ6lS_"
      },
      "source": [
        "area_id, tile_id = rwanda.get_area_and_tile(79)\n",
        "zoom_to = None"
      ],
      "execution_count": null,
      "outputs": []
    },
    {
      "cell_type": "code",
      "metadata": {
        "id": "fcAnLSl38hNq"
      },
      "source": [
        "# Extremely dense area\n",
        "area_id, tile_id = rwanda.get_area_and_tile(11)\n",
        "zoom_to = (30.625761063670012, 30.62624789752035, -1.42618801533133, -1.425869104433315)\n",
        "# Zoom to zone where polygons barely touch the area\n",
        "# resulting in rasterization innacuracies\n",
        "zoom_to = (30.626560903146476, 30.626697263995233, -1.4252136443760592, -1.4251243182934532)"
      ],
      "execution_count": null,
      "outputs": []
    },
    {
      "cell_type": "code",
      "metadata": {
        "id": "S-PNdkcz8hNq"
      },
      "source": [
        "# Another very dense area\n",
        "area_id, tile_id = rwanda.get_area_and_tile(3)\n",
        "zoom_to = (30.599905901773624, 30.60023820852144, -1.4137027731199092, -1.413465157037063)"
      ],
      "execution_count": null,
      "outputs": []
    },
    {
      "cell_type": "code",
      "metadata": {
        "id": "zfjLVo4i8hNr"
      },
      "source": [
        "area_id, tile_id = rwanda.get_area_and_tile(34)\n",
        "zoom_to = (29.432809336666153, 29.433450492110822, -2.758289038240984, -2.7577796536127304)"
      ],
      "execution_count": null,
      "outputs": []
    },
    {
      "cell_type": "markdown",
      "metadata": {
        "id": "zCv_DULB8hNr"
      },
      "source": [
        "Random sample:"
      ]
    },
    {
      "cell_type": "code",
      "metadata": {
        "id": "Sw7tyWqu8hNr"
      },
      "source": [
        "# Random\n",
        "area_id, tile_id = rwanda.get_area_and_tile()\n",
        "zoom_to = None"
      ],
      "execution_count": null,
      "outputs": []
    },
    {
      "cell_type": "markdown",
      "metadata": {
        "id": "lFAF53-X8At6"
      },
      "source": [
        "#### Plotting creator results"
      ]
    },
    {
      "cell_type": "markdown",
      "metadata": {
        "id": "fatariDx8hNr"
      },
      "source": [
        "We can plot the polygons in the chosen area to qualitatively verify the frames in the next sections."
      ]
    },
    {
      "cell_type": "code",
      "metadata": {
        "id": "Ck8ggN9_8hNs"
      },
      "source": [
        "dlc.tools.plots.plot_polygons_in_area(areas, polygons, area_id)"
      ],
      "execution_count": null,
      "outputs": []
    },
    {
      "cell_type": "code",
      "metadata": {
        "id": "wncTqEum8Dnn"
      },
      "source": [
        "# TODO: Refactor/simplify this function.\n",
        "def plot_result(result, *, path=None, cmap=None,\n",
        "                        log=False, normalize=False, standardize=False, bins=20, figsize=None,\n",
        "                        show_hist=True, output_path = None, masked=False, polygons=None, polygon_color=\"red\",\n",
        "                        zoom_to=None, save=False, show_title=False, additive_constant=None,\n",
        "                        nodata=None, norm=None, bad_value=None, bad_color=None,\n",
        "                        show_axis=True, show_band_names=True,):\n",
        "  if path is None:\n",
        "      if isinstance(result.payload, dict):\n",
        "        path = result.payload[result.payload_main_key]\n",
        "      else:\n",
        "        path = result.payload\n",
        "\n",
        "  return plot_frame(result.area_id, result.tile_id, path=path, figsize=figsize,\n",
        "             cmap=cmap, log=log, normalize=normalize, standardize=standardize,\n",
        "             bins=bins, show_hist=show_hist, output_path=output_path, masked=masked,\n",
        "             polygons=polygons, polygon_color=polygon_color,zoom_to=zoom_to,\n",
        "             show_title=show_title, save=save, additive_constant=additive_constant,\n",
        "             nodata=nodata, norm=norm, bad_value=bad_value, bad_color=bad_color,\n",
        "             show_axis=show_axis, show_band_names=show_band_names)\n",
        "\n",
        "def plot_histogram(result, factor = 1.0, fontsize=12):\n",
        "  if path is None:\n",
        "      if isinstance(result.payload, dict):\n",
        "        path = result.payload[result.payload_main_key]\n",
        "      else:\n",
        "        path = result.payload\n",
        "  image = dlc.tools.images.load_image(path)\n",
        "  image *= factor\n",
        "  fig, ax = plt.suplots(1, 1, figsize=(12, 4))\n",
        "  ax.hist(image.flatten(), bins=\"auto\", color=\"purple\")\n",
        "  ax.set_xlabel(\"Pixel value\")\n",
        "  ax.set_ylabel(\"Frequency\")\n",
        "  return fig\n",
        "\n",
        "def image_normalize(im, axis=(0, 1), c=1e-8):\n",
        "    \"\"\"Normalize to zero mean and unit standard deviation along the given axis\"\"\"\n",
        "    return (im - im.mean(axis)) / (im.std(axis) + c)\n",
        "\n",
        "def plot_frame(area_id, tile_id, path, *,\n",
        "               cmap=None, log=False, normalize=False, standardize=False, figsize=None,\n",
        "               show_hist=True, bins=20, output_path = None, masked=False, polygons=None, polygon_color=\"red\",\n",
        "               zoom_to=None, save=False, show_title=False, additive_constant=None, nodata=None,\n",
        "               norm=None, bad_value=None, bad_color=None, show_axis=True, show_band_names=True,):\n",
        "\n",
        "  with rasterio.open(path, \"r\") as src:\n",
        "    transform = src.transform\n",
        "\n",
        "  image = dlc.tools.images.load_image(path, masked=masked)\n",
        "  if bad_value is not None:\n",
        "    image = np.ma.masked_less_equal(image, bad_value)\n",
        "\n",
        "  if additive_constant is not None:\n",
        "    image[image != 0] += additive_constant\n",
        "\n",
        "  if standardize:\n",
        "    image = dlc.tools.scalers.standardize_image_np(image, axis=(0, 1))\n",
        "\n",
        "  if normalize:\n",
        "    image = dlc.tools.scalers.normalize_image_np(image, axis=(0, 1))\n",
        "\n",
        "  if polygons is not None:\n",
        "    polygons_in_area =  polygons.query(f\"area_id == {area_id}\", inplace=False)\n",
        "    title = f\"Area {area_id}, Tile {tile_id}, {len(polygons_in_area)} polygons\"\n",
        "  else:\n",
        "    polygons_in_area = None\n",
        "    title = f\"Area {area_id}, Tile {tile_id}\"\n",
        "\n",
        "  output_path=None\n",
        "  if save:\n",
        "    path = pathlib.Path(path)\n",
        "    name = path.name.split(\".\")[0]\n",
        "    output_path = pathlib.Path(f\"/content/output/plots/{DATASET}-{name}.png\")\n",
        "\n",
        "  return dlc.tools.plots.plot_frame(image, title=title, cmap=cmap, figsize=figsize,\n",
        "                                    log=log, bins=bins, show_hist=show_hist,\n",
        "                                    output_path=output_path, transform=transform,\n",
        "                                    polygons=polygons_in_area, polygon_color=polygon_color,\n",
        "                                    zoom_to=zoom_to, show_title=show_title, nodata=nodata,\n",
        "                                    norm=norm, mask_color=bad_color,\n",
        "                                    show_axis=show_axis, show_band_names=show_band_names,)"
      ],
      "execution_count": null,
      "outputs": []
    },
    {
      "cell_type": "markdown",
      "metadata": {
        "id": "ji_e02cX4nq3"
      },
      "source": [
        "#### Data source and cache"
      ]
    },
    {
      "cell_type": "markdown",
      "metadata": {
        "id": "mtyI3PmVooR5"
      },
      "source": [
        "The datasource object stores the tiles, areas and polygons databases and also loads and stores polygon and area raster data."
      ]
    },
    {
      "cell_type": "code",
      "metadata": {
        "id": "JDDarVMowDIV"
      },
      "source": [
        "data = dlc.frames.creators.data.CoreFrameDataSource(\n",
        "    dataset, tiles_path,\n",
        "    tiles, areas, polygons,\n",
        ")"
      ],
      "execution_count": null,
      "outputs": []
    },
    {
      "cell_type": "code",
      "metadata": {
        "id": "XqwXUGdF-EBR"
      },
      "source": [
        "%%time\n",
        "data.load_raster_data()"
      ],
      "execution_count": null,
      "outputs": []
    },
    {
      "cell_type": "code",
      "metadata": {
        "id": "XhkTywfkWFl_"
      },
      "source": [
        "data2 = dlc.frames.creators.data.CoreFrameDataSource(\n",
        "    dataset, tiles_path,\n",
        "    tiles, areas, sahara_sahel.polygons,\n",
        ")"
      ],
      "execution_count": null,
      "outputs": []
    },
    {
      "cell_type": "code",
      "metadata": {
        "id": "X1yHR54ZWOC8"
      },
      "source": [
        "%%time\n",
        "data2.load_raster_data()"
      ],
      "execution_count": null,
      "outputs": []
    },
    {
      "cell_type": "code",
      "metadata": {
        "id": "9RaFeE6ApHge"
      },
      "source": [
        "data.suggested_filter_size()"
      ],
      "execution_count": null,
      "outputs": []
    },
    {
      "cell_type": "markdown",
      "metadata": {
        "id": "d2L1Fy8H4TCD"
      },
      "source": [
        "We can inspect polygon rasters:\n",
        "\n",
        "`data.get_polygon_raster_data(area_id, tile_id, 80392)` or randomly `data.get_random_polygon_raster_data()`"
      ]
    },
    {
      "cell_type": "code",
      "metadata": {
        "id": "V8BQb0n1482P"
      },
      "source": [
        "xs = []\n",
        "ys = []\n",
        "for k,v in data._polygon_raster_data.items():\n",
        "  ys.append(v.raster.shape[0])\n",
        "  xs.append(v.raster.shape[1])\n",
        "xs = np.asarray(xs, dtype=\"float32\")\n",
        "ys = np.asarray(ys, dtype=\"float32\")\n",
        "\n",
        "print(np.mean(xs), np.quantile(xs, 0.25), np.quantile(xs, 0.50), np.quantile(xs, 0.75))\n",
        "print(np.mean(ys), np.quantile(ys, 0.25), np.quantile(ys, 0.50), np.quantile(ys, 0.75))"
      ],
      "execution_count": null,
      "outputs": []
    },
    {
      "cell_type": "code",
      "metadata": {
        "id": "X99uLgl_qQsF"
      },
      "source": [
        "x = data.get_polygon_raster_data(area_id, tile_id, polygon_id)"
      ],
      "execution_count": null,
      "outputs": []
    },
    {
      "cell_type": "code",
      "metadata": {
        "id": "1-1U5Km8qQLe"
      },
      "source": [
        "x = data.get_random_polygon_raster_data()"
      ],
      "execution_count": null,
      "outputs": []
    },
    {
      "cell_type": "code",
      "metadata": {
        "id": "TpwJ7TRJ18ql"
      },
      "source": [
        "fig, axs = plt.subplots(1, 2, figsize=(8,4))\n",
        "axs[0].imshow(x.raster, cmap=\"gray\")\n",
        "axs[0].set_title(\"bbox\")\n",
        "axs[1].imshow(x.raster_padded, cmap=\"gray\")\n",
        "axs[1].set_title(\"bbox_padded\")"
      ],
      "execution_count": null,
      "outputs": []
    },
    {
      "cell_type": "code",
      "metadata": {
        "id": "Q-jjWzZBrGWZ"
      },
      "source": [
        "def mask_bad(x):\n",
        "  return np.ma.masked_less_equal(x, 0.0)"
      ],
      "execution_count": null,
      "outputs": []
    },
    {
      "cell_type": "code",
      "metadata": {
        "id": "AFnFHz2LN2pn"
      },
      "source": [
        "c = dlc.frames.centroids.standard_centroid(x.raster)\n",
        "cm = dlc.frames.centroids.centroid_mask(x.raster, c)\n",
        "cp = dlc.frames.centroids.standard_centroid(x.raster_padded)\n",
        "cmp = dlc.frames.centroids.centroid_mask(x.raster_padded, cp)\n",
        "y = dlc.frames.creators.density.apply_alt_gaussian_filter(cm, 5.0, 0.2)\n",
        "yp = dlc.frames.creators.density.apply_alt_gaussian_filter(cmp, 5.0, 0.2)\n",
        "\n",
        "fig, axs = plt.subplots(1, 2, figsize=(8,4))\n",
        "cmap = mpl.cm.get_cmap(\"gray\")\n",
        "cmap.set_bad(color=\"purple\")\n",
        "axs[0].imshow(mask_bad(y), cmap=cmap)\n",
        "axs[0].set_title(\"bbox\")\n",
        "axs[1].imshow(mask_bad(yp), cmap=cmap)\n",
        "axs[1].set_title(\"bbox_padded\")"
      ],
      "execution_count": null,
      "outputs": []
    },
    {
      "cell_type": "code",
      "metadata": {
        "id": "x-rczPK-5_n6"
      },
      "source": [
        "f = dlc.frames.creators.density.get_gaussian_filter(15, 5.0)\n",
        "y = dlc.frames.creators.density.apply_filter(cm, f)\n",
        "yp = dlc.frames.creators.density.apply_filter(cmp, f)\n",
        "\n",
        "fig, axs = plt.subplots(1, 2, figsize=(8,4))\n",
        "axs[0].imshow(mask_bad(y), cmap=\"gray\")\n",
        "axs[0].set_title(\"bbox\")\n",
        "axs[1].imshow(mask_bad(yp), cmap=\"gray\")\n",
        "axs[1].set_title(\"bbox_padded\")"
      ],
      "execution_count": null,
      "outputs": []
    },
    {
      "cell_type": "code",
      "metadata": {
        "id": "OQWO9zcwrzZa"
      },
      "source": [
        "y = dlc.frames.creators.density.edt_transform(x.raster)\n",
        "yp = dlc.frames.creators.density.edt_transform(x.raster_padded, pad_width=1)\n",
        "\n",
        "fig, axs = plt.subplots(1, 2, figsize=(8,4))\n",
        "axs[0].imshow(mask_bad(y), cmap=\"gray\")\n",
        "axs[0].set_title(\"bbox\")\n",
        "axs[1].imshow(mask_bad(yp), cmap=\"gray\")\n",
        "axs[1].set_title(\"bbox_padded\")"
      ],
      "execution_count": null,
      "outputs": []
    },
    {
      "cell_type": "markdown",
      "metadata": {
        "id": "IVpy5QTMo3sr"
      },
      "source": [
        "The cache can store intermediate results that multiple data creators might need (e.g. centroids, energy maps)."
      ]
    },
    {
      "cell_type": "code",
      "metadata": {
        "id": "PyRC-cMco3Ax"
      },
      "source": [
        "cache = dlc.tools.cache.ArrayCache()"
      ],
      "execution_count": null,
      "outputs": []
    },
    {
      "cell_type": "code",
      "metadata": {
        "id": "Zs2G0NWFpLvI"
      },
      "source": [
        "cache.clear()"
      ],
      "execution_count": null,
      "outputs": []
    },
    {
      "cell_type": "code",
      "metadata": {
        "id": "UkJFwV8QpG3L"
      },
      "source": [
        "cache.hits, cache.misses, cache.size * 1e-6"
      ],
      "execution_count": null,
      "outputs": []
    },
    {
      "cell_type": "code",
      "metadata": {
        "id": "baWKVbFzWUXf"
      },
      "source": [
        "cache = None"
      ],
      "execution_count": null,
      "outputs": []
    },
    {
      "cell_type": "code",
      "metadata": {
        "id": "c-JuFUujcP5P"
      },
      "source": [
        "figsize = (12, 4)"
      ],
      "execution_count": null,
      "outputs": []
    },
    {
      "cell_type": "markdown",
      "metadata": {
        "id": "B3JBvXYHzHTg"
      },
      "source": [
        "#### Images"
      ]
    },
    {
      "cell_type": "code",
      "metadata": {
        "id": "t4XK3vZhmrTJ"
      },
      "source": [
        "creator = dlc.frames.creators.image.AltImageFrameCreator(data, output_path)\n",
        "\n",
        "res = creator.run(area_id, tile_id)\n",
        "\n",
        "fig = plot_result(res, cmap=\"gray\", show_hist=True, figsize=figsize,\n",
        "            polygons=polygons, polygon_color=\"gold\", zoom_to=zoom_to,\n",
        "            show_band_names=True, show_axis=True,)"
      ],
      "execution_count": null,
      "outputs": []
    },
    {
      "cell_type": "code",
      "metadata": {
        "id": "74QwTlZk_wJ8"
      },
      "source": [
        "creator = dlc.frames.creators.image.AltImageFrameCreator(data, output_path)\n",
        "\n",
        "res = creator.run(area_id, tile_id)\n",
        "\n",
        "fig = plot_result(res, cmap=\"gray\", show_hist=True, figsize=figsize,\n",
        "            polygons=polygons, polygon_color=\"red\", zoom_to=zoom_to)"
      ],
      "execution_count": null,
      "outputs": []
    },
    {
      "cell_type": "markdown",
      "metadata": {
        "id": "0qQX2_uW_E51"
      },
      "source": [
        "#### Segmentation"
      ]
    },
    {
      "cell_type": "code",
      "metadata": {
        "id": "-c9ZEMeZHwq0"
      },
      "source": [
        "creator = dlc.frames.creators.segmentation.SegmentationMaskFrameCreator(data, output_path)\n",
        "\n",
        "res = creator.run(area_id, tile_id)\n",
        "\n",
        "fig = plot_result(res, cmap=\"gray_r\", show_hist=False, figsize=(12, 4),\n",
        "            norm=None, polygons=polygons, polygon_color=\"magenta\",\n",
        "            bad_value=0.0, bad_color=\"purple\",\n",
        "            zoom_to=zoom_to, show_axis=False, show_band_names=False)\n",
        "# To be able to zoom in\n",
        "# mpld3.plugins.connect(fig, dlc.tools.mpld3.ZoomSizePlugin())\n",
        "# mpld3.display()"
      ],
      "execution_count": null,
      "outputs": []
    },
    {
      "cell_type": "code",
      "metadata": {
        "id": "uI3r0CdVXTQ8"
      },
      "source": [
        "from google.colab import files\n",
        "filename = \"gt-segmentation-mask-0_9.pdf\"\n",
        "fig.savefig(filename, bbox_inches=\"tight\")\n",
        "files.download(filename)"
      ],
      "execution_count": null,
      "outputs": []
    },
    {
      "cell_type": "code",
      "metadata": {
        "id": "sSp44DMSWXtL"
      },
      "source": [
        "creator = dlc.frames.creators.segmentation.SegmentationMaskFrameCreator(data2, output_path)\n",
        "\n",
        "res = creator.run(area_id, tile_id)\n",
        "\n",
        "fig = plot_result(res, cmap=\"gray_r\", show_hist=False, figsize=(12, 4),\n",
        "            norm=None, polygons=polygons, polygon_color=\"magenta\",\n",
        "            bad_value=0.0, bad_color=\"purple\",\n",
        "            zoom_to=zoom_to, show_axis=False, show_band_names=False)\n",
        "# To be able to zoom in\n",
        "# mpld3.plugins.connect(fig, dlc.tools.mpld3.ZoomSizePlugin())\n",
        "# mpld3.display()"
      ],
      "execution_count": null,
      "outputs": []
    },
    {
      "cell_type": "code",
      "metadata": {
        "id": "vS6ta-afXp9i"
      },
      "source": [
        "from google.colab import files\n",
        "filename = \"gt-segmentation-mask-1_0.pdf\"\n",
        "fig.savefig(filename, bbox_inches=\"tight\")\n",
        "files.download(filename)"
      ],
      "execution_count": null,
      "outputs": []
    },
    {
      "cell_type": "code",
      "metadata": {
        "id": "qCo_Ana3IK4c"
      },
      "source": [
        "creator = dlc.frames.creators.segmentation.AltSegmentationMaskFrameCreator(data, output_path)\n",
        "\n",
        "res = creator.run(area_id, tile_id)\n",
        "\n",
        "fig = plot_result(res, cmap=\"gray\", show_hist=True, figsize=figsize,\n",
        "            norm=None, polygons=polygons, polygon_color=\"magenta\")"
      ],
      "execution_count": null,
      "outputs": []
    },
    {
      "cell_type": "code",
      "metadata": {
        "id": "h6X9IIPuKw4B"
      },
      "source": [
        "creator = dlc.frames.creators.segmentation.SegmentationBoundaryWeightsFrameCreator(data, output_path)\n",
        "\n",
        "res = creator.run(area_id, tile_id, overwrite=True)\n",
        "\n",
        "fig = plot_result(res, cmap=\"gray\", show_hist=False, figsize=figsize,\n",
        "            norm=None, polygons=polygons, polygon_color=\"magenta\", show_axis=False, show_band_names=False)"
      ],
      "execution_count": null,
      "outputs": []
    },
    {
      "cell_type": "code",
      "metadata": {
        "id": "oVKnHhO2eZRz"
      },
      "source": [
        "from google.colab import files\n",
        "filename = \"boundary-weigths.pdf\"\n",
        "fig.savefig(filename, bbox_inches=\"tight\")\n",
        "files.download(filename)"
      ],
      "execution_count": null,
      "outputs": []
    },
    {
      "cell_type": "code",
      "metadata": {
        "id": "-1qXSV55xOD4"
      },
      "source": [
        "creator = dlc.frames.creators.segmentation.OutlierWeightsMaskFrameCreator(data, output_path)\n",
        "\n",
        "res = creator.run(area_id, tile_id, overwrite=True)\n",
        "\n",
        "fig = plot_result(res, cmap=\"gray\", show_hist=True, figsize=(12, 6),\n",
        "            norm=None, polygons=polygons, polygon_color=\"magenta\")"
      ],
      "execution_count": null,
      "outputs": []
    },
    {
      "cell_type": "markdown",
      "metadata": {
        "id": "zBQKjwmDzNND"
      },
      "source": [
        "#### Density"
      ]
    },
    {
      "cell_type": "code",
      "metadata": {
        "id": "3wWRCKLbqsy2"
      },
      "source": [
        "creator = dlc.frames.creators.density.DMGaussianDensityFrameCreator(data,\n",
        "                                                                  output_path,\n",
        "                                                                  sigma=5,\n",
        "                                                                  filter_size=13,\n",
        "                                                                  )\n",
        "\n",
        "res = creator.run(area_id, tile_id, cache=cache)\n",
        "fig = plot_result(res, cmap=\"gray\", show_hist=False, figsize=figsize,\n",
        "                  polygons=polygons, polygon_color=\"magenta\",\n",
        "                  norm=mpl.colors.LogNorm(), bad_value=0.0, bad_color=\"purple\",\n",
        "                  log=True, additive_constant=None,\n",
        "                  zoom_to=zoom_to, show_axis=False, show_band_names=False)\n",
        "# To be able to zoom in\n",
        "#mpld3.plugins.connect(fig, dlc.tools.mpld3.ZoomSizePlugin())\n",
        "#mpld3.display()"
      ],
      "execution_count": null,
      "outputs": []
    },
    {
      "cell_type": "code",
      "metadata": {
        "id": "wTxsjIDcADL3"
      },
      "source": [
        "from google.colab import files\n",
        "filename = \"gt-density-dm-s5-fs13.pdf\"\n",
        "fig.savefig(filename, bbox_inches=\"tight\")\n",
        "files.download(filename)"
      ],
      "execution_count": null,
      "outputs": []
    },
    {
      "cell_type": "code",
      "metadata": {
        "id": "Zie2xw70gj9G"
      },
      "source": [
        "creator = dlc.frames.creators.density.DMGaussianDensityFrameCreator(data,\n",
        "                                                                  output_path,\n",
        "                                                                  sigma=5,\n",
        "                                                                  filter_size=15,\n",
        "                                                                  )\n",
        "\n",
        "res = creator.run(area_id, tile_id, cache=cache)\n",
        "fig = plot_result(res, cmap=\"gray\", show_hist=False, figsize=figsize,\n",
        "                  polygons=polygons, polygon_color=\"magenta\",\n",
        "                  norm=mpl.colors.LogNorm(), bad_value=0.0, bad_color=\"purple\",\n",
        "                  log=True, additive_constant=None,\n",
        "                  zoom_to=zoom_to, show_axis=False, show_band_names=False)\n",
        "# To be able to zoom in\n",
        "#mpld3.plugins.connect(fig, dlc.tools.mpld3.ZoomSizePlugin())\n",
        "#mpld3.display()"
      ],
      "execution_count": null,
      "outputs": []
    },
    {
      "cell_type": "code",
      "metadata": {
        "id": "tjfCUQ999ShR"
      },
      "source": [
        "from google.colab import files\n",
        "filename = \"gt-dm-fs3-sahel.pdf\"\n",
        "fig.savefig(filename, bbox_inches=\"tight\")\n",
        "files.download(filename)"
      ],
      "execution_count": null,
      "outputs": []
    },
    {
      "cell_type": "code",
      "metadata": {
        "id": "GuS0D7okdEGu"
      },
      "source": [
        "creator = dlc.frames.creators.density.DMGaussianDensityFrameCreator(data,\n",
        "                                                                  output_path,\n",
        "                                                                  sigma=2,\n",
        "                                                                  filter_size=7,\n",
        "                                                                  )\n",
        "\n",
        "res = creator.run(area_id, tile_id, cache=cache)\n",
        "fig = plot_result(res, cmap=\"gray\", show_hist=True, figsize=figsize,\n",
        "                  polygons=polygons, polygon_color=\"magenta\",\n",
        "                  norm=mpl.colors.LogNorm(), bad_value=0.0, bad_color=\"purple\",\n",
        "                  log=True, additive_constant=None,\n",
        "                  zoom_to=zoom_to)\n",
        "# To be able to zoom in\n",
        "#mpld3.plugins.connect(fig, dlc.tools.mpld3.ZoomSizePlugin())\n",
        "#mpld3.display()"
      ],
      "execution_count": null,
      "outputs": []
    },
    {
      "cell_type": "code",
      "metadata": {
        "id": "n3BRj-AMiiA-"
      },
      "source": [
        "creator = dlc.frames.creators.density.GaussianDensityFrameCreator(data,\n",
        "                                                                  output_path,\n",
        "                                                                  sigma=5,\n",
        "                                                                  filter_size=13,\n",
        "                                                                  filter_target=\"centroid\",\n",
        "                                                                  centroid_type=\"energy\",\n",
        "                                                                  use_padded_bbox=True,\n",
        "                                                                  )\n",
        "\n",
        "res = creator.run(area_id, tile_id, cache=cache)\n",
        "fig = plot_result(res, cmap=\"gray\", show_hist=False, figsize=figsize,\n",
        "                  polygons=polygons, polygon_color=\"magenta\",\n",
        "                  norm=mpl.colors.LogNorm(), bad_value=0.0, bad_color=\"purple\",\n",
        "                  log=False, additive_constant=None,\n",
        "                  zoom_to=zoom_to, show_band_names=False, show_axis=False)\n",
        "# To be able to zoom in\n",
        "#mpld3.plugins.connect(fig, dlc.tools.mpld3.ZoomSizePlugin())\n",
        "#mpld3.display()"
      ],
      "execution_count": null,
      "outputs": []
    },
    {
      "cell_type": "code",
      "metadata": {
        "id": "_ga0YtRUd5Zx"
      },
      "source": [
        "fig = plot_histogram(res)"
      ],
      "execution_count": null,
      "outputs": []
    },
    {
      "cell_type": "code",
      "metadata": {
        "id": "1dH3B9t-eeyr"
      },
      "source": [
        "from google.colab import files\n",
        "filename = \"gt-hist-default.pdf\"\n",
        "fig.savefig(filename, bbox_inches=\"tight\")\n",
        "files.download(filename)"
      ],
      "execution_count": null,
      "outputs": []
    },
    {
      "cell_type": "code",
      "metadata": {
        "id": "JVXzjSVoeHX1"
      },
      "source": [
        "fig = plot_histogram(res, 1e2)"
      ],
      "execution_count": null,
      "outputs": []
    },
    {
      "cell_type": "code",
      "metadata": {
        "id": "myVDW7aHekaL"
      },
      "source": [
        "from google.colab import files\n",
        "filename = \"gt-hist-1e2.pdf\"\n",
        "fig.savefig(filename, bbox_inches=\"tight\")\n",
        "files.download(filename)"
      ],
      "execution_count": null,
      "outputs": []
    },
    {
      "cell_type": "code",
      "metadata": {
        "id": "gd-uewuLeKPE"
      },
      "source": [
        "fig = plot_histogram(res, 1e1)"
      ],
      "execution_count": null,
      "outputs": []
    },
    {
      "cell_type": "code",
      "metadata": {
        "id": "saIvWcmye15Y"
      },
      "source": [
        "from google.colab import files\n",
        "filename = \"gt-hist-1e1.pdf\"\n",
        "fig.savefig(filename, bbox_inches=\"tight\")\n",
        "files.download(filename)"
      ],
      "execution_count": null,
      "outputs": []
    },
    {
      "cell_type": "code",
      "metadata": {
        "id": "zMPFA6hdd2C5"
      },
      "source": [
        "def plot_histogram(result, factor = 1.0, fontsize=12, log=True):\n",
        "  if isinstance(result.payload, dict):\n",
        "    path = result.payload[result.payload_main_key]\n",
        "  else:\n",
        "    path = result.payload\n",
        "  image = dlc.tools.images.load_image(path)\n",
        "  image *= factor\n",
        "  fig, ax = plt.subplots(1, 1, figsize=(4, 4))\n",
        "  ax.hist(image.flatten(), bins=\"auto\", color=\"purple\", log=log)\n",
        "  ax.set_xlabel(\"Pixel value\")\n",
        "  ax.set_ylabel(\"Frequency\")\n",
        "  return fig"
      ],
      "execution_count": null,
      "outputs": []
    },
    {
      "cell_type": "code",
      "metadata": {
        "id": "YX71cJduAPVt"
      },
      "source": [
        "from google.colab import files\n",
        "filename = \"gt-density-g-ec-s5-fs13.pdf\"\n",
        "fig.savefig(filename, bbox_inches=\"tight\")\n",
        "files.download(filename)"
      ],
      "execution_count": null,
      "outputs": []
    },
    {
      "cell_type": "code",
      "metadata": {
        "id": "CiQD0hbXAwum"
      },
      "source": [
        "creator = dlc.frames.creators.density.GaussianDensityFrameCreator(data,\n",
        "                                                                  output_path,\n",
        "                                                                  sigma=5,\n",
        "                                                                  filter_size=13,\n",
        "                                                                  filter_target=\"centroid\",\n",
        "                                                                  centroid_type=\"standard\",\n",
        "                                                                  use_padded_bbox=True,\n",
        "                                                                  )\n",
        "\n",
        "res = creator.run(area_id, tile_id, cache=cache)\n",
        "fig = plot_result(res, cmap=\"gray\", show_hist=True, figsize=figsize,\n",
        "                  polygons=polygons, polygon_color=\"magenta\",\n",
        "                  norm=mpl.colors.LogNorm(), bad_value=0.0, bad_color=\"purple\",\n",
        "                  log=False, additive_constant=None,\n",
        "                  zoom_to=zoom_to, show_band_names=False, show_axis=False)\n",
        "# To be able to zoom in\n",
        "#mpld3.plugins.connect(fig, dlc.tools.mpld3.ZoomSizePlugin())\n",
        "#mpld3.display()"
      ],
      "execution_count": null,
      "outputs": []
    },
    {
      "cell_type": "code",
      "metadata": {
        "id": "iRjpFiI7AzQU"
      },
      "source": [
        "from google.colab import files\n",
        "filename = \"gt-density-g-sc-s5-fs13.pdf\"\n",
        "fig.savefig(filename, bbox_inches=\"tight\")\n",
        "files.download(filename)"
      ],
      "execution_count": null,
      "outputs": []
    },
    {
      "cell_type": "code",
      "metadata": {
        "id": "lAUdrctM3LeL"
      },
      "source": [
        "creator = dlc.frames.creators.density.GaussianDensityFrameCreator(data,\n",
        "                                                                  output_path,\n",
        "                                                                  sigma=5,\n",
        "                                                                  filter_size=3,\n",
        "                                                                  filter_target=\"polygon\",\n",
        "                                                                  use_padded_bbox=True,\n",
        "                                                                  )\n",
        "\n",
        "res = creator.run(area_id, tile_id, cache=cache)\n",
        "fig = plot_result(res, cmap=\"gray\", show_hist=False, figsize=figsize,\n",
        "                  polygons=polygons, polygon_color=\"magenta\",\n",
        "                  norm=mpl.colors.LogNorm(), bad_value=0.0, bad_color=\"purple\",\n",
        "                  log=False, additive_constant=None,\n",
        "                  zoom_to=zoom_to, show_band_names=False, show_axis=False)\n",
        "# To be able to zoom in\n",
        "#mpld3.plugins.connect(fig, dlc.tools.mpld3.ZoomSizePlugin())\n",
        "#mpld3.display()"
      ],
      "execution_count": null,
      "outputs": []
    },
    {
      "cell_type": "code",
      "metadata": {
        "id": "Zg_GFx2iBeXM"
      },
      "source": [
        "from google.colab import files\n",
        "filename = \"gt-density-g-poly-s5-fs3.pdf\"\n",
        "fig.savefig(filename, bbox_inches=\"tight\")\n",
        "files.download(filename)"
      ],
      "execution_count": null,
      "outputs": []
    },
    {
      "cell_type": "code",
      "metadata": {
        "id": "uZrtOqFxAdFh"
      },
      "source": [
        "creator = dlc.frames.creators.density.THGaussianDensityFrameCreator(data,\n",
        "                                                                  output_path,\n",
        "                                                                  sigma=3,\n",
        "                                                                  thresh_z_score=None,\n",
        "                                                                  filter_target=\"centroid\",\n",
        "                                                                  centroid_type=\"energy\",\n",
        "                                                                  )\n",
        "\n",
        "res = creator.run(area_id, tile_id, cache=cache)\n",
        "fig = plot_result(res, cmap=\"gray\", show_hist=False, figsize=figsize,\n",
        "                  polygons=polygons, polygon_color=\"magenta\",\n",
        "                  norm=mpl.colors.LogNorm(), bad_value=0.0, bad_color=\"purple\",\n",
        "                  log=False, additive_constant=None,\n",
        "                  zoom_to=zoom_to)\n",
        "# To be able to zoom in\n",
        "#mpld3.plugins.connect(fig, dlc.tools.mpld3.ZoomSizePlugin())\n",
        "#mpld3.display()"
      ],
      "execution_count": null,
      "outputs": []
    },
    {
      "cell_type": "code",
      "metadata": {
        "id": "52AJu3QwqRE4"
      },
      "source": [
        "creator = dlc.frames.creators.density.EDTDensityFrameCreator(data, output_path)\n",
        "\n",
        "res = creator.run(area_id, tile_id, cache=None)\n",
        "\n",
        "fig = plot_result(res, cmap=\"gray\", show_hist=False, figsize=figsize,\n",
        "            polygons=polygons, polygon_color=\"magenta\",\n",
        "            norm=mpl.colors.LogNorm(), bad_value=0.0, bad_color=\"purple\",\n",
        "            log=False, zoom_to=zoom_to, additive_constant=0.0,\n",
        "            show_band_names=False, show_axis=False)\n",
        "#mpld3.plugins.connect(fig, dlc.tools.mpld3.ZoomSizePlugin())\n",
        "#mpld3.display()"
      ],
      "execution_count": null,
      "outputs": []
    },
    {
      "cell_type": "code",
      "metadata": {
        "id": "Pte7HNwABo6C"
      },
      "source": [
        "from google.colab import files\n",
        "filename = \"gt-density-edt1.pdf\"\n",
        "fig.savefig(filename, bbox_inches=\"tight\")\n",
        "files.download(filename)"
      ],
      "execution_count": null,
      "outputs": []
    },
    {
      "cell_type": "code",
      "metadata": {
        "id": "_pBgeAoZvIph"
      },
      "source": [
        "creator = dlc.frames.creators.density.UniformDensityFrameCreator(data, output_path)\n",
        "\n",
        "res = creator.run(area_id, tile_id, cache=cache)\n",
        "\n",
        "fig = plot_result(res, cmap=\"gray\", show_hist=False, figsize=figsize,\n",
        "            polygons=polygons, polygon_color=\"magenta\", zoom_to=zoom_to,\n",
        "            norm=mpl.colors.LogNorm(), bad_value=0.0, bad_color=\"purple\", log=False, additive_constant=0.0,\n",
        "            show_band_names=False, show_axis=False)\n",
        "#mpld3.plugins.connect(fig, dlc.tools.mpld3.ZoomSizePlugin())\n",
        "#mpld3.display()"
      ],
      "execution_count": null,
      "outputs": []
    },
    {
      "cell_type": "code",
      "metadata": {
        "id": "PtW9GGyNCC0L"
      },
      "source": [
        "from google.colab import files\n",
        "filename = \"gt-density-uniform.pdf\"\n",
        "fig.savefig(filename, bbox_inches=\"tight\")\n",
        "files.download(filename)"
      ],
      "execution_count": null,
      "outputs": []
    },
    {
      "cell_type": "markdown",
      "metadata": {
        "id": "7FigQs3L7wEE"
      },
      "source": [
        "#### Scalars"
      ]
    },
    {
      "cell_type": "markdown",
      "metadata": {
        "id": "BDalCeae9ODg"
      },
      "source": [
        "##### Frame properties"
      ]
    },
    {
      "cell_type": "code",
      "metadata": {
        "id": "kQ02VJiY9FQ3"
      },
      "source": [
        "creator = dlc.frames.creators.scalar.FramePropertiesDataCreator(data)\n",
        "\n",
        "creator.run(area_id, tile_id)"
      ],
      "execution_count": null,
      "outputs": []
    },
    {
      "cell_type": "markdown",
      "metadata": {
        "id": "l_ULMlO19Tia"
      },
      "source": [
        "##### Model selection (Sahara-Sahel dataset)"
      ]
    },
    {
      "cell_type": "code",
      "metadata": {
        "id": "WybgTccZ9YiV"
      },
      "source": [
        "creator = dlc.frames.creators.scalar.ModelSelectionDataCreator(data)"
      ],
      "execution_count": null,
      "outputs": []
    },
    {
      "cell_type": "code",
      "metadata": {
        "id": "AZU2NuH8-MiU"
      },
      "source": [
        "creator.run(area_id, tile_id)"
      ],
      "execution_count": null,
      "outputs": []
    },
    {
      "cell_type": "code",
      "metadata": {
        "id": "0VxzZIDP-C2X"
      },
      "source": [
        "# We know area 343 is in the Sahel/Sudan region\n",
        "creator.run(*sahara_sahel.get_area_and_tile(343))"
      ],
      "execution_count": null,
      "outputs": []
    },
    {
      "cell_type": "code",
      "metadata": {
        "id": "N8JqrMbX-YGN"
      },
      "source": [
        "# We know area 21 is in the Sahara region\n",
        "creator.run(*sahara_sahel.get_area_and_tile(21))"
      ],
      "execution_count": null,
      "outputs": []
    },
    {
      "cell_type": "markdown",
      "metadata": {
        "id": "SCJ_xIhu6fVs"
      },
      "source": [
        "### Frame data factory\n",
        "\n",
        "A frame data factory takes a list of frame data creators and creates frames given a pair of tiles and areas databases or an existing frames database. In the first case, it creates a new frames database and in the latter case, it will update the existing database.\n",
        "\n",
        "```batch\n",
        "!export PYTHONPATH=\"${GITHUB_REPO_NAME}:${PYTHONPATH}\" && \\\n",
        "   python3 ${GITHUB_REPO_NAME}/scripts/create_frames.py \\\n",
        "   --dataset-name=\"sahara-sahel\" \\\n",
        "   --datasets-path=\"/content/datasets\" \\\n",
        "   --img-dir=\"StackedImages\" \\\n",
        "   --output-path=\"./data/datasets/frames\" \\\n",
        "   --creators-group=\"segmentation\"\n",
        "```"
      ]
    },
    {
      "cell_type": "code",
      "metadata": {
        "id": "BIRTgNBIp6X9"
      },
      "source": [
        "!export PYTHONPATH=\"counting-trees-private:${PYTHONPATH}\" && \\\n",
        "  python3 counting-trees-private/scripts/create_frames.py \\\n",
        "   --dataset-name=\"sahara-sahel\" \\\n",
        "   --datasets-path=\"/content/datasets\" \\\n",
        "   --img-dir=\"StackedImages\" \\\n",
        "   --output-path=\"./frames\" \\\n",
        "   --creators-group=\"density\" \\\n",
        "   --fixed-polygons \\\n",
        "   --initial-scale=\"0.9\""
      ],
      "execution_count": null,
      "outputs": []
    },
    {
      "cell_type": "code",
      "metadata": {
        "id": "Ku_PRd86Y9Ck"
      },
      "source": [
        "!ls frames/"
      ],
      "execution_count": null,
      "outputs": []
    },
    {
      "cell_type": "code",
      "metadata": {
        "id": "ppUELNglZsBz"
      },
      "source": [
        "!cp frames/frames-sahara-sahel-density-0_9.zip /content/datasets/frames_zips/"
      ],
      "execution_count": null,
      "outputs": []
    },
    {
      "cell_type": "code",
      "metadata": {
        "id": "1MJ371P1zc4D"
      },
      "source": [
        "!unzip -vl frames/frames-sahara-sahel-density-0_9.zip | grep geojson"
      ],
      "execution_count": null,
      "outputs": []
    },
    {
      "cell_type": "code",
      "metadata": {
        "id": "medGRlWvZJn8"
      },
      "source": [
        "!shasum -a 256 frames/frames-sahara-sahel-density-0_9.zip"
      ],
      "execution_count": null,
      "outputs": []
    },
    {
      "cell_type": "code",
      "metadata": {
        "id": "kbA14VT6xMhD"
      },
      "source": [
        "!zip -j -r frames/frames-sahara-sahel-density-0_9.zip "
      ],
      "execution_count": null,
      "outputs": []
    },
    {
      "cell_type": "markdown",
      "metadata": {
        "id": "PTMz7AeR4SzT"
      },
      "source": [
        "#### Training frames"
      ]
    },
    {
      "cell_type": "code",
      "metadata": {
        "id": "-BwY6Omx4aIa"
      },
      "source": [
        "FRAMES_SUFFIX = \"segmentation\"\n",
        "FRAMES_PATH = f\"./data/datasets/frames/{DATASET}\"\n",
        "FRAMES_ZIP = f\"frames-{DATASET}-{FRAMES_SUFFIX}.zip\""
      ],
      "execution_count": null,
      "outputs": []
    },
    {
      "cell_type": "code",
      "metadata": {
        "id": "nx2mxDlsU6bK"
      },
      "source": [
        "creator_names = (\"image\", \"props\", \"model\", \"segmentation-mask\",\n",
        "                 \"segmentation-boundary-weights\", \"outlier-weights\",)\n",
        "\n",
        "creator_names += (\"gaussian-density\", \"th-gaussian-density\", \"dm-gaussian-density\", \"uniform-density\", \"edt-density\",)\n",
        "\n",
        "data = dlc.frames.creators.data.CoreFrameDataSource(DATASET, DATASET_IMG_PATH, tiles, areas, fixed_polygons)\n",
        "\n",
        "gaussian_options=(\n",
        "    dict(filter_size=15, sigma=5.0, centroid_type=\"energy\", filter_target=\"centroid\",),\n",
        "    dict(filter_size=15, sigma=5.0, centroid_type=\"standard\", filter_target=\"centroid\",),\n",
        "    dict(filter_size=3, sigma=5.0, centroid_type=\"energy\", filter_target=\"polygon\",),\n",
        ")\n",
        "\n",
        "th_gaussian_options=(\n",
        "    dict(sigma=5.0, thresh_z_score=0.1, centroid_type=\"energy\", filter_target=\"centroid\"),\n",
        ")\n",
        "\n",
        "dm_gaussian_options=(\n",
        "    dict(sigma=5.0, filter_size=15),\n",
        ")\n",
        "\n",
        "factory  = dlc.frames.factory.create_and_configure_factory(\n",
        "    data, FRAMES_PATH,\n",
        "    gaussian_options=gaussian_options,\n",
        "    th_gaussian_options=th_gaussian_options,\n",
        "    dm_gaussian_options=dm_gaussian_options,\n",
        "    creator_names=creator_names,\n",
        ")"
      ],
      "execution_count": null,
      "outputs": []
    },
    {
      "cell_type": "code",
      "metadata": {
        "id": "3u_5gymT-x18"
      },
      "source": [
        "pprint(factory.keys)"
      ],
      "execution_count": null,
      "outputs": []
    },
    {
      "cell_type": "markdown",
      "metadata": {
        "id": "sNMX48PXKW5n"
      },
      "source": [
        "Update an existing database."
      ]
    },
    {
      "cell_type": "code",
      "metadata": {
        "id": "ZAInzAC0NCkM"
      },
      "source": [
        "factory_db = f\"/content/datasets/frames/{DATASET}/frames.geojson\"\n",
        "_ = factory.run_jobs(factory_db,\n",
        "                     dry_run=True)"
      ],
      "execution_count": null,
      "outputs": []
    },
    {
      "cell_type": "markdown",
      "metadata": {
        "id": "dlQ3UVqG0z47"
      },
      "source": [
        "Create a new frames database from scratch (derived from tiles and areas databases)."
      ]
    },
    {
      "cell_type": "code",
      "metadata": {
        "id": "G-InvENc7yg8"
      },
      "source": [
        "factory_db = (tiles, areas)\n",
        "_ = factory.run_jobs(factory_db,\n",
        "                     dry_run=True,\n",
        "                     job_slice=slice(0, 6),\n",
        "                    )"
      ],
      "execution_count": null,
      "outputs": []
    },
    {
      "cell_type": "code",
      "metadata": {
        "id": "KdbuQVZ7wPVD"
      },
      "source": [
        "%%time\n",
        "data.load_raster_data(n_processes=None)"
      ],
      "execution_count": null,
      "outputs": []
    },
    {
      "cell_type": "code",
      "metadata": {
        "id": "14tGG9J65VCW"
      },
      "source": [
        "%%time\n",
        "result = factory.run_jobs(factory_db,\n",
        "                          dry_run=False,\n",
        "                          job_slice=None,\n",
        "                          n_processes=4,\n",
        "                          overwrite=True,\n",
        "                          output_path=f\"{FRAMES_PATH}/frames.geojson\",\n",
        "                          save_keys=None,\n",
        "                          cache_enabled=False,\n",
        "                          cache_shared=True,\n",
        "                          )"
      ],
      "execution_count": null,
      "outputs": []
    },
    {
      "cell_type": "code",
      "metadata": {
        "id": "0P7dKbvh0AaT"
      },
      "source": [
        "result.frames.query(\"model == 'sahel' and canopy_cover > 0.0\").head()"
      ],
      "execution_count": null,
      "outputs": []
    },
    {
      "cell_type": "code",
      "metadata": {
        "id": "ThB0LiDsrCH9"
      },
      "source": [
        "!rm $FRAMES_ZIP"
      ],
      "execution_count": null,
      "outputs": []
    },
    {
      "cell_type": "code",
      "metadata": {
        "id": "vTPNW9y8Az7Y"
      },
      "source": [
        "!zip -j -r $FRAMES_ZIP $FRAMES_PATH"
      ],
      "execution_count": null,
      "outputs": []
    },
    {
      "cell_type": "code",
      "metadata": {
        "id": "2Hv4At2btnbG"
      },
      "source": [
        "!cp $FRAMES_ZIP /content/datasets/frames_zips/$FRAMES_ZIP"
      ],
      "execution_count": null,
      "outputs": []
    },
    {
      "cell_type": "markdown",
      "metadata": {
        "id": "i4EmfDdbEr07"
      },
      "source": [
        "We can sample a random row and see a created frame:"
      ]
    },
    {
      "cell_type": "code",
      "metadata": {
        "id": "qTGM7I8cCd-k"
      },
      "source": [
        "area_id, tile_id = get_area_and_tile(350)"
      ],
      "execution_count": null,
      "outputs": []
    },
    {
      "cell_type": "code",
      "metadata": {
        "id": "VhBBJm8mDP48"
      },
      "source": [
        "dlc.tools.plots.plot_polygons_in_area(areas, fixed_polygons, area_id)"
      ],
      "execution_count": null,
      "outputs": []
    },
    {
      "cell_type": "code",
      "metadata": {
        "id": "5YmvRKCo-5G-"
      },
      "source": [
        "fig = dlc.tools.plots.plot_frame_by_key(result.frames, \"image\", FRAMES_PATH,\n",
        "                                  area_id=area_id, tile_id=tile_id,\n",
        "                                  polygons=fixed_polygons,\n",
        "                                  show_title=True, show_hist=False,\n",
        "                                  log=False, norm=None,\n",
        "                                  cmap=\"gray\", figsize=(12, 6), zoom_to=None)"
      ],
      "execution_count": null,
      "outputs": []
    },
    {
      "cell_type": "code",
      "metadata": {
        "id": "rkMwBX7Q4Jsb"
      },
      "source": [
        "fig = dlc.tools.plots.plot_frame_by_key(result.frames, \"segmentation-boundary-weights\", FRAMES_PATH,\n",
        "                                  area_id=area_id, tile_id=tile_id,\n",
        "                                  #polygons=fixed_polygons,\n",
        "                                  show_title=True, show_hist=True,\n",
        "                                  log=True, cmap=\"gray\", figsize=(12, 6), zoom_to=None)"
      ],
      "execution_count": null,
      "outputs": []
    },
    {
      "cell_type": "code",
      "metadata": {
        "id": "EY-s_8cxBBkX"
      },
      "source": [
        "fig = dlc.tools.plots.plot_frame_by_key(result.frames, \"outlier-weights\", FRAMES_PATH,\n",
        "                                  area_id=area_id, tile_id=tile_id,\n",
        "                                  #polygons=fixed_polygons,\n",
        "                                  show_title=True, show_hist=True,\n",
        "                                  log=True, cmap=\"gray\", figsize=(12, 6), zoom_to=None)"
      ],
      "execution_count": null,
      "outputs": []
    },
    {
      "cell_type": "markdown",
      "metadata": {
        "id": "iAbZ437g24cF"
      },
      "source": [
        "### Object splits\n",
        "\n",
        "We can create splits for different objects (e.g. tiles or frames)."
      ]
    },
    {
      "cell_type": "code",
      "metadata": {
        "id": "NWjehOdvNUjc"
      },
      "source": [
        "rng = np.random.default_rng()"
      ],
      "execution_count": null,
      "outputs": []
    },
    {
      "cell_type": "code",
      "metadata": {
        "id": "nmMr99ML5qcd"
      },
      "source": [
        "seed = rng.integers(0, np.iinfo(np.int32).max, size=1)"
      ],
      "execution_count": null,
      "outputs": []
    },
    {
      "cell_type": "code",
      "metadata": {
        "id": "nDxaJe8H5r2c"
      },
      "source": [
        "seed = 591477907"
      ],
      "execution_count": null,
      "outputs": []
    },
    {
      "cell_type": "code",
      "metadata": {
        "id": "InES-gfbCppk"
      },
      "source": [
        "splitter = dlc.tools.splits.LatitudeObjectSplitter()"
      ],
      "execution_count": null,
      "outputs": []
    },
    {
      "cell_type": "markdown",
      "metadata": {
        "id": "HTpetUSHzinC"
      },
      "source": [
        "#### Tile splits\n",
        "In the case of tiles, we could use a split to create a smaller dataset."
      ]
    },
    {
      "cell_type": "code",
      "metadata": {
        "id": "OeadX4G_5XVA"
      },
      "source": [
        "split_areas = areas.query(\"n_tiles > 1\", inplace=False)\n",
        "\n",
        "splits, sampled_areas = splitter.run(split_areas, splits=(0.20,), seed=seed)\n",
        "\n",
        "splits"
      ],
      "execution_count": null,
      "outputs": []
    },
    {
      "cell_type": "code",
      "metadata": {
        "id": "dstAiRLW5tLt"
      },
      "source": [
        "dlc.tools.plots.plot_object_splits(split_areas, splits, areas=None, colors=[\"white\", \"green\", \"red\"])"
      ],
      "execution_count": null,
      "outputs": []
    },
    {
      "cell_type": "code",
      "metadata": {
        "id": "-5CXYNcHCaHB"
      },
      "source": [
        "splitter = dlc.tools.splits.SimpleSplitter()\n",
        "\n",
        "rwanda_tiles = gpd.read_file(\"/content/datasets/rwanda/tiles.gpkg\")\n",
        "splits, _ = splitter.run(rwanda_tiles, splits=(0.20, 0.20), seed=seed)\n",
        "dlc.tools.plots.plot_object_splits(rwanda_tiles, splits, areas=areas, colors=[\"white\", \"green\", \"red\"])"
      ],
      "execution_count": null,
      "outputs": []
    },
    {
      "cell_type": "code",
      "metadata": {
        "id": "cqne8_03aN8A"
      },
      "source": [
        "sahel_tiles = gpd.read_file(\"/content/datasets/sahel/tiles.gpkg\")\n",
        "splits, areas = splitter.run(sahel_tiles, splits=(0.20, 0.20), seed=seed)\n",
        "dlc.tools.plots.plot_object_splits(sahel_tiles, splits, areas=areas, colors=[\"white\", \"green\", \"red\"])"
      ],
      "execution_count": null,
      "outputs": []
    },
    {
      "cell_type": "code",
      "metadata": {
        "id": "hzEKmROEbJDQ"
      },
      "source": [
        "sahel_tiles[\"centroid_y\"] = sahel_tiles.to_crs(\"EPSG:6933\").centroid.to_crs(sahel_tiles.crs).y\n",
        "sahel_tiles.hist(\"centroid_y\")"
      ],
      "execution_count": null,
      "outputs": []
    },
    {
      "cell_type": "markdown",
      "metadata": {
        "id": "ymFOhHVAzmy9"
      },
      "source": [
        "#### Frame splits\n",
        "In the case of frames, we could use splits to divide them into training, validation, and test splits."
      ]
    },
    {
      "cell_type": "code",
      "metadata": {
        "id": "fXh1Rp44MQRq"
      },
      "source": [
        "frames = gpd.read_file(f\"/content/datasets/frames/{DATASET}/frames.geojson\")"
      ],
      "execution_count": null,
      "outputs": []
    },
    {
      "cell_type": "code",
      "metadata": {
        "id": "7nJriLP6M7wr"
      },
      "source": [
        "splits, _ = splitter.run(frames, splits=(0.20, 0.20), seed=seed)"
      ],
      "execution_count": null,
      "outputs": []
    },
    {
      "cell_type": "code",
      "metadata": {
        "id": "Ne5arwBJNcak"
      },
      "source": [
        "dlc.tools.plots.plot_object_splits(frames, splits, areas=None, colors=[\"white\", \"green\", \"red\"])"
      ],
      "execution_count": null,
      "outputs": []
    },
    {
      "cell_type": "code",
      "metadata": {
        "id": "drcCkwAHOZO5"
      },
      "source": [
        "dlc.tools.plots.plot_object_splits(frames, splits, areas=None, colors=[\"white\", \"green\", \"red\"],\n",
        "                                   window=((14.2, 14.3), (-14.75, -14.6)))"
      ],
      "execution_count": null,
      "outputs": []
    },
    {
      "cell_type": "markdown",
      "metadata": {
        "id": "A1LGp_2Wy_x_"
      },
      "source": [
        "## Datasets"
      ]
    },
    {
      "cell_type": "markdown",
      "metadata": {
        "id": "U23Efp4w4H01"
      },
      "source": [
        "### Remote sensing datasets"
      ]
    },
    {
      "cell_type": "code",
      "metadata": {
        "id": "Ghihq1Q7d3W2"
      },
      "source": [
        "%%time\n",
        "frames = download_frames_zip(DATASET, namespace=\"frames\", suffix=\"density\")"
      ],
      "execution_count": null,
      "outputs": []
    },
    {
      "cell_type": "code",
      "metadata": {
        "id": "ay1XzNDCfDpi"
      },
      "source": [
        "src_frames = frames.copy()"
      ],
      "execution_count": null,
      "outputs": []
    },
    {
      "cell_type": "code",
      "metadata": {
        "id": "EJXKjeGPpwqi"
      },
      "source": [
        "frames = src_frames.query(\"model == 'sahel'\")"
      ],
      "execution_count": null,
      "outputs": []
    },
    {
      "cell_type": "code",
      "metadata": {
        "id": "tX_plrvjfcs5"
      },
      "source": [
        "frames.columns"
      ],
      "execution_count": null,
      "outputs": []
    },
    {
      "cell_type": "code",
      "metadata": {
        "id": "9LC1W-EiiSyA"
      },
      "source": [
        "splitter = dlc.tools.splits.LatitudeObjectSplitter()\n",
        "\n",
        "splits, _ = splitter.run(frames, [0.20], seed=591477907)\n",
        "\n",
        "splits_map = {\"training\": 0, \"validation1\": 1,}"
      ],
      "execution_count": null,
      "outputs": []
    },
    {
      "cell_type": "code",
      "metadata": {
        "id": "JjhMGef9ikpp"
      },
      "source": [
        "images_ds_gen = dlc.tools.datasets.ImageDatasetGenerator(frames,\n",
        "                                                         splits=splits,\n",
        "                                                         splits_map=splits_map,\n",
        "                                                         image_keys=([\"image\"],\n",
        "                                                                     [\"segmentation-mask\",\n",
        "                                                                      \"dm-gaussian-density-sgm_500-fs_1500\"]),\n",
        "                                                         input_base_path=f\"./data/datasets/frames/{DATASET}\",\n",
        "                                                        )"
      ],
      "execution_count": null,
      "outputs": []
    },
    {
      "cell_type": "code",
      "metadata": {
        "id": "p21FrNElZYaz"
      },
      "source": [
        "images_ds_gen = dlc.tools.datasets.ImageDatasetGenerator(frames,\n",
        "                                                         splits=splits,\n",
        "                                                         splits_map=splits_map,\n",
        "                                                         image_keys=([\"image\"],\n",
        "                                                                     [\"segmentation-mask\"]),\n",
        "                                                         input_base_path=f\"./data/datasets/frames/{DATASET}\",\n",
        "                                                        )"
      ],
      "execution_count": null,
      "outputs": []
    },
    {
      "cell_type": "markdown",
      "metadata": {
        "id": "AI_OyLWxNH36"
      },
      "source": [
        "#### Sequential frames"
      ]
    },
    {
      "cell_type": "code",
      "metadata": {
        "id": "tMoR-KcRI93M"
      },
      "source": [
        "# Finite cardinality\n",
        "images = images_ds_gen.get_sequential_images(split=\"validation1\", shuffle=False,\n",
        "                                             seed=None, verbose=True)\n",
        "\n",
        "for x in images.take(1):\n",
        "  pprint(x)"
      ],
      "execution_count": null,
      "outputs": []
    },
    {
      "cell_type": "markdown",
      "metadata": {
        "id": "XRQ5s-UFM_9z"
      },
      "source": [
        "#### Random frame patches"
      ]
    },
    {
      "cell_type": "code",
      "metadata": {
        "id": "ZQG8yRgxq0d0"
      },
      "source": [
        "# Infinite cardinality\n",
        "images = images_ds_gen.get_random_patches((256, 256), split=\"training\", seed=None, verbose=True)\n",
        "\n",
        "for x in images.take(1):\n",
        "  pprint(x)"
      ],
      "execution_count": null,
      "outputs": []
    },
    {
      "cell_type": "markdown",
      "metadata": {
        "id": "LAiequYDNFg1"
      },
      "source": [
        "#### Sequential frame patches"
      ]
    },
    {
      "cell_type": "code",
      "metadata": {
        "id": "Oj2JdZIcHwwH"
      },
      "source": [
        "# Finite cardinality\n",
        "images = images_ds_gen.get_sequential_patches((256, 256), split=\"validation1\", shuffle=False, seed=None, verbose=True)\n",
        "images = images.batch(8)\n",
        "\n",
        "for x in images.skip(41).take(1):\n",
        "  pprint(x)"
      ],
      "execution_count": null,
      "outputs": []
    },
    {
      "cell_type": "markdown",
      "metadata": {
        "id": "Ta-BK8NpOGVv"
      },
      "source": [
        "#### Loading images"
      ]
    },
    {
      "cell_type": "code",
      "metadata": {
        "id": "H0WZn2Vp0grK"
      },
      "source": [
        "cmf = dlc.tools.plots.ColorMapFactory()\n",
        "# cmf.add_group(dict(keys=((\"annotations\", 2),),\n",
        "#                    cmap=\"gray\",\n",
        "#                    bad_value=0.0,\n",
        "#                    bad_color=\"red\",))"
      ],
      "execution_count": null,
      "outputs": []
    },
    {
      "cell_type": "code",
      "metadata": {
        "id": "dY3P7Q2YTRpL"
      },
      "source": [
        "cache = dlc.tools.cache.ArrayCache()\n",
        "image_loader = dlc.tools.images.ImageLoader(local_standardization_p=[0.0, None],\n",
        "                                            # Defaults must take into account\n",
        "                                            # bands per each image passed\n",
        "                                            # defaults=([(0.0, 0.0)],\n",
        "                                            #           [0.0, 0.0, 1.0]),\n",
        "                                            seed=None, cache=cache)"
      ],
      "execution_count": null,
      "outputs": []
    },
    {
      "cell_type": "code",
      "metadata": {
        "id": "C7fIt9dyLbqV"
      },
      "source": [
        "images = images_ds_gen.get_sequential_patches((256, 256),split=\"validation1\", shuffle=False, seed=None, verbose=True)\n",
        "images = images.map(image_loader.load)\n",
        "images = images.batch(8)"
      ],
      "execution_count": null,
      "outputs": []
    },
    {
      "cell_type": "code",
      "metadata": {
        "id": "vGj3Dh7nEXdb"
      },
      "source": [
        "importlib.reload(dlc.tools.plots)"
      ],
      "execution_count": null,
      "outputs": []
    },
    {
      "cell_type": "code",
      "metadata": {
        "id": "-50ONZgni5b8"
      },
      "source": [
        "for xs, ys in images.take(1):\n",
        "  fig = dlc.tools.plots.plot_batch(xs, ys, cmf=cmf, show_hist=True)"
      ],
      "execution_count": null,
      "outputs": []
    },
    {
      "cell_type": "code",
      "metadata": {
        "id": "YC4CqrJQ56dx"
      },
      "source": [
        "images = images_ds_gen.get_sequential_patches((256, 256),split=\"validation1\", shuffle=False, seed=None, verbose=True)\n",
        "images = images.map(image_loader.load)\n",
        "images = images.map(fix_boundary_weights_v2)\n",
        "images = images.map(dlc.transformers.to_cover5_annotation)\n",
        "images = images.batch(8)"
      ],
      "execution_count": null,
      "outputs": []
    },
    {
      "cell_type": "code",
      "metadata": {
        "id": "53ORhWfH6IYL"
      },
      "source": [
        "for xs, ys in images.skip(41).take(1):\n",
        "  fig = dlc.tools.plots.plot_multioutput_batch(xs, ys,\n",
        "                                               keys=(\"segmentation_map\",),\n",
        "                                               cmf=cmf,)"
      ],
      "execution_count": null,
      "outputs": []
    },
    {
      "cell_type": "markdown",
      "metadata": {
        "id": "YuJityG0NVHw"
      },
      "source": [
        "#### Augmentations"
      ]
    },
    {
      "cell_type": "code",
      "metadata": {
        "id": "1ga5SKQebI1k"
      },
      "source": [
        "density_aug_transform = dlc.augmentation.DensityAugTransform0()"
      ],
      "execution_count": null,
      "outputs": []
    },
    {
      "cell_type": "code",
      "metadata": {
        "id": "i6qmK-vcNCSF"
      },
      "source": [
        "segmentation_aug_transform = dlc.augmentation.SegmentationAugTransform0()"
      ],
      "execution_count": null,
      "outputs": []
    },
    {
      "cell_type": "code",
      "metadata": {
        "id": "DKVEQW_SS-ps"
      },
      "source": [
        "for x,y in training_images.map(image_loader.load).map(segmentation_aug_transform).take(10):\n",
        "  xn = x.numpy()\n",
        "  yn = y.numpy()\n",
        "  fig = plt.figure(constrained_layout=True)\n",
        "  gs = fig.add_gridspec(max(xn.shape[2], yn.shape[2]), 2)\n",
        "  for i in range(xn.shape[2]):\n",
        "    ax = fig.add_subplot(gs[0, i])\n",
        "    ax.imshow(xn[:, :, i], cmap=\"gray\")\n",
        "    ax.set_title(f\"Features (Band {i + 1})\")\n",
        "  for i in range(yn.shape[2]):\n",
        "    ax = fig.add_subplot(gs[1, i])\n",
        "    ax.imshow(yn[:, :, i], cmap=\"gray\")\n",
        "    ax.set_title(f\"Annotations (Band {i + 1})\")"
      ],
      "execution_count": null,
      "outputs": []
    },
    {
      "cell_type": "markdown",
      "metadata": {
        "id": "D2rKypLBU-LG"
      },
      "source": [
        "## Model visualization"
      ]
    },
    {
      "cell_type": "markdown",
      "metadata": {
        "id": "32nsQnGEnUxG"
      },
      "source": [
        "### U-Net model"
      ]
    },
    {
      "cell_type": "code",
      "metadata": {
        "id": "puqkrcgQk_8z"
      },
      "source": [
        "# Example from the 2015 U-Net paper\n",
        "input_shape = (572, 572, 1)\n",
        "output_depth = 2\n",
        "batch_size=None\n",
        "model = dlc.models.base.unet.create_model(input_shape,\n",
        "                                  output_depth,\n",
        "                                  batch_size=batch_size,\n",
        "                                  padding=\"valid\",\n",
        "                                  name='2015_unet_paper',\n",
        "                                  resize_output=False,\n",
        "                                  use_attention_gate=False,\n",
        "                                  initializer_seed=0)\n",
        "model.summary()"
      ],
      "execution_count": null,
      "outputs": []
    },
    {
      "cell_type": "markdown",
      "metadata": {
        "id": "Jr_8Gw7S6FeD"
      },
      "source": [
        "### Segmentation-based models"
      ]
    },
    {
      "cell_type": "code",
      "metadata": {
        "id": "m5YuZvdU6J9r"
      },
      "source": [
        "# U-Net model v1.0 from the reference paper\n",
        "input_shape = (256, 256, 2)\n",
        "model = dlc.models.misc.unet0.load_unet0_model('/content/other/sahara_v1_0_0.h5')\n",
        "model.call(tf.keras.layers.Input(shape=input_shape))\n",
        "model.summary()"
      ],
      "execution_count": null,
      "outputs": []
    },
    {
      "cell_type": "markdown",
      "metadata": {
        "id": "IfltUHyB8tfY"
      },
      "source": [
        "#### CSR-Net"
      ]
    },
    {
      "cell_type": "code",
      "metadata": {
        "id": "3Lb2hgQjCqd-"
      },
      "source": [
        "input_shape = (256, 256, 3)\n",
        "output_depth = 1\n",
        "batch_size=None\n",
        "model = dlc.models.base.csrnet.create_csrnet_b(input_shape,\n",
        "                                           output_depth,\n",
        "                                           batch_size=batch_size,\n",
        "                                           name='csrnet_test',\n",
        "                                           initializer_seed=0)\n",
        "model.summary()"
      ],
      "execution_count": null,
      "outputs": []
    },
    {
      "cell_type": "markdown",
      "metadata": {
        "id": "yh4Z4D34_sZt"
      },
      "source": [
        "## Model training\n"
      ]
    },
    {
      "cell_type": "code",
      "metadata": {
        "id": "HruxqLCkckME"
      },
      "source": [
        "!cd $GITHUB_REPO_NAME && git stash && git pull origin develop && git stash pop"
      ],
      "execution_count": null,
      "outputs": []
    },
    {
      "cell_type": "code",
      "metadata": {
        "id": "1Jk4BaXxcmNk"
      },
      "source": [
        "dataset = \"sahara-sahel\"\n",
        "data_directory = \"data\""
      ],
      "execution_count": null,
      "outputs": []
    },
    {
      "cell_type": "code",
      "metadata": {
        "id": "FMce0d3RcmfY"
      },
      "source": [
        "dataset = \"rwanda\"\n",
        "data_directory = \"data\""
      ],
      "execution_count": null,
      "outputs": []
    },
    {
      "cell_type": "code",
      "metadata": {
        "id": "iN0uhhXIkJLl"
      },
      "source": [
        "%%time\n",
        "frames = download_frames_zip(dataset, namespace=\"frames\", suffix=\"density-0_9\")"
      ],
      "execution_count": null,
      "outputs": []
    },
    {
      "cell_type": "code",
      "metadata": {
        "id": "QFqn_pyThgZl"
      },
      "source": [
        "frames.columns"
      ],
      "execution_count": null,
      "outputs": []
    },
    {
      "cell_type": "code",
      "metadata": {
        "id": "Th4xDh7exUe_"
      },
      "source": [
        "!ls -l $data_directory/datasets/frames/$dataset | wc -l"
      ],
      "execution_count": null,
      "outputs": []
    },
    {
      "cell_type": "code",
      "metadata": {
        "id": "-xxqCCSy-OAY"
      },
      "source": [
        "# Optional: to load existing models (e.g. for evaluation)\n",
        "!ln -s $BASE_PATH/models $data_directory/models"
      ],
      "execution_count": null,
      "outputs": []
    },
    {
      "cell_type": "code",
      "metadata": {
        "id": "E01-ljNLiPeq"
      },
      "source": [
        "!ls -l data/models"
      ],
      "execution_count": null,
      "outputs": []
    },
    {
      "cell_type": "code",
      "metadata": {
        "id": "75TwBbMTmorB"
      },
      "source": [
        "%%writefile train.sh\n",
        "#!/bin/bash\n",
        "\n",
        "export DLC_PROJECT_DIRECTORY=\"./counting-trees-private\"\n",
        "export DLC_DATA_DIRECTORY=\"./data\"\n",
        "\n",
        "\n",
        "python3 $DLC_PROJECT_DIRECTORY/scripts/train_eval.py --config \\\n",
        "    seeds \\\n",
        "    ds/sahel \\\n",
        "    multi0/model \\\n",
        "    multi0/density-block-adapter \\\n",
        "    multi0/gt-adapter-g4 \\\n",
        "    multi0/loss/b1wds \\\n",
        "    multi0/metrics multi0/plots \\\n",
        "    opt/cyclical/sgd \\\n",
        "    --train 100 \\\n",
        "    --seed 0 \\\n",
        "    --datadir $DLC_DATA_DIRECTORY \\\n",
        "    --projectdir $DLC_PROJECT_DIRECTORY"
      ],
      "execution_count": null,
      "outputs": []
    },
    {
      "cell_type": "code",
      "metadata": {
        "id": "Vo9k96XEcy0x"
      },
      "source": [
        "!sh train.sh"
      ],
      "execution_count": null,
      "outputs": []
    },
    {
      "cell_type": "markdown",
      "metadata": {
        "id": "EtCauKRDcHVF"
      },
      "source": [
        "## Model evaluation"
      ]
    },
    {
      "cell_type": "code",
      "metadata": {
        "id": "RN0TkAAB-4Vf"
      },
      "source": [
        "!cd $GITHUB_REPO_NAME && git stash && git pull origin develop && git stash pop"
      ],
      "execution_count": null,
      "outputs": []
    },
    {
      "cell_type": "code",
      "metadata": {
        "id": "YzHiu5UHXqft"
      },
      "source": [
        "import dlc.tools.evaluation\n",
        "importlib.reload(dlc.tools.evaluation)"
      ],
      "execution_count": null,
      "outputs": []
    },
    {
      "cell_type": "markdown",
      "metadata": {
        "id": "NbsbGRp3QASj"
      },
      "source": [
        "### Experiment: Cover"
      ]
    },
    {
      "cell_type": "code",
      "metadata": {
        "id": "XqhiwC3GsJjm"
      },
      "source": [
        "models_path = f\"{BASE_PATH}/models/archive_final\"\n",
        "settings_path = f\"counting-trees-private/config/tables/cover.yml\"\n",
        "table, df = dlc.tools.evaluation.make_table(models_path, settings_path, hidecolumns=[\"Seed\", \"Loss\"],\n",
        "                                           format_rows=\"best\", showindex=\"never\", tablefmt=\"html\", verbose=True, group_by=\"Dataset\")"
      ],
      "execution_count": null,
      "outputs": []
    },
    {
      "cell_type": "code",
      "metadata": {
        "id": "jgiXcUIQmK0A"
      },
      "source": [
        "display(HTML(table))"
      ],
      "execution_count": null,
      "outputs": []
    },
    {
      "cell_type": "markdown",
      "metadata": {
        "id": "OcCqYEQGsCpn"
      },
      "source": [
        "#### Sahara"
      ]
    },
    {
      "cell_type": "code",
      "metadata": {
        "id": "XTLrbrhEtd4X"
      },
      "source": [
        "fig = dlc.tools.evaluation.make_plot(models_path, settings_path, figsize=(12, 6), legend_pos=1, show_legend=True,\n",
        "                                     label_cols=[\"model\", \"loss_short\"], label_type=\"str\", legend_cols=1,\n",
        "                                     key=\"loss\", key_label=\"Loss\", sharey=True, dataset=\"Sahara\",\n",
        "                                     key_best=\"min\",)"
      ],
      "execution_count": null,
      "outputs": []
    },
    {
      "cell_type": "code",
      "metadata": {
        "id": "2xRSukdQtoSG"
      },
      "source": [
        "filename = \"figures/cover_model_sahara_loss.pdf\"\n",
        "fig.savefig(filename, bbox_inches=\"tight\")\n",
        "files.download(filename)"
      ],
      "execution_count": null,
      "outputs": []
    },
    {
      "cell_type": "code",
      "metadata": {
        "id": "52Vle9iJqH4t"
      },
      "source": [
        "fig = dlc.tools.evaluation.make_plot(models_path, settings_path, figsize=(12, 6), legend_pos=1, show_legend=True,\n",
        "                                     label_cols=[\"model\", \"loss_short\"], label_type=\"str\", legend_cols=1,\n",
        "                                     key=\"cover_r_square\", key_label=\"Cover $R^2$\", sharey=False, dataset=\"Sahara\",\n",
        "                                     key_best=\"max\",\n",
        "                                     hlines=(0.0, 1.0,), start_at=5)"
      ],
      "execution_count": null,
      "outputs": []
    },
    {
      "cell_type": "code",
      "metadata": {
        "id": "0D3V-9jVu1YF"
      },
      "source": [
        "filename = \"figures/cover_model_sahara_cover_r2.pdf\"\n",
        "fig.savefig(filename, bbox_inches=\"tight\")\n",
        "files.download(filename)"
      ],
      "execution_count": null,
      "outputs": []
    },
    {
      "cell_type": "code",
      "metadata": {
        "id": "u9NkW3yxsOA0"
      },
      "source": [
        "fig = dlc.tools.evaluation.make_plot(models_path, settings_path, figsize=(12, 6), legend_pos=1, show_legend=True,\n",
        "                                     label_cols=[\"model\", \"loss_short\"], label_type=\"str\", legend_cols=1,\n",
        "                                     key=\"segmentation_map_mcc\", key_label=\"MCC\", sharey=False, dataset=\"Sahara\",\n",
        "                                     key_best=\"max\",\n",
        "                                     hlines=(1.0,), start_at=5)"
      ],
      "execution_count": null,
      "outputs": []
    },
    {
      "cell_type": "code",
      "metadata": {
        "id": "djxtaSn6u8Lw"
      },
      "source": [
        "filename = \"figures/cover_model_sahara_cover_mcc.pdf\"\n",
        "fig.savefig(filename, bbox_inches=\"tight\")\n",
        "files.download(filename)"
      ],
      "execution_count": null,
      "outputs": []
    },
    {
      "cell_type": "code",
      "metadata": {
        "id": "XdSsY5kpiTsk"
      },
      "source": [
        "fig = dlc.tools.evaluation.make_plot(models_path, settings_path, figsize=(12, 6), legend_pos=1, show_legend=True,\n",
        "                                     label_cols=[\"model\", \"loss_short\"], label_type=\"str\", legend_cols=1,\n",
        "                                     key=\"segmentation_map_r_square\", key_label=\"Segmentation Map $R^2$\", sharey=False, dataset=\"Sahara\",\n",
        "                                     key_best=\"max\",\n",
        "                                     hlines=(1.0,), start_at=5)"
      ],
      "execution_count": null,
      "outputs": []
    },
    {
      "cell_type": "code",
      "metadata": {
        "id": "5o8JcnYeiT8q"
      },
      "source": [
        "filename = \"figures/cover_model_sahara_seg_map_r2.pdf\"\n",
        "fig.savefig(filename, bbox_inches=\"tight\")\n",
        "files.download(filename)"
      ],
      "execution_count": null,
      "outputs": []
    },
    {
      "cell_type": "markdown",
      "metadata": {
        "id": "shtnAtRt0rC3"
      },
      "source": [
        "#### Sahel"
      ]
    },
    {
      "cell_type": "code",
      "metadata": {
        "id": "P6ZsCI7J0rC4"
      },
      "source": [
        "fig = dlc.tools.evaluation.make_plot(models_path, settings_path, figsize=(12, 6), legend_pos=1, show_legend=True,\n",
        "                                     label_cols=[\"model\", \"loss_short\"], label_type=\"str\", legend_cols=1,\n",
        "                                     key=\"loss\", key_label=\"Loss\", sharey=True, dataset=\"Sahel-Sudan\",\n",
        "                                     key_best=\"min\",)"
      ],
      "execution_count": null,
      "outputs": []
    },
    {
      "cell_type": "code",
      "metadata": {
        "id": "3gaMpnG10rC5"
      },
      "source": [
        "filename = \"figures/cover_model_sahel_loss.pdf\"\n",
        "fig.savefig(filename, bbox_inches=\"tight\")\n",
        "files.download(filename)"
      ],
      "execution_count": null,
      "outputs": []
    },
    {
      "cell_type": "code",
      "metadata": {
        "id": "gSM4NBY60rC6"
      },
      "source": [
        "fig = dlc.tools.evaluation.make_plot(models_path, settings_path, figsize=(12, 6), legend_pos=1, show_legend=True,\n",
        "                                     label_cols=[\"model\", \"loss_short\"], label_type=\"str\", legend_cols=1,\n",
        "                                     key=\"cover_r_square\", key_label=\"Cover $R^2$\", sharey=False, dataset=\"Sahel-Sudan\",\n",
        "                                     key_best=\"max\",\n",
        "                                     hlines=(0.0, 1.0,), start_at=5)"
      ],
      "execution_count": null,
      "outputs": []
    },
    {
      "cell_type": "code",
      "metadata": {
        "id": "XZrOGo4f0rC7"
      },
      "source": [
        "filename = \"figures/cover_model_sahel_cover_r2.pdf\"\n",
        "fig.savefig(filename, bbox_inches=\"tight\")\n",
        "files.download(filename)"
      ],
      "execution_count": null,
      "outputs": []
    },
    {
      "cell_type": "code",
      "metadata": {
        "id": "Z9iqy3Cs0rC8"
      },
      "source": [
        "fig = dlc.tools.evaluation.make_plot(models_path, settings_path, figsize=(12, 6), legend_pos=1, show_legend=True,\n",
        "                                     label_cols=[\"model\", \"loss_short\"], label_type=\"str\", legend_cols=1,\n",
        "                                     key=\"segmentation_map_mcc\", key_label=\"MCC\", sharey=False, dataset=\"Sahel-Sudan\",\n",
        "                                     key_best=\"max\",\n",
        "                                     hlines=(1.0, 0.0), start_at=0)"
      ],
      "execution_count": null,
      "outputs": []
    },
    {
      "cell_type": "code",
      "metadata": {
        "id": "c-d5HM480rC9"
      },
      "source": [
        "filename = \"figures/cover_model_sahel_cover_mcc.pdf\"\n",
        "fig.savefig(filename, bbox_inches=\"tight\")\n",
        "files.download(filename)"
      ],
      "execution_count": null,
      "outputs": []
    },
    {
      "cell_type": "code",
      "metadata": {
        "id": "Mmc9WmL9shk4"
      },
      "source": [
        "fig = dlc.tools.evaluation.make_plot(models_path, settings_path, figsize=(12, 6), legend_pos=1, show_legend=True,\n",
        "                                     label_cols=[\"model\", \"loss_short\"], label_type=\"str\", legend_cols=1,\n",
        "                                     key=\"segmentation_map_r_square\", key_label=\"Segmentation Map $R^2$\", sharey=False, dataset=\"Sahel-Sudan\",\n",
        "                                     key_best=\"max\",\n",
        "                                     hlines=(0.0, 1.0), start_at=5)"
      ],
      "execution_count": null,
      "outputs": []
    },
    {
      "cell_type": "code",
      "metadata": {
        "id": "AWs3yKLWvAJZ"
      },
      "source": [
        "filename = \"figures/cover_model_sahel_seg_map_r2.pdf\"\n",
        "fig.savefig(filename, bbox_inches=\"tight\")\n",
        "files.download(filename)"
      ],
      "execution_count": null,
      "outputs": []
    },
    {
      "cell_type": "markdown",
      "metadata": {
        "id": "Rin7n1KW655I"
      },
      "source": [
        "#### Rwanda"
      ]
    },
    {
      "cell_type": "code",
      "metadata": {
        "id": "S794LgGO655N"
      },
      "source": [
        "fig = dlc.tools.evaluation.make_plot(models_path, settings_path, figsize=(12, 6), legend_pos=1, show_legend=True,\n",
        "                                     label_cols=[\"model\", \"loss_short\"], label_type=\"str\", legend_cols=1,\n",
        "                                     key=\"loss\", key_label=\"Loss\", sharey=True, dataset=\"Rwanda\",\n",
        "                                     key_best=\"min\",)"
      ],
      "execution_count": null,
      "outputs": []
    },
    {
      "cell_type": "code",
      "metadata": {
        "id": "WPDxHNsc655O"
      },
      "source": [
        "filename = \"figures/cover_model_rwanda_loss.pdf\"\n",
        "fig.savefig(filename, bbox_inches=\"tight\")\n",
        "files.download(filename)"
      ],
      "execution_count": null,
      "outputs": []
    },
    {
      "cell_type": "code",
      "metadata": {
        "id": "A0LF5kmP655P"
      },
      "source": [
        "fig = dlc.tools.evaluation.make_plot(models_path, settings_path, figsize=(12, 6), legend_pos=1, show_legend=True,\n",
        "                                     label_cols=[\"model\", \"loss_short\"], label_type=\"str\", legend_cols=1,\n",
        "                                     key=\"cover_r_square\", key_label=\"Cover $R^2$\", sharey=False, dataset=\"Rwanda\",\n",
        "                                     key_best=\"max\",\n",
        "                                     hlines=(0.0, 1.0,), start_at=5)"
      ],
      "execution_count": null,
      "outputs": []
    },
    {
      "cell_type": "code",
      "metadata": {
        "id": "1l2-nPWJ655P"
      },
      "source": [
        "filename = \"figures/cover_model_rwanda_cover_r2.pdf\"\n",
        "fig.savefig(filename, bbox_inches=\"tight\")\n",
        "files.download(filename)"
      ],
      "execution_count": null,
      "outputs": []
    },
    {
      "cell_type": "code",
      "metadata": {
        "id": "zPIhTZT4655Q"
      },
      "source": [
        "fig = dlc.tools.evaluation.make_plot(models_path, settings_path, figsize=(12, 6), legend_pos=1, show_legend=True,\n",
        "                                     label_cols=[\"model\", \"loss_short\"], label_type=\"str\", legend_cols=1,\n",
        "                                     key=\"segmentation_map_mcc\", key_label=\"MCC\", sharey=False, dataset=\"Rwanda\",\n",
        "                                     key_best=\"max\",\n",
        "                                     hlines=(1.0, 0.0), start_at=0)"
      ],
      "execution_count": null,
      "outputs": []
    },
    {
      "cell_type": "code",
      "metadata": {
        "id": "ay3IFKVd655Q"
      },
      "source": [
        "filename = \"figures/cover_model_rwanda_cover_mcc.pdf\"\n",
        "fig.savefig(filename, bbox_inches=\"tight\")\n",
        "files.download(filename)"
      ],
      "execution_count": null,
      "outputs": []
    },
    {
      "cell_type": "code",
      "metadata": {
        "id": "eQA8EzKV655R"
      },
      "source": [
        "fig = dlc.tools.evaluation.make_plot(models_path, settings_path, figsize=(12, 6), legend_pos=1, show_legend=True,\n",
        "                                     label_cols=[\"model\", \"loss_short\"], label_type=\"str\", legend_cols=1,\n",
        "                                     key=\"segmentation_map_r_square\", key_label=\"Segmentation Map $R^2$\", sharey=False, dataset=\"Rwanda\",\n",
        "                                     key_best=\"max\",\n",
        "                                     hlines=(0.0, 1.0), start_at=5)"
      ],
      "execution_count": null,
      "outputs": []
    },
    {
      "cell_type": "code",
      "metadata": {
        "id": "Ql1ZTl-k655R"
      },
      "source": [
        "filename = \"figures/cover_model_rwanda_seg_map_r2.pdf\"\n",
        "fig.savefig(filename, bbox_inches=\"tight\")\n",
        "files.download(filename)"
      ],
      "execution_count": null,
      "outputs": []
    },
    {
      "cell_type": "markdown",
      "metadata": {
        "id": "UyMS2bbe0kPM"
      },
      "source": [
        "#### Sahel-Sudan"
      ]
    },
    {
      "cell_type": "markdown",
      "metadata": {
        "id": "CVHCyHddQGul"
      },
      "source": [
        "### Experiment: Density GTs"
      ]
    },
    {
      "cell_type": "code",
      "metadata": {
        "id": "ZJDKi4peQGun"
      },
      "source": [
        "models_path = f\"{BASE_PATH}/models/archive_final\"\n",
        "settings_path = f\"counting-trees-private/config/tables/density-gt.yml\"\n",
        "table, df = dlc.tools.evaluation.make_table(models_path, settings_path, hidecolumns=[\"Loss\", \"Seed\"],\n",
        "                                            format_rows=\"best\", showindex=\"never\", tablefmt=\"html\")"
      ],
      "execution_count": null,
      "outputs": []
    },
    {
      "cell_type": "code",
      "metadata": {
        "id": "-PQYj8HeVvD1"
      },
      "source": [
        "display(HTML(table))"
      ],
      "execution_count": null,
      "outputs": []
    },
    {
      "cell_type": "code",
      "metadata": {
        "id": "412Agg8Z88pO"
      },
      "source": [
        "models_path = f\"{BASE_PATH}/models/archive_final\"\n",
        "settings_path = f\"counting-trees-private/config/tables/density-gt.yml\"\n",
        "table, df = dlc.tools.evaluation.make_table(models_path, settings_path, hidecolumns=[\"Loss\", \"Seed\", \"Best Epoch\"],\n",
        "                                            format_rows=\"best\", showindex=\"never\", tablefmt=\"html\", is_test=True)"
      ],
      "execution_count": null,
      "outputs": []
    },
    {
      "cell_type": "code",
      "metadata": {
        "id": "mpLxvx8U9DMn"
      },
      "source": [
        "display(HTML(table))"
      ],
      "execution_count": null,
      "outputs": []
    },
    {
      "cell_type": "markdown",
      "metadata": {
        "id": "0j5Fba2CrSVD"
      },
      "source": [
        "#### Sahara"
      ]
    },
    {
      "cell_type": "code",
      "metadata": {
        "id": "YORRhkZs_YMQ"
      },
      "source": [
        "!mkdir -p figures"
      ],
      "execution_count": null,
      "outputs": []
    },
    {
      "cell_type": "code",
      "metadata": {
        "id": "QbEUqSALoMvz"
      },
      "source": [
        "fig = dlc.tools.evaluation.make_plot(models_path, settings_path, figsize=(12, 6), legend_pos=1, show_legend=True,\n",
        "                                     key=\"loss\", key_label=\"Loss\", sharey=True,\n",
        "                                     dataset=\"Sahara\", label_type=\"str\", label_cols=[\"model\", \"gt\"],\n",
        "                                     monitor_key=\"val_loss\", monitor_best=\"min\",\n",
        "                                     legend_cols=1,)"
      ],
      "execution_count": null,
      "outputs": []
    },
    {
      "cell_type": "code",
      "metadata": {
        "id": "7RNhRsC0_bjO"
      },
      "source": [
        "filename = \"figures/density_model_sahara_loss.pdf\"\n",
        "fig.savefig(filename, bbox_inches=\"tight\")\n",
        "files.download(filename)"
      ],
      "execution_count": null,
      "outputs": []
    },
    {
      "cell_type": "code",
      "metadata": {
        "id": "GzX62FfQZqHh"
      },
      "source": [
        "fig = dlc.tools.evaluation.make_plot(models_path, settings_path, figsize=(12, 6), legend_pos=1, show_legend=True,\n",
        "                                     key=\"count_r_square\", key_label=\"Count $R^2$\", sharey=False,\n",
        "                                     dataset=\"Sahara\", label_type=\"str\", label_cols=[\"model\", \"gt\"],\n",
        "                                     key_best=\"max\",\n",
        "                                     legend_cols=1, hlines=(1.0,))"
      ],
      "execution_count": null,
      "outputs": []
    },
    {
      "cell_type": "code",
      "metadata": {
        "id": "3d0gKXht_v4c"
      },
      "source": [
        "filename = \"figures/density_model_sahara_count_r2.pdf\"\n",
        "fig.savefig(filename, bbox_inches=\"tight\")\n",
        "files.download(filename)"
      ],
      "execution_count": null,
      "outputs": []
    },
    {
      "cell_type": "code",
      "metadata": {
        "id": "baFBWNLZrZKn"
      },
      "source": [
        "fig = dlc.tools.evaluation.make_plot(models_path, settings_path, figsize=(12, 6), legend_pos=1, show_legend=True,\n",
        "                                     key=\"density_map_r_square\", key_label=\"Density Map $R^2$\", sharey=False,\n",
        "                                     dataset=\"Sahara\", label_type=\"str\", label_cols=[\"model\", \"gt\"],\n",
        "                                     key_best=\"max\",\n",
        "                                     legend_cols=1, hlines=(0.0, 1.0,))"
      ],
      "execution_count": null,
      "outputs": []
    },
    {
      "cell_type": "code",
      "metadata": {
        "id": "lu2_fO6m_2gm"
      },
      "source": [
        "filename = \"figures/density_model_sahara_dm_r2.pdf\"\n",
        "fig.savefig(filename, bbox_inches=\"tight\")\n",
        "files.download(filename)"
      ],
      "execution_count": null,
      "outputs": []
    },
    {
      "cell_type": "code",
      "metadata": {
        "id": "CCVtAS_SC6il"
      },
      "source": [
        "fig = dlc.tools.evaluation.make_plot(models_path, settings_path, figsize=(12, 6), legend_pos=1, show_legend=True,\n",
        "                                     key=\"cover_r_square\", key_label=\"Cover $R^2$\", sharey=False,\n",
        "                                     dataset=\"Sahara\", label_type=\"str\", label_cols=[\"model\", \"gt\"],\n",
        "                                     key_best=\"max\",\n",
        "                                     legend_cols=1, hlines=(0.0, 1.0,), start_at=10)"
      ],
      "execution_count": null,
      "outputs": []
    },
    {
      "cell_type": "code",
      "metadata": {
        "id": "mALaISqlC-cv"
      },
      "source": [
        "filename = \"figures/density_model_sahara_cover_r2.pdf\"\n",
        "fig.savefig(filename, bbox_inches=\"tight\")\n",
        "files.download(filename)"
      ],
      "execution_count": null,
      "outputs": []
    },
    {
      "cell_type": "markdown",
      "metadata": {
        "id": "fMfuEoUTAT6F"
      },
      "source": [
        "#### Sahel"
      ]
    },
    {
      "cell_type": "code",
      "metadata": {
        "id": "2-BSB-AMAT6H"
      },
      "source": [
        "!mkdir -p figures"
      ],
      "execution_count": null,
      "outputs": []
    },
    {
      "cell_type": "code",
      "metadata": {
        "id": "nx73C8t4AT6I"
      },
      "source": [
        "fig = dlc.tools.evaluation.make_plot(models_path, settings_path, figsize=(12, 6), legend_pos=1, show_legend=True,\n",
        "                                     key=\"loss\", key_label=\"Loss\", sharey=False,\n",
        "                                     dataset=\"Sahel-Sudan\", label_type=\"str\", label_cols=[\"model\", \"gt\"],\n",
        "                                     monitor_key=\"val_loss\", monitor_best=\"min\",\n",
        "                                     legend_cols=1,)"
      ],
      "execution_count": null,
      "outputs": []
    },
    {
      "cell_type": "code",
      "metadata": {
        "id": "V0MeyH2ZAT6J"
      },
      "source": [
        "filename = \"figures/density_model_sahel_loss.pdf\"\n",
        "fig.savefig(filename, bbox_inches=\"tight\")\n",
        "files.download(filename)"
      ],
      "execution_count": null,
      "outputs": []
    },
    {
      "cell_type": "code",
      "metadata": {
        "id": "r7vTIqOsAT6J"
      },
      "source": [
        "fig = dlc.tools.evaluation.make_plot(models_path, settings_path, figsize=(12, 6), legend_pos=1, show_legend=True,\n",
        "                                     key=\"count_r_square\", key_label=\"Count $R^2$\", sharey=False,\n",
        "                                     dataset=\"Sahel-Sudan\", label_type=\"str\", label_cols=[\"model\", \"gt\"],\n",
        "                                     key_best=\"max\",\n",
        "                                     legend_cols=1, hlines=(1.0,))"
      ],
      "execution_count": null,
      "outputs": []
    },
    {
      "cell_type": "code",
      "metadata": {
        "id": "Birw-WRpAT6K"
      },
      "source": [
        "filename = \"figures/density_model_sahel_count_r2.pdf\"\n",
        "fig.savefig(filename, bbox_inches=\"tight\")\n",
        "files.download(filename)"
      ],
      "execution_count": null,
      "outputs": []
    },
    {
      "cell_type": "code",
      "metadata": {
        "id": "MgB4l_GSAT6K"
      },
      "source": [
        "fig = dlc.tools.evaluation.make_plot(models_path, settings_path, figsize=(12, 6), legend_pos=1, show_legend=True,\n",
        "                                     key=\"density_map_r_square\", key_label=\"Density Map $R^2$\", sharey=False,\n",
        "                                     dataset=\"Sahel-Sudan\", label_type=\"str\", label_cols=[\"model\", \"gt\"],\n",
        "                                     key_best=\"max\",\n",
        "                                     legend_cols=1, hlines=(0.0, 1.0,))"
      ],
      "execution_count": null,
      "outputs": []
    },
    {
      "cell_type": "code",
      "metadata": {
        "id": "8eN2DHo1AT6L"
      },
      "source": [
        "filename = \"figures/density_model_sahel_dm_r2.pdf\"\n",
        "fig.savefig(filename, bbox_inches=\"tight\")\n",
        "files.download(filename)"
      ],
      "execution_count": null,
      "outputs": []
    },
    {
      "cell_type": "code",
      "metadata": {
        "id": "NPjpr6LFDWRE"
      },
      "source": [
        "fig = dlc.tools.evaluation.make_plot(models_path, settings_path, figsize=(12, 6), legend_pos=1, show_legend=True,\n",
        "                                     key=\"cover_r_square\", key_label=\"Cover $R^2$\", sharey=False,\n",
        "                                     dataset=\"Sahel-Sudan\", label_type=\"str\", label_cols=[\"model\", \"gt\"],\n",
        "                                     key_best=\"max\",\n",
        "                                     legend_cols=1, hlines=(0.0, 1.0,), start_at=10)"
      ],
      "execution_count": null,
      "outputs": []
    },
    {
      "cell_type": "code",
      "metadata": {
        "id": "q7SovbFkDdvj"
      },
      "source": [
        "filename = \"figures/density_model_sahel_cover_r2.pdf\"\n",
        "fig.savefig(filename, bbox_inches=\"tight\")\n",
        "files.download(filename)"
      ],
      "execution_count": null,
      "outputs": []
    },
    {
      "cell_type": "markdown",
      "metadata": {
        "id": "sLb29acXBIBO"
      },
      "source": [
        "#### Rwanda"
      ]
    },
    {
      "cell_type": "code",
      "metadata": {
        "id": "aZrJRqDIBIBP"
      },
      "source": [
        "!mkdir -p figures"
      ],
      "execution_count": null,
      "outputs": []
    },
    {
      "cell_type": "code",
      "metadata": {
        "id": "Pr_X7DMuBIBP"
      },
      "source": [
        "fig = dlc.tools.evaluation.make_plot(models_path, settings_path, figsize=(12, 6), legend_pos=1, show_legend=True,\n",
        "                                     key=\"loss\", key_label=\"Loss\", sharey=False,\n",
        "                                     dataset=\"Rwanda\", label_type=\"str\", label_cols=[\"model\", \"gt\"],\n",
        "                                     monitor_key=\"val_loss\", monitor_best=\"min\",\n",
        "                                     legend_cols=1,)"
      ],
      "execution_count": null,
      "outputs": []
    },
    {
      "cell_type": "code",
      "metadata": {
        "id": "_0dTJY17BIBQ"
      },
      "source": [
        "filename = \"figures/density_model_rwanda_loss.pdf\"\n",
        "fig.savefig(filename, bbox_inches=\"tight\")\n",
        "files.download(filename)"
      ],
      "execution_count": null,
      "outputs": []
    },
    {
      "cell_type": "code",
      "metadata": {
        "id": "DSeu89PfBIBQ"
      },
      "source": [
        "fig = dlc.tools.evaluation.make_plot(models_path, settings_path, figsize=(12, 6), legend_pos=1, show_legend=True,\n",
        "                                     key=\"count_r_square\", key_label=\"Count $R^2$\", sharey=False,\n",
        "                                     dataset=\"Sahel-Sudan\", label_type=\"str\", label_cols=[\"model\", \"gt\"],\n",
        "                                     key_best=\"max\",\n",
        "                                     legend_cols=1, hlines=(1.0,))"
      ],
      "execution_count": null,
      "outputs": []
    },
    {
      "cell_type": "code",
      "metadata": {
        "id": "UtRWp-n9BIBQ"
      },
      "source": [
        "filename = \"figures/density_model_rwanda_count_r2.pdf\"\n",
        "fig.savefig(filename, bbox_inches=\"tight\")\n",
        "files.download(filename)"
      ],
      "execution_count": null,
      "outputs": []
    },
    {
      "cell_type": "code",
      "metadata": {
        "id": "0Yg9Ora_BIBR"
      },
      "source": [
        "fig = dlc.tools.evaluation.make_plot(models_path, settings_path, figsize=(12, 6), legend_pos=1, show_legend=True,\n",
        "                                     key=\"density_map_r_square\", key_label=\"Density Map $R^2$\", sharey=False,\n",
        "                                     dataset=\"Rwanda\", label_type=\"str\", label_cols=[\"model\", \"gt\"],\n",
        "                                     key_best=\"max\",\n",
        "                                     legend_cols=1, hlines=(0.0, 1.0,))"
      ],
      "execution_count": null,
      "outputs": []
    },
    {
      "cell_type": "code",
      "metadata": {
        "id": "ifAufZxkBIBS"
      },
      "source": [
        "filename = \"figures/density_model_rwanda_dm_r2.pdf\"\n",
        "fig.savefig(filename, bbox_inches=\"tight\")\n",
        "files.download(filename)"
      ],
      "execution_count": null,
      "outputs": []
    },
    {
      "cell_type": "code",
      "metadata": {
        "id": "hRjt0jhVDkXy"
      },
      "source": [
        "fig = dlc.tools.evaluation.make_plot(models_path, settings_path, figsize=(12, 6), legend_pos=1, show_legend=True,\n",
        "                                     key=\"cover_r_square\", key_label=\"Cover $R^2$\", sharey=False,\n",
        "                                     dataset=\"Rwanda\", label_type=\"str\", label_cols=[\"model\", \"gt\"],\n",
        "                                     key_best=\"max\",\n",
        "                                     legend_cols=1, hlines=(0.0, 1.0,), start_at=10)"
      ],
      "execution_count": null,
      "outputs": []
    },
    {
      "cell_type": "code",
      "metadata": {
        "id": "qorQaXskDn8v"
      },
      "source": [
        "filename = \"figures/density_model_rwanda_cover_r2.pdf\"\n",
        "fig.savefig(filename, bbox_inches=\"tight\")\n",
        "files.download(filename)"
      ],
      "execution_count": null,
      "outputs": []
    },
    {
      "cell_type": "markdown",
      "metadata": {
        "id": "DIjcIhA5tdyi"
      },
      "source": [
        "### Experiment: Density Optimizer"
      ]
    },
    {
      "cell_type": "code",
      "metadata": {
        "id": "eM43Hz3Ntdyp"
      },
      "source": [
        "models_path = f\"{BASE_PATH}/models/archive_final\"\n",
        "settings_path = f\"counting-trees-private/config/tables/density-250.yml\"\n",
        "table, df = dlc.tools.evaluation.make_table(models_path, settings_path, hidecolumns=[\"Seed\", \"Loss\", \"Folder\"],\n",
        "                                            format_rows=\"best\", showindex=\"never\", tablefmt=\"html\")"
      ],
      "execution_count": null,
      "outputs": []
    },
    {
      "cell_type": "code",
      "metadata": {
        "id": "03r8Up0ztdyr"
      },
      "source": [
        "display(HTML(table))"
      ],
      "execution_count": null,
      "outputs": []
    },
    {
      "cell_type": "code",
      "metadata": {
        "id": "Gj1lw0zKtdys"
      },
      "source": [
        "fig = dlc.tools.evaluation.make_plot(models_path, settings_path, figsize=(12, 3.5), legend_pos=1, show_legend=True,\n",
        "                                     key=\"loss\", key_best=\"min\", key_label=\"Loss\", sharey=True,\n",
        "                                     dataset=\"Sahel-Sudan\", label_type=\"str\", label_cols=[\"opt\"],\n",
        "                                     legend_cols=1, combined=True, legend_loc=\"upper left\", bbox_to_anchor=(1.0, 1.03))"
      ],
      "execution_count": null,
      "outputs": []
    },
    {
      "cell_type": "code",
      "metadata": {
        "id": "LA6cxv2E4izY"
      },
      "source": [
        "filename = \"figures/density_opt_sahel_loss.pdf\"\n",
        "fig.savefig(filename, bbox_inches=\"tight\")\n",
        "files.download(filename)"
      ],
      "execution_count": null,
      "outputs": []
    },
    {
      "cell_type": "code",
      "metadata": {
        "id": "rPitTBcxtdyt"
      },
      "source": [
        "fig = dlc.tools.evaluation.make_plot(models_path, settings_path, figsize=(12, 6), legend_pos=1, show_legend=True,\n",
        "                                     key=\"count_r_square\", key_label=\"Count $R^2$\", sharey=False,\n",
        "                                     dataset=\"Sahel-Sudan\", label_type=\"str\", label_cols=[\"opt\"],\n",
        "                                     key_best=\"max\",\n",
        "                                     legend_cols=1, hlines=(0.0, 1.0,))"
      ],
      "execution_count": null,
      "outputs": []
    },
    {
      "cell_type": "code",
      "metadata": {
        "id": "b0BStwOB4pas"
      },
      "source": [
        "filename = \"figures/density_opt_sahel_count_r2.pdf\"\n",
        "fig.savefig(filename, bbox_inches=\"tight\")\n",
        "files.download(filename)"
      ],
      "execution_count": null,
      "outputs": []
    },
    {
      "cell_type": "code",
      "metadata": {
        "id": "lCa-9vpltdyu"
      },
      "source": [
        "fig = dlc.tools.evaluation.make_plot(models_path, settings_path, figsize=(12, 6), legend_pos=1, show_legend=True,\n",
        "                                     key=\"density_map_r_square\", key_label=\"Density Map $R^2$\", sharey=False,\n",
        "                                     dataset=\"Sahel-Sudan\", label_type=\"str\", label_cols=[\"opt\"],\n",
        "                                     key_best=\"max\",\n",
        "                                     legend_cols=1, hlines=(0.0, 1.0,))"
      ],
      "execution_count": null,
      "outputs": []
    },
    {
      "cell_type": "markdown",
      "metadata": {
        "id": "ZZVHIxgMkyBX"
      },
      "source": [
        "### Experiment: Multitask"
      ]
    },
    {
      "cell_type": "code",
      "metadata": {
        "id": "3R_mQsTdk0Cy"
      },
      "source": [
        "models_path = f\"{BASE_PATH}/models/archive_final\"\n",
        "settings_path = f\"counting-trees-private/config/tables/multitask.yml\"\n",
        "table, df = dlc.tools.evaluation.make_table(models_path, settings_path, hidecolumns=[\"Loss\", \"Seed\"],\n",
        "                                            format_rows=\"best\", showindex=\"never\", tablefmt=\"html\",\n",
        "                                            none_replacement=\"\")"
      ],
      "execution_count": null,
      "outputs": []
    },
    {
      "cell_type": "code",
      "metadata": {
        "id": "HOQbARODlxKS"
      },
      "source": [
        "display(HTML(table))"
      ],
      "execution_count": null,
      "outputs": []
    },
    {
      "cell_type": "code",
      "metadata": {
        "id": "TaVhJx93vo3P"
      },
      "source": [
        "fig = dlc.tools.evaluation.make_plot(models_path, settings_path, figsize=(12, 6), legend_pos=1, show_legend=True,\n",
        "                                     key=\"loss\", key_best=\"min\", key_label=\"Loss\", sharey=False,\n",
        "                                     dataset=\"Sahara\", label_type=\"str\", label_cols=[\"task\", \"opt\"],\n",
        "                                     legend_cols=1, combined=True, legend_loc=\"upper left\", bbox_to_anchor=(1.0, 1.03))"
      ],
      "execution_count": null,
      "outputs": []
    },
    {
      "cell_type": "code",
      "metadata": {
        "id": "Ye7pwJUyFtZV"
      },
      "source": [
        "fig = dlc.tools.evaluation.make_plot(models_path, settings_path, figsize=(12, 6), legend_pos=1, show_legend=True,\n",
        "                                     key=\"count_r_square\", key_label=\"Count $R^2$\", sharey=False,\n",
        "                                     dataset=\"Sahara\", label_type=\"str\", label_cols=[\"task\",\"opt\"],\n",
        "                                     key_best=\"max\",\n",
        "                                     legend_cols=1, hlines=(0.0, 1.0,), start_at=5)"
      ],
      "execution_count": null,
      "outputs": []
    },
    {
      "cell_type": "code",
      "metadata": {
        "id": "26MJVTyyqPA0"
      },
      "source": [
        "models_path = f\"{BASE_PATH}/models/archive_final\"\n",
        "settings_path = f\"counting-trees-private/config/tables/multitask.yml\"\n",
        "table, df = dlc.tools.evaluation.make_table(models_path, settings_path, hidecolumns=[\"Loss\", \"Seed\", \"Folder\", \"Best Epoch\"],\n",
        "                                            format_rows=\"best\", showindex=\"never\", tablefmt=\"html\",\n",
        "                                            none_replacement=\"\", is_test=True)"
      ],
      "execution_count": null,
      "outputs": []
    },
    {
      "cell_type": "code",
      "metadata": {
        "id": "arIGhBdOqbRc"
      },
      "source": [
        "display(HTML(table))"
      ],
      "execution_count": null,
      "outputs": []
    },
    {
      "cell_type": "markdown",
      "metadata": {
        "id": "fnesAqotGFGp"
      },
      "source": [
        "### Evaluation on the test set"
      ]
    },
    {
      "cell_type": "code",
      "metadata": {
        "id": "2GmdB5PGGIBu"
      },
      "source": [
        "%%writefile eval.sh\n",
        "#!/bin/bash\n",
        "\n",
        "export DLC_PROJECT_DIRECTORY=\"./counting-trees-private\"\n",
        "export DLC_DATA_DIRECTORY=\"./data\"\n",
        "\n",
        "python3 $DLC_PROJECT_DIRECTORY/scripts/train_eval.py --config \\\n",
        "    seeds \\\n",
        "    ds/sahel \\\n",
        "    cover/1/model/d4-ds cover/1/loss/b1wds \\\n",
        "    cover/1/eval-metrics \\\n",
        "    opt/cyclical/sgd \\\n",
        "    --models-dir \"models/archive_final\" \\\n",
        "    --eval"
      ],
      "execution_count": null,
      "outputs": []
    },
    {
      "cell_type": "code",
      "metadata": {
        "id": "w5wmT9kVGNId"
      },
      "source": [
        "!sh eval.sh"
      ],
      "execution_count": null,
      "outputs": []
    },
    {
      "cell_type": "markdown",
      "metadata": {
        "id": "O2WFmDUxUbNo"
      },
      "source": [
        "## Visualizing model predictions"
      ]
    },
    {
      "cell_type": "code",
      "metadata": {
        "id": "kGUPg0RgGaqM"
      },
      "source": [
        "dataset = \"sahara-sahel\"\n",
        "data_directory = \"data\""
      ],
      "execution_count": null,
      "outputs": []
    },
    {
      "cell_type": "code",
      "metadata": {
        "id": "3-nyRJsLGa00"
      },
      "source": [
        "dataset = \"rwanda\"\n",
        "data_directory = \"data\""
      ],
      "execution_count": null,
      "outputs": []
    },
    {
      "cell_type": "code",
      "metadata": {
        "id": "J6TVm6-YGZ_4"
      },
      "source": [
        "%%time\n",
        "frames = download_frames_zip(dataset, namespace=\"frames\", suffix=\"density-0_9\")"
      ],
      "execution_count": null,
      "outputs": []
    },
    {
      "cell_type": "markdown",
      "metadata": {
        "id": "FLq7wrmcGWJ1"
      },
      "source": [
        "### Sahara"
      ]
    },
    {
      "cell_type": "code",
      "metadata": {
        "id": "TQ7-7vaQtWht"
      },
      "source": [
        "# Best DM R2: 9, 6\n",
        "# Worst DM R2: 4, 5\n",
        "include = (4, 5, 6, 9)"
      ],
      "execution_count": null,
      "outputs": []
    },
    {
      "cell_type": "code",
      "metadata": {
        "id": "u0wDfhixLuzm"
      },
      "source": [
        "settings_path = f\"counting-trees-private/config/tables/density-gt.yml\"\n",
        "models_path = pathlib.Path(f\"{BASE_PATH}/models/archive_final\")\n",
        "cache = None\n",
        "frames_path = pathlib.Path(f\"./data/datasets/frames/sahara-sahel\")\n",
        "sahara_data = dlc.tools.evaluation.load_models_from_settings(settings_path, models_path, frames_path,\n",
        "                                                      include=(0, 1, 2, 3),\n",
        "                                                      label_cols=(\"model\", \"gt\"), cache=cache)"
      ],
      "execution_count": null,
      "outputs": []
    },
    {
      "cell_type": "markdown",
      "metadata": {
        "id": "p-pOdXLnGb7-"
      },
      "source": [
        "Search for interesting cases:"
      ]
    },
    {
      "cell_type": "code",
      "metadata": {
        "id": "2BV1l56AM8dz"
      },
      "source": [
        "rng = np.random.default_rng()"
      ],
      "execution_count": null,
      "outputs": []
    },
    {
      "cell_type": "code",
      "metadata": {
        "id": "t23b2IV3Ggmg"
      },
      "source": [
        "n_skip = rng.integers(0, 172, size=1)[0]\n",
        "print(n_skip)\n",
        "plotter = dlc.tools.evaluation.CountPredictionPlotter(sahara_data[\"ds\"], sahara_data[\"models\"], sahara_data[\"labels\"])\n",
        "fig = plotter.plot_unique_gt(n_skip, figsize=(6, 4), show_hist=False, include=(0,))"
      ],
      "execution_count": null,
      "outputs": []
    },
    {
      "cell_type": "code",
      "metadata": {
        "id": "Mpg0DrvJKxVt"
      },
      "source": [
        "n_skip_list = [18]"
      ],
      "execution_count": null,
      "outputs": []
    },
    {
      "cell_type": "code",
      "metadata": {
        "id": "fkQZNE9iNuPQ"
      },
      "source": [
        "n_skip = n_skip_list[0]"
      ],
      "execution_count": null,
      "outputs": []
    },
    {
      "cell_type": "markdown",
      "metadata": {
        "id": "79W-glK38BnV"
      },
      "source": [
        "Example for models with independent GTs"
      ]
    },
    {
      "cell_type": "code",
      "metadata": {
        "id": "2ASRilTrj1RS"
      },
      "source": [
        "plotter = dlc.tools.evaluation.CountPredictionPlotter(sahara_data[\"ds\"], sahara_data[\"models\"], sahara_data[\"labels\"])\n",
        "fig = plotter.plot_unique_gt(n_skip, figsize=(8.5, 8), show_hist=True)"
      ],
      "execution_count": null,
      "outputs": []
    },
    {
      "cell_type": "markdown",
      "metadata": {
        "id": "mIW1SXuq8FZq"
      },
      "source": [
        "Example for models with shared GT, here we plot the segmentation mask and the thresholded density map."
      ]
    },
    {
      "cell_type": "code",
      "metadata": {
        "id": "Bly984D08iwe"
      },
      "source": [
        "plotter = dlc.tools.evaluation.DMCoverPredictionPlotter(sahara_data[\"ds\"], sahara_data[\"models\"], sahara_data[\"labels\"])\n",
        "# Note, now the scalar is the cover not the count\n",
        "fig = plotter.plot_common_gt(n_skip, figsize=(10.2, 4), show_hist=True, scalar_format=\"{:.2E}\")"
      ],
      "execution_count": null,
      "outputs": []
    },
    {
      "cell_type": "code",
      "metadata": {
        "id": "hs_nCEnXLA5P"
      },
      "source": [
        "settings_path = f\"counting-trees-private/config/tables/cover.yml\"\n",
        "models_path = pathlib.Path(f\"{BASE_PATH}/models/archive_final\")\n",
        "cache = dlc.tools.cache.ArrayCache()\n",
        "frames_path = pathlib.Path(f\"./data/datasets/frames/sahara-sahel\")\n",
        "sahara_cover_data = dlc.tools.evaluation.load_models_from_settings(settings_path, models_path, frames_path,\n",
        "                                                      label_cols=(\"model\", \"loss\"), cache=cache,\n",
        "                                                      include=(2, 3, 6, 7),\n",
        "                                                      number_labels=False)"
      ],
      "execution_count": null,
      "outputs": []
    },
    {
      "cell_type": "code",
      "metadata": {
        "id": "PACuogrbK_rQ"
      },
      "source": [
        "n_skip = rng.integers(0, 25, size=1)[0]\n",
        "print(n_skip)\n",
        "plotter = dlc.tools.evaluation.CoverPredictionPlotter(sahara_cover_data[\"ds\"], sahara_cover_data[\"models\"], sahara_cover_data[\"labels\"])\n",
        "fig = plotter.plot_unique_gt(n_skip, figsize=(6, 4), show_hist=False, include=(0,))"
      ],
      "execution_count": null,
      "outputs": []
    },
    {
      "cell_type": "code",
      "metadata": {
        "id": "tWitUxv-LkpA"
      },
      "source": [
        "plotter = dlc.tools.evaluation.CoverPredictionPlotter(sahel_cover_data[\"ds\"], sahel_cover_data[\"models\"], sahel_cover_data[\"labels\"])\n",
        "fig = plotter.plot_common_gt(n_skip, figsize=(12, 4), show_hist=True, scalar_format=\"{:.2E}\", log=True)"
      ],
      "execution_count": null,
      "outputs": []
    },
    {
      "cell_type": "code",
      "metadata": {
        "id": "vQqzl0KsLnlO"
      },
      "source": [
        "filename = f\"figures/pred_cover_sahara_{n_skip}.png\"\n",
        "fig.savefig(filename, bbox_inches=\"tight\")\n",
        "files.download(filename)"
      ],
      "execution_count": null,
      "outputs": []
    },
    {
      "cell_type": "code",
      "metadata": {
        "id": "uxHU2booaFd5"
      },
      "source": [
        "settings_path = f\"counting-trees-private/config/tables/multitask.yml\"\n",
        "models_path = pathlib.Path(f\"{BASE_PATH}/models/archive_final\")\n",
        "cache = dlc.tools.cache.ArrayCache()\n",
        "frames_path = pathlib.Path(f\"./data/datasets/frames/sahara-sahel\")\n",
        "sahara_multi_data = dlc.tools.evaluation.load_models_from_settings(settings_path, models_path, frames_path,\n",
        "                                                      label_cols=(\"task\", \"gt\"), cache=cache,\n",
        "                                                      include=(1,2,3),\n",
        "                                                      number_labels=False)"
      ],
      "execution_count": null,
      "outputs": []
    },
    {
      "cell_type": "code",
      "metadata": {
        "id": "kFzd98lHa0Lx"
      },
      "source": [
        "n_skip = 18\n",
        "plotter = dlc.tools.evaluation.CoverPredictionPlotter(sahara_multi_data[\"ds\"], sahara_multi_data[\"models\"], sahara_multi_data[\"labels\"])\n",
        "fig = plotter.plot_common_gt(n_skip, figsize=(12, 4), show_hist=True, scalar_format=\"{:.2E}\", log=True)"
      ],
      "execution_count": null,
      "outputs": []
    },
    {
      "cell_type": "code",
      "metadata": {
        "id": "zVFmau6TbLYE"
      },
      "source": [
        "filename = f\"figures/pred_cover_multi_sahara_{n_skip}.png\"\n",
        "fig.savefig(filename, bbox_inches=\"tight\")\n",
        "files.download(filename)"
      ],
      "execution_count": null,
      "outputs": []
    },
    {
      "cell_type": "markdown",
      "metadata": {
        "id": "ohceFIp1GYeC"
      },
      "source": [
        "### Sahel"
      ]
    },
    {
      "cell_type": "code",
      "metadata": {
        "id": "hVClIYBShyjK"
      },
      "source": [
        "include = (10, 13, 17, 23)"
      ],
      "execution_count": null,
      "outputs": []
    },
    {
      "cell_type": "code",
      "metadata": {
        "id": "0-lH_pNTMfXf"
      },
      "source": [
        "settings_path = f\"counting-trees-private/config/tables/density-gt.yml\"\n",
        "models_path = pathlib.Path(f\"{BASE_PATH}/models/archive_final\")\n",
        "cache = dlc.tools.cache.ArrayCache()\n",
        "frames_path = pathlib.Path(f\"./data/datasets/frames/sahara-sahel\")\n",
        "sahel_data = dlc.tools.evaluation.load_models_from_settings(settings_path, models_path, frames_path,\n",
        "                                                      include=include,\n",
        "                                                      label_cols=(\"model\", \"gt\"), cache=cache,\n",
        "                                                      number_labels=False)"
      ],
      "execution_count": null,
      "outputs": []
    },
    {
      "cell_type": "code",
      "metadata": {
        "id": "fH8KmBIxw5Ym"
      },
      "source": [
        "settings_path = f\"counting-trees-private/config/tables/multitask.yml\"\n",
        "models_path = pathlib.Path(f\"{BASE_PATH}/models/archive_final\")\n",
        "cache = dlc.tools.cache.ArrayCache()\n",
        "frames_path = pathlib.Path(f\"./data/datasets/frames/sahara-sahel\")\n",
        "sahel_data = dlc.tools.evaluation.load_models_from_settings(settings_path, models_path, frames_path,\n",
        "                                                      #include=(6,7,8,9),\n",
        "                                                      include=(5,8,9),\n",
        "                                                      label_cols=(\"task\", \"gt\"), cache=cache,\n",
        "                                                      number_labels=False)"
      ],
      "execution_count": null,
      "outputs": []
    },
    {
      "cell_type": "code",
      "metadata": {
        "id": "Min00G5aTizw"
      },
      "source": [
        "n_skip = rng.integers(0, 70, size=1)[0]\n",
        "print(n_skip)\n",
        "plotter = dlc.tools.evaluation.CountPredictionPlotter(sahel_data[\"ds\"], sahel_data[\"models\"], sahel_data[\"labels\"])\n",
        "fig = plotter.plot_unique_gt(n_skip, figsize=(6, 4), show_hist=False, include=(0,))"
      ],
      "execution_count": null,
      "outputs": []
    },
    {
      "cell_type": "code",
      "metadata": {
        "id": "PorUgivvw-h-"
      },
      "source": [
        "14, 15, 51"
      ],
      "execution_count": null,
      "outputs": []
    },
    {
      "cell_type": "code",
      "metadata": {
        "id": "lwx1YvikwtI8"
      },
      "source": [
        "n_skip = 51"
      ],
      "execution_count": null,
      "outputs": []
    },
    {
      "cell_type": "code",
      "metadata": {
        "id": "bGdTZXRRNaIq"
      },
      "source": [
        "plotter = dlc.tools.evaluation.CountPredictionPlotter(sahel_data[\"ds\"], sahel_data[\"models\"], sahel_data[\"labels\"],\n",
        "                                                      mask=False, y_band_idx=(0, 0, 1, 1,))\n",
        "fig = plotter.plot_unique_gt(n_skip, figsize=(12, 8), show_hist=True, log=True)"
      ],
      "execution_count": null,
      "outputs": []
    },
    {
      "cell_type": "code",
      "metadata": {
        "id": "beI5KrzkoCva"
      },
      "source": [
        "filename = f\"figures/pred_multi_sahel_{n_skip}.png\"\n",
        "fig.savefig(filename, bbox_inches=\"tight\")\n",
        "files.download(filename)"
      ],
      "execution_count": null,
      "outputs": []
    },
    {
      "cell_type": "code",
      "metadata": {
        "id": "i93sPS9lnWtU"
      },
      "source": [
        "plotter = dlc.tools.evaluation.CoverPredictionPlotter(sahel_data[\"ds\"], sahel_data[\"models\"], sahel_data[\"labels\"])\n",
        "fig = plotter.plot_common_gt(n_skip, figsize=(12, 4), show_hist=True, scalar_format=\"{:.2E}\", log=False)"
      ],
      "execution_count": null,
      "outputs": []
    },
    {
      "cell_type": "code",
      "metadata": {
        "id": "NxR2GFqZolNV"
      },
      "source": [
        "filename = f\"figures/pred_multi_cover_sahara_{n_skip}.png\"\n",
        "fig.savefig(filename, bbox_inches=\"tight\")\n",
        "files.download(filename)"
      ],
      "execution_count": null,
      "outputs": []
    },
    {
      "cell_type": "code",
      "metadata": {
        "id": "EqLNmoHLlkmj"
      },
      "source": [
        "n_skip = 18\n",
        "\n",
        "plotter = dlc.tools.evaluation.CountPredictionPlotter(sahel_data[\"ds\"], sahel_data[\"models\"], sahel_data[\"labels\"],\n",
        "                                                      mask=False)\n",
        "fig = plotter.plot_unique_gt(n_skip, figsize=(12, 4), show_hist=False, log=False)"
      ],
      "execution_count": null,
      "outputs": []
    },
    {
      "cell_type": "code",
      "metadata": {
        "id": "icph_yw09k2S"
      },
      "source": [
        "plotter = dlc.tools.evaluation.DMCoverPredictionPlotter(sahel_data[\"ds\"], sahel_data[\"models\"], sahel_data[\"labels\"])\n",
        "fig = plotter.plot_common_gt(n_skip, figsize=(12, 4), show_hist=True, scalar_format=\"{:.2E}\")"
      ],
      "execution_count": null,
      "outputs": []
    },
    {
      "cell_type": "code",
      "metadata": {
        "id": "-FXocVmd-n-T"
      },
      "source": [
        "settings_path = f\"counting-trees-private/config/tables/density-250.yml\"\n",
        "models_path = pathlib.Path(f\"{BASE_PATH}/models/archive_final\")\n",
        "cache = dlc.tools.cache.ArrayCache()\n",
        "frames_path = pathlib.Path(f\"./data/datasets/frames/sahara-sahel\")\n",
        "sahel_opt_data = dlc.tools.evaluation.load_models_from_settings(settings_path, models_path, frames_path,\n",
        "                                                      label_cols=(\"opt\",), cache=cache,\n",
        "                                                      number_labels=False)"
      ],
      "execution_count": null,
      "outputs": []
    },
    {
      "cell_type": "code",
      "metadata": {
        "id": "BTmiAoIa-s1H"
      },
      "source": [
        "plotter = dlc.tools.evaluation.CountPredictionPlotter(sahel_opt_data[\"ds\"], sahel_opt_data[\"models\"], sahel_opt_data[\"labels\"])\n",
        "fig = plotter.plot_common_gt(n_skip, figsize=(12, 4), show_hist=True, log=True)"
      ],
      "execution_count": null,
      "outputs": []
    },
    {
      "cell_type": "code",
      "metadata": {
        "id": "jfsxuI-jFR3J"
      },
      "source": [
        "plotter = dlc.tools.evaluation.CountPredictionPlotter(sahel_opt_data[\"ds\"], sahel_opt_data[\"models\"], sahel_opt_data[\"labels\"])\n",
        "fig = plotter.plot_common_gt(n_skip, figsize=(12, 4), show_hist=False, log=True)"
      ],
      "execution_count": null,
      "outputs": []
    },
    {
      "cell_type": "code",
      "metadata": {
        "id": "yRrKI0woGI-k"
      },
      "source": [
        "settings_path = f\"counting-trees-private/config/tables/cover.yml\"\n",
        "models_path = pathlib.Path(f\"{BASE_PATH}/models/archive_final\")\n",
        "cache = dlc.tools.cache.ArrayCache()\n",
        "frames_path = pathlib.Path(f\"./data/datasets/frames/sahara-sahel\")\n",
        "sahel_cover_data = dlc.tools.evaluation.load_models_from_settings(settings_path, models_path, frames_path,\n",
        "                                                      label_cols=(\"model\", \"loss\"), cache=cache,\n",
        "                                                      include=(10, 11, 14, 15),\n",
        "                                                      number_labels=False)"
      ],
      "execution_count": null,
      "outputs": []
    },
    {
      "cell_type": "code",
      "metadata": {
        "id": "qHaiQLfAIwIK"
      },
      "source": [
        "n_skip = rng.integers(0, 70, size=1)[0]\n",
        "print(n_skip)\n",
        "plotter = dlc.tools.evaluation.CoverPredictionPlotter(sahel_cover_data[\"ds\"], sahel_cover_data[\"models\"], sahel_cover_data[\"labels\"])\n",
        "fig = plotter.plot_unique_gt(n_skip, figsize=(6, 4), show_hist=False, include=(0,))"
      ],
      "execution_count": null,
      "outputs": []
    },
    {
      "cell_type": "code",
      "metadata": {
        "id": "GF2b6hHOHTfs"
      },
      "source": [
        "plotter = dlc.tools.evaluation.CoverPredictionPlotter(sahel_cover_data[\"ds\"], sahel_cover_data[\"models\"], sahel_cover_data[\"labels\"])\n",
        "fig = plotter.plot_common_gt(n_skip, figsize=(12, 4), show_hist=True, log=True)"
      ],
      "execution_count": null,
      "outputs": []
    },
    {
      "cell_type": "code",
      "metadata": {
        "id": "tAtLXmIuH5q2"
      },
      "source": [
        "filename = f\"figures/pred_cover_sahara_{n_skip}.png\"\n",
        "fig.savefig(filename, bbox_inches=\"tight\")\n",
        "files.download(filename)"
      ],
      "execution_count": null,
      "outputs": []
    },
    {
      "cell_type": "code",
      "metadata": {
        "id": "xqopda43H3Ps"
      },
      "source": [
        ""
      ],
      "execution_count": null,
      "outputs": []
    },
    {
      "cell_type": "markdown",
      "metadata": {
        "id": "SMJ22Lp7PxcT"
      },
      "source": [
        "### Rwanda"
      ]
    },
    {
      "cell_type": "code",
      "metadata": {
        "id": "U-YmOCyYPxcb"
      },
      "source": [
        "settings_path = f\"counting-trees-private/config/tables/cover.yml\"\n",
        "models_path = pathlib.Path(f\"{BASE_PATH}/models/archive_final\")\n",
        "cache = dlc.tools.cache.ArrayCache()\n",
        "frames_path = pathlib.Path(f\"./data/datasets/frames/rwanda\")\n",
        "rwanda_cover_data = dlc.tools.evaluation.load_models_from_settings(settings_path, models_path, frames_path,\n",
        "                                                                   include=(18, 19, 22,  23),\n",
        "                                                                   label_cols=(\"model\", \"gt\"), cache=cache,\n",
        "                                                                    number_labels=True)"
      ],
      "execution_count": null,
      "outputs": []
    },
    {
      "cell_type": "code",
      "metadata": {
        "id": "vWlTX60N7Gxx"
      },
      "source": [
        "settings_path = f\"counting-trees-private/config/tables/density-gt.yml\"\n",
        "models_path = pathlib.Path(f\"{BASE_PATH}/models/archive_final\")\n",
        "cache = dlc.tools.cache.ArrayCache()\n",
        "frames_path = pathlib.Path(f\"./data/datasets/frames/rwanda\")\n",
        "rwanda_density_data = dlc.tools.evaluation.load_models_from_settings(settings_path, models_path, frames_path,\n",
        "                                                                     include=(26, 28, 32, 33),\n",
        "                                                                     label_cols=(\"model\", \"gt\"), cache=cache,\n",
        "                                                                      number_labels=False)"
      ],
      "execution_count": null,
      "outputs": []
    },
    {
      "cell_type": "code",
      "metadata": {
        "id": "VxDbQ3GO0c7J"
      },
      "source": [
        "settings_path = f\"counting-trees-private/config/tables/multitask.yml\"\n",
        "models_path = pathlib.Path(f\"{BASE_PATH}/models/archive_final\")\n",
        "cache = dlc.tools.cache.ArrayCache()\n",
        "frames_path = pathlib.Path(f\"./data/datasets/frames/rwanda\")\n",
        "rwanda_density_data = dlc.tools.evaluation.load_models_from_settings(settings_path, models_path, frames_path,\n",
        "                                                                     #include=(11,12,13,14),\n",
        "                                                                     include=(10,13,14),\n",
        "                                                                     label_cols=(\"task\", \"gt\"), cache=cache,\n",
        "                                                                      number_labels=False)"
      ],
      "execution_count": null,
      "outputs": []
    },
    {
      "cell_type": "code",
      "metadata": {
        "id": "fZvDqIfBPxcc"
      },
      "source": [
        "n_skip = rng.integers(0, 506, size=1)[0]\n",
        "print(n_skip)\n",
        "plotter = dlc.tools.evaluation.CountPredictionPlotter(rwanda_density_data[\"ds\"], rwanda_density_data[\"models\"], rwanda_density_data[\"labels\"])\n",
        "fig = plotter.plot_unique_gt(n_skip, figsize=(6, 4), show_hist=False, include=(0,))"
      ],
      "execution_count": null,
      "outputs": []
    },
    {
      "cell_type": "code",
      "metadata": {
        "id": "mGZfLa_51EXR"
      },
      "source": [
        "filename = f\"figures/pred_multi_rwanda_{n_skip}.png\"\n",
        "fig.savefig(filename, bbox_inches=\"tight\")\n",
        "files.download(filename)"
      ],
      "execution_count": null,
      "outputs": []
    },
    {
      "cell_type": "code",
      "metadata": {
        "id": "WyJ_cMxEPxcf"
      },
      "source": [
        "n_skip = 194"
      ],
      "execution_count": null,
      "outputs": []
    },
    {
      "cell_type": "code",
      "metadata": {
        "id": "ilvxJuPQPxcg"
      },
      "source": [
        "plotter = dlc.tools.evaluation.CountPredictionPlotter(rwanda_density_data[\"ds\"], rwanda_density_data[\"models\"], rwanda_density_data[\"labels\"],\n",
        "                                                                     y_band_idx=(0, 0, 1, 1),\n",
        ")\n",
        "fig = plotter.plot_unique_gt(n_skip, figsize=(12, 8), show_hist=True, log=True)"
      ],
      "execution_count": null,
      "outputs": []
    },
    {
      "cell_type": "code",
      "metadata": {
        "id": "McGipNSrdta5"
      },
      "source": [
        "filename = f\"figures/pred_multi_density_rwanda_{n_skip}.png\"\n",
        "fig.savefig(filename, bbox_inches=\"tight\")\n",
        "files.download(filename)"
      ],
      "execution_count": null,
      "outputs": []
    },
    {
      "cell_type": "code",
      "metadata": {
        "id": "xO-phDLFd2qM"
      },
      "source": [
        "plotter = dlc.tools.evaluation.CoverPredictionPlotter(rwanda_density_data[\"ds\"], rwanda_density_data[\"models\"], rwanda_density_data[\"labels\"])\n",
        "fig = plotter.plot_common_gt(n_skip, figsize=(14, 4), show_hist=True)"
      ],
      "execution_count": null,
      "outputs": []
    },
    {
      "cell_type": "code",
      "metadata": {
        "id": "m9Mo0RLFcYm-"
      },
      "source": [
        "filename = f\"figures/pred_multi_cover_rwanda_{n_skip}.png\"\n",
        "fig.savefig(filename, bbox_inches=\"tight\")\n",
        "files.download(filename)"
      ],
      "execution_count": null,
      "outputs": []
    },
    {
      "cell_type": "code",
      "metadata": {
        "id": "prOMLNz3Pxcj"
      },
      "source": [
        "plotter = dlc.tools.evaluation.CountPredictionPlotter(sahel_opt_data[\"ds\"], sahel_opt_data[\"models\"], sahel_opt_data[\"labels\"])\n",
        "fig = plotter.plot_common_gt(n_skip, figsize=(12, 4), show_hist=False, log=True)"
      ],
      "execution_count": null,
      "outputs": []
    },
    {
      "cell_type": "code",
      "metadata": {
        "id": "LYIN4K_ePxck"
      },
      "source": [
        "settings_path = f\"counting-trees-private/config/tables/cover.yml\"\n",
        "models_path = pathlib.Path(f\"{BASE_PATH}/models/archive_final\")\n",
        "cache = dlc.tools.cache.ArrayCache()\n",
        "frames_path = pathlib.Path(f\"./data/datasets/frames/rwanda\")\n",
        "rwanda_cover_data = dlc.tools.evaluation.load_models_from_settings(settings_path, models_path, frames_path,\n",
        "                                                                   include=(18, 19, 22,  23),\n",
        "                                                                   label_cols=(\"model\", \"loss\"), cache=cache,\n",
        "                                                                    number_labels=False)"
      ],
      "execution_count": null,
      "outputs": []
    },
    {
      "cell_type": "code",
      "metadata": {
        "id": "9VlBCPY5Pxcl"
      },
      "source": [
        "n_skip = rng.integers(0, 506, size=1)[0]\n",
        "print(n_skip)\n",
        "plotter = dlc.tools.evaluation.CoverPredictionPlotter(rwanda_cover_data[\"ds\"], rwanda_cover_data[\"models\"], rwanda_cover_data[\"labels\"])\n",
        "fig = plotter.plot_unique_gt(n_skip, figsize=(6, 4), show_hist=False, include=(0,))"
      ],
      "execution_count": null,
      "outputs": []
    },
    {
      "cell_type": "code",
      "metadata": {
        "id": "JefhFWWyPxcm"
      },
      "source": [
        "plotter = dlc.tools.evaluation.CoverPredictionPlotter(rwanda_cover_data[\"ds\"], rwanda_cover_data[\"models\"], rwanda_cover_data[\"labels\"])\n",
        "fig = plotter.plot_common_gt(n_skip, figsize=(12, 4), show_hist=True, log=True)"
      ],
      "execution_count": null,
      "outputs": []
    },
    {
      "cell_type": "code",
      "metadata": {
        "id": "r2G23oqLPxcn"
      },
      "source": [
        "filename = f\"figures/pred_cover_rwanda_{n_skip}.png\"\n",
        "fig.savefig(filename, bbox_inches=\"tight\")\n",
        "files.download(filename)"
      ],
      "execution_count": null,
      "outputs": []
    },
    {
      "cell_type": "code",
      "metadata": {
        "id": "8YiS4btfPxcn"
      },
      "source": [
        ""
      ],
      "execution_count": null,
      "outputs": []
    }
  ]
}
